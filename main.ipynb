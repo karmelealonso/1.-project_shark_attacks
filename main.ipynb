{
 "cells": [
  {
   "cell_type": "markdown",
   "id": "4b40eac4",
   "metadata": {},
   "source": [
    "## GLOBAL SHARCK ATTACKS."
   ]
  },
  {
   "cell_type": "code",
   "execution_count": 1,
   "id": "0ca4a1b1",
   "metadata": {},
   "outputs": [],
   "source": [
    "\n",
    "import pandas as pd\n",
    "pd.set_option('display.max_columns', None)\n",
    "\n",
    "\n",
    "import numpy as np\n",
    "\n",
    "import warnings\n",
    "warnings.filterwarnings('ignore')\n",
    "\n",
    "\n",
    "import pylab as plt  # import matplotlib.pyplot as plt\n",
    "import seaborn as sns\n",
    "\n",
    "# para la grafica\n",
    "%matplotlib inline"
   ]
  },
  {
   "cell_type": "code",
   "execution_count": 2,
   "id": "11b7f7b5",
   "metadata": {},
   "outputs": [],
   "source": [
    "#%pip install seaborn as sns\n",
    "#%pip install ipython"
   ]
  },
  {
   "cell_type": "code",
   "execution_count": 3,
   "id": "1abc5e61",
   "metadata": {},
   "outputs": [],
   "source": [
    "df_original = pd.read_csv('data/attacks.csv', encoding='latin1')\n",
    "\n",
    "df = df_original.copy()"
   ]
  },
  {
   "cell_type": "markdown",
   "id": "4e4800bc",
   "metadata": {},
   "source": [
    "# 1. Exploración inicial."
   ]
  },
  {
   "cell_type": "code",
   "execution_count": 4,
   "id": "bdde66fa",
   "metadata": {},
   "outputs": [
    {
     "data": {
      "text/plain": [
       "(25723, 24)"
      ]
     },
     "execution_count": 4,
     "metadata": {},
     "output_type": "execute_result"
    }
   ],
   "source": [
    "dim_original = df.shape # De esta forma guardo las dimensiones del data frame original.\n",
    "\n",
    "df.shape"
   ]
  },
  {
   "cell_type": "code",
   "execution_count": 5,
   "id": "0f9ca9e7",
   "metadata": {},
   "outputs": [
    {
     "data": {
      "text/html": [
       "<div>\n",
       "<style scoped>\n",
       "    .dataframe tbody tr th:only-of-type {\n",
       "        vertical-align: middle;\n",
       "    }\n",
       "\n",
       "    .dataframe tbody tr th {\n",
       "        vertical-align: top;\n",
       "    }\n",
       "\n",
       "    .dataframe thead th {\n",
       "        text-align: right;\n",
       "    }\n",
       "</style>\n",
       "<table border=\"1\" class=\"dataframe\">\n",
       "  <thead>\n",
       "    <tr style=\"text-align: right;\">\n",
       "      <th></th>\n",
       "      <th>Case Number</th>\n",
       "      <th>Date</th>\n",
       "      <th>Year</th>\n",
       "      <th>Type</th>\n",
       "      <th>Country</th>\n",
       "      <th>Area</th>\n",
       "      <th>Location</th>\n",
       "      <th>Activity</th>\n",
       "      <th>Name</th>\n",
       "      <th>Sex</th>\n",
       "      <th>Age</th>\n",
       "      <th>Injury</th>\n",
       "      <th>Fatal (Y/N)</th>\n",
       "      <th>Time</th>\n",
       "      <th>Species</th>\n",
       "      <th>Investigator or Source</th>\n",
       "      <th>pdf</th>\n",
       "      <th>href formula</th>\n",
       "      <th>href</th>\n",
       "      <th>Case Number.1</th>\n",
       "      <th>Case Number.2</th>\n",
       "      <th>original order</th>\n",
       "      <th>Unnamed: 22</th>\n",
       "      <th>Unnamed: 23</th>\n",
       "    </tr>\n",
       "  </thead>\n",
       "  <tbody>\n",
       "    <tr>\n",
       "      <th>0</th>\n",
       "      <td>2018.06.25</td>\n",
       "      <td>25-Jun-2018</td>\n",
       "      <td>2018.0</td>\n",
       "      <td>Boating</td>\n",
       "      <td>USA</td>\n",
       "      <td>California</td>\n",
       "      <td>Oceanside, San Diego County</td>\n",
       "      <td>Paddling</td>\n",
       "      <td>Julie Wolfe</td>\n",
       "      <td>F</td>\n",
       "      <td>57</td>\n",
       "      <td>No injury to occupant, outrigger canoe and pad...</td>\n",
       "      <td>N</td>\n",
       "      <td>18h00</td>\n",
       "      <td>White shark</td>\n",
       "      <td>R. Collier, GSAF</td>\n",
       "      <td>2018.06.25-Wolfe.pdf</td>\n",
       "      <td>http://sharkattackfile.net/spreadsheets/pdf_di...</td>\n",
       "      <td>http://sharkattackfile.net/spreadsheets/pdf_di...</td>\n",
       "      <td>2018.06.25</td>\n",
       "      <td>2018.06.25</td>\n",
       "      <td>6303.0</td>\n",
       "      <td>NaN</td>\n",
       "      <td>NaN</td>\n",
       "    </tr>\n",
       "    <tr>\n",
       "      <th>1</th>\n",
       "      <td>2018.06.18</td>\n",
       "      <td>18-Jun-2018</td>\n",
       "      <td>2018.0</td>\n",
       "      <td>Unprovoked</td>\n",
       "      <td>USA</td>\n",
       "      <td>Georgia</td>\n",
       "      <td>St. Simon Island, Glynn County</td>\n",
       "      <td>Standing</td>\n",
       "      <td>Adyson McNeely</td>\n",
       "      <td>F</td>\n",
       "      <td>11</td>\n",
       "      <td>Minor injury to left thigh</td>\n",
       "      <td>N</td>\n",
       "      <td>14h00  -15h00</td>\n",
       "      <td>NaN</td>\n",
       "      <td>K.McMurray, TrackingSharks.com</td>\n",
       "      <td>2018.06.18-McNeely.pdf</td>\n",
       "      <td>http://sharkattackfile.net/spreadsheets/pdf_di...</td>\n",
       "      <td>http://sharkattackfile.net/spreadsheets/pdf_di...</td>\n",
       "      <td>2018.06.18</td>\n",
       "      <td>2018.06.18</td>\n",
       "      <td>6302.0</td>\n",
       "      <td>NaN</td>\n",
       "      <td>NaN</td>\n",
       "    </tr>\n",
       "    <tr>\n",
       "      <th>2</th>\n",
       "      <td>2018.06.09</td>\n",
       "      <td>09-Jun-2018</td>\n",
       "      <td>2018.0</td>\n",
       "      <td>Invalid</td>\n",
       "      <td>USA</td>\n",
       "      <td>Hawaii</td>\n",
       "      <td>Habush, Oahu</td>\n",
       "      <td>Surfing</td>\n",
       "      <td>John Denges</td>\n",
       "      <td>M</td>\n",
       "      <td>48</td>\n",
       "      <td>Injury to left lower leg from surfboard skeg</td>\n",
       "      <td>N</td>\n",
       "      <td>07h45</td>\n",
       "      <td>NaN</td>\n",
       "      <td>K.McMurray, TrackingSharks.com</td>\n",
       "      <td>2018.06.09-Denges.pdf</td>\n",
       "      <td>http://sharkattackfile.net/spreadsheets/pdf_di...</td>\n",
       "      <td>http://sharkattackfile.net/spreadsheets/pdf_di...</td>\n",
       "      <td>2018.06.09</td>\n",
       "      <td>2018.06.09</td>\n",
       "      <td>6301.0</td>\n",
       "      <td>NaN</td>\n",
       "      <td>NaN</td>\n",
       "    </tr>\n",
       "    <tr>\n",
       "      <th>3</th>\n",
       "      <td>2018.06.08</td>\n",
       "      <td>08-Jun-2018</td>\n",
       "      <td>2018.0</td>\n",
       "      <td>Unprovoked</td>\n",
       "      <td>AUSTRALIA</td>\n",
       "      <td>New South Wales</td>\n",
       "      <td>Arrawarra Headland</td>\n",
       "      <td>Surfing</td>\n",
       "      <td>male</td>\n",
       "      <td>M</td>\n",
       "      <td>NaN</td>\n",
       "      <td>Minor injury to lower leg</td>\n",
       "      <td>N</td>\n",
       "      <td>NaN</td>\n",
       "      <td>2 m shark</td>\n",
       "      <td>B. Myatt, GSAF</td>\n",
       "      <td>2018.06.08-Arrawarra.pdf</td>\n",
       "      <td>http://sharkattackfile.net/spreadsheets/pdf_di...</td>\n",
       "      <td>http://sharkattackfile.net/spreadsheets/pdf_di...</td>\n",
       "      <td>2018.06.08</td>\n",
       "      <td>2018.06.08</td>\n",
       "      <td>6300.0</td>\n",
       "      <td>NaN</td>\n",
       "      <td>NaN</td>\n",
       "    </tr>\n",
       "    <tr>\n",
       "      <th>4</th>\n",
       "      <td>2018.06.04</td>\n",
       "      <td>04-Jun-2018</td>\n",
       "      <td>2018.0</td>\n",
       "      <td>Provoked</td>\n",
       "      <td>MEXICO</td>\n",
       "      <td>Colima</td>\n",
       "      <td>La Ticla</td>\n",
       "      <td>Free diving</td>\n",
       "      <td>Gustavo Ramos</td>\n",
       "      <td>M</td>\n",
       "      <td>NaN</td>\n",
       "      <td>Lacerations to leg &amp; hand shark PROVOKED INCIDENT</td>\n",
       "      <td>N</td>\n",
       "      <td>NaN</td>\n",
       "      <td>Tiger shark, 3m</td>\n",
       "      <td>A .Kipper</td>\n",
       "      <td>2018.06.04-Ramos.pdf</td>\n",
       "      <td>http://sharkattackfile.net/spreadsheets/pdf_di...</td>\n",
       "      <td>http://sharkattackfile.net/spreadsheets/pdf_di...</td>\n",
       "      <td>2018.06.04</td>\n",
       "      <td>2018.06.04</td>\n",
       "      <td>6299.0</td>\n",
       "      <td>NaN</td>\n",
       "      <td>NaN</td>\n",
       "    </tr>\n",
       "  </tbody>\n",
       "</table>\n",
       "</div>"
      ],
      "text/plain": [
       "  Case Number         Date    Year        Type    Country             Area  \\\n",
       "0  2018.06.25  25-Jun-2018  2018.0     Boating        USA       California   \n",
       "1  2018.06.18  18-Jun-2018  2018.0  Unprovoked        USA          Georgia   \n",
       "2  2018.06.09  09-Jun-2018  2018.0     Invalid        USA           Hawaii   \n",
       "3  2018.06.08  08-Jun-2018  2018.0  Unprovoked  AUSTRALIA  New South Wales   \n",
       "4  2018.06.04  04-Jun-2018  2018.0    Provoked     MEXICO           Colima   \n",
       "\n",
       "                         Location     Activity             Name Sex   Age  \\\n",
       "0     Oceanside, San Diego County     Paddling      Julie Wolfe    F   57   \n",
       "1  St. Simon Island, Glynn County     Standing  Adyson McNeely     F   11   \n",
       "2                    Habush, Oahu      Surfing      John Denges    M   48   \n",
       "3              Arrawarra Headland      Surfing             male    M  NaN   \n",
       "4                        La Ticla  Free diving   Gustavo Ramos     M  NaN   \n",
       "\n",
       "                                              Injury Fatal (Y/N)  \\\n",
       "0  No injury to occupant, outrigger canoe and pad...           N   \n",
       "1                         Minor injury to left thigh           N   \n",
       "2       Injury to left lower leg from surfboard skeg           N   \n",
       "3                          Minor injury to lower leg           N   \n",
       "4  Lacerations to leg & hand shark PROVOKED INCIDENT           N   \n",
       "\n",
       "            Time         Species           Investigator or Source  \\\n",
       "0          18h00      White shark                R. Collier, GSAF   \n",
       "1  14h00  -15h00              NaN  K.McMurray, TrackingSharks.com   \n",
       "2          07h45              NaN  K.McMurray, TrackingSharks.com   \n",
       "3            NaN        2 m shark                  B. Myatt, GSAF   \n",
       "4            NaN  Tiger shark, 3m                       A .Kipper   \n",
       "\n",
       "                        pdf  \\\n",
       "0      2018.06.25-Wolfe.pdf   \n",
       "1    2018.06.18-McNeely.pdf   \n",
       "2     2018.06.09-Denges.pdf   \n",
       "3  2018.06.08-Arrawarra.pdf   \n",
       "4      2018.06.04-Ramos.pdf   \n",
       "\n",
       "                                        href formula  \\\n",
       "0  http://sharkattackfile.net/spreadsheets/pdf_di...   \n",
       "1  http://sharkattackfile.net/spreadsheets/pdf_di...   \n",
       "2  http://sharkattackfile.net/spreadsheets/pdf_di...   \n",
       "3  http://sharkattackfile.net/spreadsheets/pdf_di...   \n",
       "4  http://sharkattackfile.net/spreadsheets/pdf_di...   \n",
       "\n",
       "                                                href Case Number.1  \\\n",
       "0  http://sharkattackfile.net/spreadsheets/pdf_di...    2018.06.25   \n",
       "1  http://sharkattackfile.net/spreadsheets/pdf_di...    2018.06.18   \n",
       "2  http://sharkattackfile.net/spreadsheets/pdf_di...    2018.06.09   \n",
       "3  http://sharkattackfile.net/spreadsheets/pdf_di...    2018.06.08   \n",
       "4  http://sharkattackfile.net/spreadsheets/pdf_di...    2018.06.04   \n",
       "\n",
       "  Case Number.2  original order Unnamed: 22 Unnamed: 23  \n",
       "0    2018.06.25          6303.0         NaN         NaN  \n",
       "1    2018.06.18          6302.0         NaN         NaN  \n",
       "2    2018.06.09          6301.0         NaN         NaN  \n",
       "3    2018.06.08          6300.0         NaN         NaN  \n",
       "4    2018.06.04          6299.0         NaN         NaN  "
      ]
     },
     "execution_count": 5,
     "metadata": {},
     "output_type": "execute_result"
    }
   ],
   "source": [
    "df.head()"
   ]
  },
  {
   "cell_type": "code",
   "execution_count": 6,
   "id": "cd79ad76",
   "metadata": {},
   "outputs": [
    {
     "data": {
      "text/plain": [
       "Index(['Case Number', 'Date', 'Year', 'Type', 'Country', 'Area', 'Location',\n",
       "       'Activity', 'Name', 'Sex ', 'Age', 'Injury', 'Fatal (Y/N)', 'Time',\n",
       "       'Species ', 'Investigator or Source', 'pdf', 'href formula', 'href',\n",
       "       'Case Number.1', 'Case Number.2', 'original order', 'Unnamed: 22',\n",
       "       'Unnamed: 23'],\n",
       "      dtype='object')"
      ]
     },
     "execution_count": 6,
     "metadata": {},
     "output_type": "execute_result"
    }
   ],
   "source": [
    "df.columns # Esto nos proporciona una enumeración de los nombres correspondientes a cada una de las columnas presentes en los datos."
   ]
  },
  {
   "cell_type": "code",
   "execution_count": 7,
   "id": "42dce7d3",
   "metadata": {},
   "outputs": [
    {
     "name": "stdout",
     "output_type": "stream",
     "text": [
      "<class 'pandas.core.frame.DataFrame'>\n",
      "RangeIndex: 25723 entries, 0 to 25722\n",
      "Data columns (total 24 columns):\n",
      " #   Column                  Non-Null Count  Dtype  \n",
      "---  ------                  --------------  -----  \n",
      " 0   Case Number             8702 non-null   object \n",
      " 1   Date                    6302 non-null   object \n",
      " 2   Year                    6300 non-null   float64\n",
      " 3   Type                    6298 non-null   object \n",
      " 4   Country                 6252 non-null   object \n",
      " 5   Area                    5847 non-null   object \n",
      " 6   Location                5762 non-null   object \n",
      " 7   Activity                5758 non-null   object \n",
      " 8   Name                    6092 non-null   object \n",
      " 9   Sex                     5737 non-null   object \n",
      " 10  Age                     3471 non-null   object \n",
      " 11  Injury                  6274 non-null   object \n",
      " 12  Fatal (Y/N)             5763 non-null   object \n",
      " 13  Time                    2948 non-null   object \n",
      " 14  Species                 3464 non-null   object \n",
      " 15  Investigator or Source  6285 non-null   object \n",
      " 16  pdf                     6302 non-null   object \n",
      " 17  href formula            6301 non-null   object \n",
      " 18  href                    6302 non-null   object \n",
      " 19  Case Number.1           6302 non-null   object \n",
      " 20  Case Number.2           6302 non-null   object \n",
      " 21  original order          6309 non-null   float64\n",
      " 22  Unnamed: 22             1 non-null      object \n",
      " 23  Unnamed: 23             2 non-null      object \n",
      "dtypes: float64(2), object(22)\n",
      "memory usage: 4.7+ MB\n"
     ]
    }
   ],
   "source": [
    "df.info() # De este modo conzco el tipo de dato y los valores nulos que tiene cada una de las columnas."
   ]
  },
  {
   "cell_type": "markdown",
   "id": "f84e91c5",
   "metadata": {},
   "source": [
    "# 2. Anulación de duplicados."
   ]
  },
  {
   "cell_type": "markdown",
   "id": "213551ef",
   "metadata": {},
   "source": [
    "Para iniciar el proceso de limpieza de los datos, tras llevar a cabo una exploración inicial de los mismos, debemos centrarnos y priorizar el número de duplicados con los que contamos. \n",
    "La presencia de estos no aporta ningún beneficio al análisis de los datos, por lo que resulta aconsejable proceder a su eliminación."
   ]
  },
  {
   "cell_type": "code",
   "execution_count": 8,
   "id": "5848ae53",
   "metadata": {},
   "outputs": [
    {
     "data": {
      "text/plain": [
       "True"
      ]
     },
     "execution_count": 8,
     "metadata": {},
     "output_type": "execute_result"
    }
   ],
   "source": [
    "df.duplicated().any() "
   ]
  },
  {
   "cell_type": "code",
   "execution_count": 9,
   "id": "90981b87",
   "metadata": {},
   "outputs": [],
   "source": [
    "df.drop_duplicates(inplace = True)"
   ]
  },
  {
   "cell_type": "code",
   "execution_count": 10,
   "id": "415e1f51",
   "metadata": {},
   "outputs": [
    {
     "data": {
      "text/plain": [
       "(6312, 24)"
      ]
     },
     "execution_count": 10,
     "metadata": {},
     "output_type": "execute_result"
    }
   ],
   "source": [
    "df.shape"
   ]
  },
  {
   "cell_type": "markdown",
   "id": "21c7e956",
   "metadata": {},
   "source": [
    "Se puede observar que en este conjunto de datos se encontraba una cantidad significativa de registros duplicados, como se evidencia tras la eliminación de un número considerable de filas. Ahora, dispongo de una base de datos más manejable y, por lo tanto, ya estoy en posición de iniciar el proceso de análisis y limpieza de cada columna y fila. "
   ]
  },
  {
   "cell_type": "markdown",
   "id": "ea33f6cb",
   "metadata": {},
   "source": [
    "# 3. Exploración y anulación de valores nulos."
   ]
  },
  {
   "cell_type": "markdown",
   "id": "4576ebab",
   "metadata": {},
   "source": [
    "# 3.1 Filas con más del 95% de valores nulos. "
   ]
  },
  {
   "cell_type": "markdown",
   "id": "12804424",
   "metadata": {},
   "source": [
    "Comienzo por identificar las filas que aún tienen un alto porcentaje de valores nulos, utilizando un umbral del 95%."
   ]
  },
  {
   "cell_type": "code",
   "execution_count": 11,
   "id": "a185db33",
   "metadata": {},
   "outputs": [
    {
     "data": {
      "text/plain": [
       "0        0.083333\n",
       "1        0.125000\n",
       "2        0.125000\n",
       "3        0.166667\n",
       "4        0.166667\n",
       "           ...   \n",
       "6307     0.916667\n",
       "6308     0.916667\n",
       "6309     0.958333\n",
       "8702     1.000000\n",
       "25722    0.958333\n",
       "Length: 6312, dtype: float64"
      ]
     },
     "execution_count": 11,
     "metadata": {},
     "output_type": "execute_result"
    }
   ],
   "source": [
    "null_filas = df.isnull().sum(axis=1) / len(df.columns) # proporción de valores nulos en cada fila.\n",
    "null_filas"
   ]
  },
  {
   "cell_type": "code",
   "execution_count": 12,
   "id": "fcf78b6d",
   "metadata": {},
   "outputs": [],
   "source": [
    "umbral = 0.95 # 95% de valores nulos."
   ]
  },
  {
   "cell_type": "code",
   "execution_count": 13,
   "id": "934fd547",
   "metadata": {},
   "outputs": [],
   "source": [
    "filas_nulos095 = df[null_filas >= umbral] # Si el porcentaje de valores nulos en una fila supera el umbral especificado, se procederá a eliminar dicha fila."
   ]
  },
  {
   "cell_type": "code",
   "execution_count": 14,
   "id": "ded5ded6",
   "metadata": {},
   "outputs": [],
   "source": [
    "filas_primer_limpiado = filas_nulos095.index # Obtengo los índices de las filas obtenidas."
   ]
  },
  {
   "cell_type": "code",
   "execution_count": 15,
   "id": "b3884ef9",
   "metadata": {},
   "outputs": [],
   "source": [
    "df.drop(filas_primer_limpiado, inplace = True)"
   ]
  },
  {
   "cell_type": "code",
   "execution_count": 16,
   "id": "9b2f35e8",
   "metadata": {},
   "outputs": [
    {
     "data": {
      "text/plain": [
       "(6309, 24)"
      ]
     },
     "execution_count": 16,
     "metadata": {},
     "output_type": "execute_result"
    }
   ],
   "source": [
    "df.shape"
   ]
  },
  {
   "cell_type": "code",
   "execution_count": 17,
   "id": "ec2ed642",
   "metadata": {},
   "outputs": [
    {
     "data": {
      "text/plain": [
       "Case Number                  1\n",
       "Date                         7\n",
       "Year                         9\n",
       "Type                        11\n",
       "Country                     57\n",
       "Area                       462\n",
       "Location                   547\n",
       "Activity                   551\n",
       "Name                       217\n",
       "Sex                        572\n",
       "Age                       2838\n",
       "Injury                      35\n",
       "Fatal (Y/N)                546\n",
       "Time                      3361\n",
       "Species                   2845\n",
       "Investigator or Source      24\n",
       "pdf                          7\n",
       "href formula                 8\n",
       "href                         7\n",
       "Case Number.1                7\n",
       "Case Number.2                7\n",
       "Unnamed: 22               6308\n",
       "Unnamed: 23               6307\n",
       "dtype: int64"
      ]
     },
     "execution_count": 17,
     "metadata": {},
     "output_type": "execute_result"
    }
   ],
   "source": [
    "# Columnas que contienen valores nulos y la cantidad de estos en cada una de ellas:\n",
    "\n",
    "nan_cols = df.isna().sum()\n",
    "nan_cols[nan_cols>0]"
   ]
  },
  {
   "cell_type": "code",
   "execution_count": 18,
   "id": "b974d13b",
   "metadata": {},
   "outputs": [
    {
     "data": {
      "text/plain": [
       "24734"
      ]
     },
     "execution_count": 18,
     "metadata": {},
     "output_type": "execute_result"
    }
   ],
   "source": [
    "#Total de valores nulos en el conjunto de datos:\n",
    "\n",
    "nan_cols.sum() "
   ]
  },
  {
   "cell_type": "markdown",
   "id": "ee2a2f70",
   "metadata": {},
   "source": [
    "# 3.2 Columnas \"Unnamed\"."
   ]
  },
  {
   "cell_type": "markdown",
   "id": "954e02c3",
   "metadata": {},
   "source": [
    "Dado que las columnas \"Unnamed: 22\" y \"Unnamed: 23\" contienen principalmente valores nulos, he decidido eliminarlas temporalmente. En un momento posterior, consideraré la posibilidad de crear nuevas columnas según sea necesario."
   ]
  },
  {
   "cell_type": "code",
   "execution_count": 19,
   "id": "57c8e634",
   "metadata": {},
   "outputs": [],
   "source": [
    "df = df.drop(df.columns[df.columns.str.contains(\"Unnamed\")], axis=1)"
   ]
  },
  {
   "cell_type": "code",
   "execution_count": 20,
   "id": "ee80ea35",
   "metadata": {},
   "outputs": [],
   "source": [
    "#df.head"
   ]
  },
  {
   "cell_type": "markdown",
   "id": "a26dabff",
   "metadata": {},
   "source": [
    "# 3.3 Columna \"Case Number\"."
   ]
  },
  {
   "cell_type": "markdown",
   "id": "d033041e",
   "metadata": {},
   "source": [
    "Procedo ahora con el análisis de cada una de las columnas. Abordaré este proceso examinándolas de manera individual, por orden. Comenzaré, así, por la primera: la columna \"Case Number\"."
   ]
  },
  {
   "cell_type": "markdown",
   "id": "ce497094",
   "metadata": {},
   "source": [
    "Después de examinar minuciosamente el dataframe, es evidente que en la celda que contiene un valor nulo, se debe  registrar la fecha del ataque."
   ]
  },
  {
   "cell_type": "code",
   "execution_count": 21,
   "id": "897e585e",
   "metadata": {},
   "outputs": [
    {
     "data": {
      "text/plain": [
       "Int64Index([5488], dtype='int64')"
      ]
     },
     "execution_count": 21,
     "metadata": {},
     "output_type": "execute_result"
    }
   ],
   "source": [
    "df[df[\"Case Number\"].isnull()].index "
   ]
  },
  {
   "cell_type": "code",
   "execution_count": 22,
   "id": "df4d8a76",
   "metadata": {},
   "outputs": [],
   "source": [
    "df.loc[5488, \"Case Number\"] = \"1905.09.06\""
   ]
  },
  {
   "cell_type": "markdown",
   "id": "18ffdb86",
   "metadata": {},
   "source": [
    "# 3.4 Columna \"Year\"."
   ]
  },
  {
   "cell_type": "markdown",
   "id": "9c94c313",
   "metadata": {},
   "source": [
    "En esta columna, se identifican un total de dos valores nulos. Completaré estos de forma manual, ya que la información correspondiente puede ser obtenida de manera directa al observar la columna inmediatamente anterior."
   ]
  },
  {
   "cell_type": "code",
   "execution_count": 25,
   "id": "cea10bc8",
   "metadata": {},
   "outputs": [
    {
     "data": {
      "text/plain": [
       "array([2018.0, 2017.0, '2017', 2016.0, 2015.0, 2014.0, 2013.0, 2012.0,\n",
       "       2011.0, 2010.0, 2009.0, 2008.0, 2007.0, 2006.0, 2005.0, 2004.0,\n",
       "       2003.0, 2002.0, 2001.0, 2000.0, 1999.0, 1998.0, 1997.0, 1996.0,\n",
       "       1995.0, 1984.0, 1994.0, 1993.0, 1992.0, 1991.0, 1990.0, 1989.0,\n",
       "       1969.0, 1988.0, 1987.0, 1986.0, 1985.0, 1983.0, 1982.0, 1981.0,\n",
       "       1980.0, 1979.0, 1978.0, 1977.0, 1976.0, 1975.0, 1974.0, 1973.0,\n",
       "       1972.0, 1971.0, 1970.0, 1968.0, 1967.0, 1966.0, 1965.0, 1964.0,\n",
       "       1963.0, 1962.0, 1961.0, 1960.0, 1959.0, 1958.0, 1957.0, 1956.0,\n",
       "       1955.0, 1954.0, 1953.0, 1952.0, 1951.0, 1950.0, 1949.0, 1948.0,\n",
       "       1848.0, 1947.0, 1946.0, 1945.0, 1944.0, 1943.0, 1942.0, 1941.0,\n",
       "       1940.0, 1939.0, 1938.0, 1937.0, 1936.0, 1935.0, 1934.0, 1933.0,\n",
       "       1932.0, 1931.0, 1930.0, 1929.0, 1928.0, 1927.0, 1926.0, 1925.0,\n",
       "       1924.0, 1923.0, 1922.0, 1921.0, 1920.0, 1919.0, 1918.0, 1917.0,\n",
       "       1916.0, 1915.0, 1914.0, 1913.0, 1912.0, 1911.0, 1910.0, 1909.0,\n",
       "       1908.0, 1907.0, 1906.0, 1905.0, 1904.0, 1903.0, 1902.0, 1901.0,\n",
       "       1900.0, 1899.0, 1898.0, 1897.0, 1896.0, 1895.0, 1894.0, 1893.0,\n",
       "       1892.0, 1891.0, 1890.0, 1889.0, 1888.0, 1887.0, 1886.0, 1885.0,\n",
       "       1884.0, 1883.0, 1882.0, 1881.0, 1880.0, 1879.0, 1878.0, 1877.0,\n",
       "       1876.0, 1875.0, 1874.0, 1873.0, 1872.0, 1871.0, 1870.0, 1869.0,\n",
       "       1868.0, 1867.0, 1866.0, 1865.0, 1864.0, 1863.0, 1862.0, 1861.0,\n",
       "       1860.0, 1859.0, 1858.0, 1857.0, 1856.0, 1855.0, 1853.0, 1852.0,\n",
       "       1851.0, 1850.0, 1849.0, 1847.0, 1846.0, 1845.0, 1844.0, 1842.0,\n",
       "       1841.0, 1840.0, 1839.0, 1837.0, '1936', 1836.0, 1835.0, 1834.0,\n",
       "       1832.0, 1831.0, 1830.0, 1829.0, 1828.0, 1827.0, 1826.0, 1825.0,\n",
       "       1823.0, 1822.0, 1819.0, 1818.0, 1817.0, 1816.0, 1815.0, 1812.0,\n",
       "       1811.0, 1810.0, 1808.0, 1807.0, 1805.0, 1804.0, 1803.0, 1802.0,\n",
       "       1801.0, 1800.0, 1797.0, 1792.0, 1791.0, 1788.0, 1787.0, 1786.0,\n",
       "       1785.0, 1784.0, 1783.0, 1780.0, 1779.0, 1776.0, 1771.0, 1767.0,\n",
       "       1764.0, 1758.0, 1753.0, 1751.0, 1749.0, 1755.0, 1748.0, 1742.0,\n",
       "       1738.0, 1733.0, 1723.0, 1721.0, 1703.0, 1700.0, 1642.0, 1638.0,\n",
       "       1637.0, 1617.0, 1595.0, 1580.0, 1555.0, 1554.0, 1543.0, 500.0,\n",
       "       77.0, 5.0, 0.0, nan], dtype=object)"
      ]
     },
     "execution_count": 25,
     "metadata": {},
     "output_type": "execute_result"
    }
   ],
   "source": [
    "df.Year.unique()"
   ]
  },
  {
   "cell_type": "code",
   "execution_count": 26,
   "id": "966e30ad",
   "metadata": {},
   "outputs": [
    {
     "data": {
      "text/plain": [
       "Int64Index([6302, 6303, 6304, 6305, 6306, 6307, 6308], dtype='int64')"
      ]
     },
     "execution_count": 26,
     "metadata": {},
     "output_type": "execute_result"
    }
   ],
   "source": [
    "df[df[\"Year\"].isnull()].index"
   ]
  },
  {
   "cell_type": "code",
   "execution_count": 27,
   "id": "42d57748",
   "metadata": {},
   "outputs": [],
   "source": [
    "df.loc[187, \"Year\"] = \"2017\"\n",
    "df.loc[6079, \"Year\"] = \"1936\""
   ]
  },
  {
   "cell_type": "markdown",
   "id": "ff5ae668",
   "metadata": {},
   "source": [
    "# 3.5 Columna \"Type\"."
   ]
  },
  {
   "cell_type": "markdown",
   "id": "5ec5d215",
   "metadata": {},
   "source": [
    "En esta columna, se pueden apreciar un mayor número de valores nulos en comparación con las dos columnas anteriores. Sin embargo, en relación al conjunto de datos en su totalidad, el número de valores nulos no es significativamente alto. Por lo tanto, procederé a completar estos valores con la etiqueta \"Unknown\" (dado que la información proporcionada no permite determinar con precisión el valor que debe asignarse). Sin embargo, esta elección no tendrá mayor impacto en los resultados."
   ]
  },
  {
   "cell_type": "code",
   "execution_count": 28,
   "id": "6003259e",
   "metadata": {},
   "outputs": [
    {
     "data": {
      "text/plain": [
       "Int64Index([85, 382, 4867, 5705, 6302, 6303, 6304, 6305, 6306, 6307, 6308], dtype='int64')"
      ]
     },
     "execution_count": 28,
     "metadata": {},
     "output_type": "execute_result"
    }
   ],
   "source": [
    "df[df[\"Type\"].isnull()].index"
   ]
  },
  {
   "cell_type": "code",
   "execution_count": 29,
   "id": "2698a8d4",
   "metadata": {},
   "outputs": [],
   "source": [
    "df[\"Type\"].fillna(\"Unknown\", inplace=True)"
   ]
  },
  {
   "cell_type": "markdown",
   "id": "9353d53c",
   "metadata": {},
   "source": [
    "# 3.6 Columna \"Country\"."
   ]
  },
  {
   "cell_type": "markdown",
   "id": "75799c0f",
   "metadata": {},
   "source": [
    "A continuación, abordaré la siguiente columna: \"Country\". En esta, notamos un aumento en el número de valores nulos. \n",
    "\n",
    "Así, en primer lugar, procederé a descartar directamente aquellas filas en las que no se encuentre ningún valor en las columnas \"Country\", \"Area\" o \"Location\".\n",
    "\n",
    "Posteriormente, centrándome específicamente en la columna \"Country\", y ya observando una reducción significativa en el número de valores nulos, realizaré una investigación para completar, uno a uno (si la información obtenida me lo permite), estos valores. Esto puede implicar la comparación con otros valores de la misma fila, la revisión del documento adjunto con información del caso, o la búsqueda en internet."
   ]
  },
  {
   "cell_type": "code",
   "execution_count": 30,
   "id": "43caac4f",
   "metadata": {},
   "outputs": [
    {
     "data": {
      "text/plain": [
       "Int64Index([  62,  525, 3378, 3388, 3395, 3399, 3425, 3661, 4726, 4729, 4911,\n",
       "            5060, 5586, 5587, 5636, 5770, 5839, 5885, 5920, 5996, 6001, 6092,\n",
       "            6119, 6131, 6133, 6165, 6171, 6199, 6259, 6302, 6303, 6304, 6305,\n",
       "            6306, 6307, 6308],\n",
       "           dtype='int64')"
      ]
     },
     "execution_count": 30,
     "metadata": {},
     "output_type": "execute_result"
    }
   ],
   "source": [
    "filas_null = df[df[\"Country\"].isnull() & df[\"Area\"].isnull() & df[\"Location\"].isnull()] \n",
    "filas_null.index"
   ]
  },
  {
   "cell_type": "code",
   "execution_count": 31,
   "id": "348c3483",
   "metadata": {},
   "outputs": [],
   "source": [
    "df.drop(filas_null.index, inplace=True)"
   ]
  },
  {
   "cell_type": "code",
   "execution_count": 32,
   "id": "29633bc0",
   "metadata": {},
   "outputs": [
    {
     "data": {
      "text/plain": [
       "(6273, 22)"
      ]
     },
     "execution_count": 32,
     "metadata": {},
     "output_type": "execute_result"
    }
   ],
   "source": [
    "df.shape"
   ]
  },
  {
   "cell_type": "code",
   "execution_count": 33,
   "id": "4ac2ac97",
   "metadata": {},
   "outputs": [
    {
     "data": {
      "text/plain": [
       "Country                     21\n",
       "Area                       426\n",
       "Location                   511\n",
       "Activity                   537\n",
       "Name                       210\n",
       "Sex                        563\n",
       "Age                       2808\n",
       "Injury                      26\n",
       "Fatal (Y/N)                536\n",
       "Time                      3329\n",
       "Species                   2817\n",
       "Investigator or Source      17\n",
       "href formula                 1\n",
       "dtype: int64"
      ]
     },
     "execution_count": 33,
     "metadata": {},
     "output_type": "execute_result"
    }
   ],
   "source": [
    "nan_cols = df.isna().sum()\n",
    "nan_cols[nan_cols>0]"
   ]
  },
  {
   "cell_type": "code",
   "execution_count": 34,
   "id": "c795b89e",
   "metadata": {},
   "outputs": [
    {
     "data": {
      "text/html": [
       "<div>\n",
       "<style scoped>\n",
       "    .dataframe tbody tr th:only-of-type {\n",
       "        vertical-align: middle;\n",
       "    }\n",
       "\n",
       "    .dataframe tbody tr th {\n",
       "        vertical-align: top;\n",
       "    }\n",
       "\n",
       "    .dataframe thead th {\n",
       "        text-align: right;\n",
       "    }\n",
       "</style>\n",
       "<table border=\"1\" class=\"dataframe\">\n",
       "  <thead>\n",
       "    <tr style=\"text-align: right;\">\n",
       "      <th></th>\n",
       "      <th>Case Number</th>\n",
       "      <th>Date</th>\n",
       "      <th>Year</th>\n",
       "      <th>Type</th>\n",
       "      <th>Country</th>\n",
       "      <th>Area</th>\n",
       "      <th>Location</th>\n",
       "      <th>Activity</th>\n",
       "      <th>Name</th>\n",
       "      <th>Sex</th>\n",
       "      <th>Age</th>\n",
       "      <th>Injury</th>\n",
       "      <th>Fatal (Y/N)</th>\n",
       "      <th>Time</th>\n",
       "      <th>Species</th>\n",
       "      <th>Investigator or Source</th>\n",
       "      <th>pdf</th>\n",
       "      <th>href formula</th>\n",
       "      <th>href</th>\n",
       "      <th>Case Number.1</th>\n",
       "      <th>Case Number.2</th>\n",
       "      <th>original order</th>\n",
       "    </tr>\n",
       "  </thead>\n",
       "  <tbody>\n",
       "    <tr>\n",
       "      <th>2956</th>\n",
       "      <td>1983.00.00.d</td>\n",
       "      <td>Ca. 1983</td>\n",
       "      <td>1983.0</td>\n",
       "      <td>Unprovoked</td>\n",
       "      <td>NaN</td>\n",
       "      <td>English Channel</td>\n",
       "      <td>NaN</td>\n",
       "      <td>Swimming</td>\n",
       "      <td>Padma Shri Taranath Narayan Shenoy</td>\n",
       "      <td>M</td>\n",
       "      <td>NaN</td>\n",
       "      <td>Left leg bitten</td>\n",
       "      <td>N</td>\n",
       "      <td>NaN</td>\n",
       "      <td>NaN</td>\n",
       "      <td>Times of India, 2/5/2012</td>\n",
       "      <td>1983.00.00.d-Shenoy.pdf</td>\n",
       "      <td>http://sharkattackfile.net/spreadsheets/pdf_di...</td>\n",
       "      <td>http://sharkattackfile.net/spreadsheets/pdf_di...</td>\n",
       "      <td>1983.00.00.d</td>\n",
       "      <td>1983.00.00.d</td>\n",
       "      <td>3347.0</td>\n",
       "    </tr>\n",
       "    <tr>\n",
       "      <th>3387</th>\n",
       "      <td>1970.08.02</td>\n",
       "      <td>02-Aug-1970</td>\n",
       "      <td>1970.0</td>\n",
       "      <td>Invalid</td>\n",
       "      <td>NaN</td>\n",
       "      <td>Caribbean Sea</td>\n",
       "      <td>Between St. Kitts &amp; Nevis</td>\n",
       "      <td>Sea Disaster Sinking of ferryboat Christina</td>\n",
       "      <td>NaN</td>\n",
       "      <td>NaN</td>\n",
       "      <td>NaN</td>\n",
       "      <td>Sharks scavenged on bodies, but no record of t...</td>\n",
       "      <td>NaN</td>\n",
       "      <td>Afternoon</td>\n",
       "      <td>Shark involvement prior to death was not confi...</td>\n",
       "      <td>Rome News Tribune, 8/3/1970</td>\n",
       "      <td>1970.08.02-Christina-ferryboat.pdf</td>\n",
       "      <td>http://sharkattackfile.net/spreadsheets/pdf_di...</td>\n",
       "      <td>http://sharkattackfile.net/spreadsheets/pdf_di...</td>\n",
       "      <td>1970.08.02</td>\n",
       "      <td>1970.08.02</td>\n",
       "      <td>2916.0</td>\n",
       "    </tr>\n",
       "    <tr>\n",
       "      <th>3605</th>\n",
       "      <td>1965.10.21</td>\n",
       "      <td>21-Oct-1965</td>\n",
       "      <td>1965.0</td>\n",
       "      <td>Unprovoked</td>\n",
       "      <td>NaN</td>\n",
       "      <td>NaN</td>\n",
       "      <td>Florida Strait</td>\n",
       "      <td>The boat Caribou II sank</td>\n",
       "      <td>Mario Castellanos</td>\n",
       "      <td>M</td>\n",
       "      <td>39</td>\n",
       "      <td>Survived</td>\n",
       "      <td>N</td>\n",
       "      <td>NaN</td>\n",
       "      <td>NaN</td>\n",
       "      <td>Lodi News Sentinel, 10/30/1965</td>\n",
       "      <td>1965.10.21-Castellanos.pdf</td>\n",
       "      <td>http://sharkattackfile.net/spreadsheets/pdf_di...</td>\n",
       "      <td>http://sharkattackfile.net/spreadsheets/pdf_di...</td>\n",
       "      <td>1965.10.21</td>\n",
       "      <td>1965.10.21</td>\n",
       "      <td>2698.0</td>\n",
       "    </tr>\n",
       "    <tr>\n",
       "      <th>4018</th>\n",
       "      <td>1960.01.26</td>\n",
       "      <td>26-Jan-1960</td>\n",
       "      <td>1960.0</td>\n",
       "      <td>Sea Disaster</td>\n",
       "      <td>NaN</td>\n",
       "      <td>Between Timor &amp; Darwin, Australia</td>\n",
       "      <td>NaN</td>\n",
       "      <td>Portuguese Airliner with 9 people aboard went ...</td>\n",
       "      <td>NaN</td>\n",
       "      <td>NaN</td>\n",
       "      <td>NaN</td>\n",
       "      <td>As searchers approached wreckage, sharks circl...</td>\n",
       "      <td>N</td>\n",
       "      <td>NaN</td>\n",
       "      <td>NaN</td>\n",
       "      <td>V.M. Coppleson (1962), p.260</td>\n",
       "      <td>1960.01.26-Portuguese airliner.pdf</td>\n",
       "      <td>http://sharkattackfile.net/spreadsheets/pdf_di...</td>\n",
       "      <td>http://sharkattackfile.net/spreadsheets/pdf_di...</td>\n",
       "      <td>1960.01.26</td>\n",
       "      <td>1960.01.26</td>\n",
       "      <td>2285.0</td>\n",
       "    </tr>\n",
       "    <tr>\n",
       "      <th>4231</th>\n",
       "      <td>1956.09.13</td>\n",
       "      <td>13-Sep-1956</td>\n",
       "      <td>1956.0</td>\n",
       "      <td>Unprovoked</td>\n",
       "      <td>NaN</td>\n",
       "      <td>Near the Andaman &amp; Nicobar Islands</td>\n",
       "      <td>NaN</td>\n",
       "      <td>Climbing back on ship</td>\n",
       "      <td>male</td>\n",
       "      <td>M</td>\n",
       "      <td>NaN</td>\n",
       "      <td>FATAL</td>\n",
       "      <td>Y</td>\n",
       "      <td>P.M.</td>\n",
       "      <td>Blue shark</td>\n",
       "      <td>M. Hosina</td>\n",
       "      <td>1956.09.13-TunaBoat.pdf</td>\n",
       "      <td>http://sharkattackfile.net/spreadsheets/pdf_di...</td>\n",
       "      <td>http://sharkattackfile.net/spreadsheets/pdf_di...</td>\n",
       "      <td>1956.09.13</td>\n",
       "      <td>1956.09.13</td>\n",
       "      <td>2072.0</td>\n",
       "    </tr>\n",
       "    <tr>\n",
       "      <th>4266</th>\n",
       "      <td>1956.00.00.g</td>\n",
       "      <td>1956</td>\n",
       "      <td>1956.0</td>\n",
       "      <td>Sea Disaster</td>\n",
       "      <td>NaN</td>\n",
       "      <td>Between Comores &amp; Madagascar</td>\n",
       "      <td>Geyser Bank</td>\n",
       "      <td>Shipwreck</td>\n",
       "      <td>Captain Eric Hunt, the cook &amp; a French passenger</td>\n",
       "      <td>M</td>\n",
       "      <td>NaN</td>\n",
       "      <td>FATAL</td>\n",
       "      <td>Y</td>\n",
       "      <td>NaN</td>\n",
       "      <td>NaN</td>\n",
       "      <td>dinofish.com</td>\n",
       "      <td>1956.00.00.g-Capt-Hunt.pdf</td>\n",
       "      <td>http://sharkattackfile.net/spreadsheets/pdf_di...</td>\n",
       "      <td>http://sharkattackfile.net/spreadsheets/pdf_di...</td>\n",
       "      <td>1956.00.00.g</td>\n",
       "      <td>1956.00.00.g</td>\n",
       "      <td>2037.0</td>\n",
       "    </tr>\n",
       "    <tr>\n",
       "      <th>4498</th>\n",
       "      <td>1949.12.00.b</td>\n",
       "      <td>Dec-1949</td>\n",
       "      <td>1949.0</td>\n",
       "      <td>Sea Disaster</td>\n",
       "      <td>NaN</td>\n",
       "      <td>Caribbean Sea</td>\n",
       "      <td>Between  Cuba  &amp; Costa Rica</td>\n",
       "      <td>Sea Disaster, sinking of the motorship Wingate</td>\n",
       "      <td>Albert Battles, James Dean &amp; 4 crew</td>\n",
       "      <td>M</td>\n",
       "      <td>NaN</td>\n",
       "      <td>Fatal or drowning or scavenging</td>\n",
       "      <td>Y</td>\n",
       "      <td>NaN</td>\n",
       "      <td>Shark involvement not confirmed</td>\n",
       "      <td>Canberra Times, 1/6/1950</td>\n",
       "      <td>1949.12.00.b-Wingate.pdf</td>\n",
       "      <td>http://sharkattackfile.net/spreadsheets/pdf_di...</td>\n",
       "      <td>http://sharkattackfile.net/spreadsheets/pdf_di...</td>\n",
       "      <td>1949.12.00.b</td>\n",
       "      <td>1949.12.00.b</td>\n",
       "      <td>1805.0</td>\n",
       "    </tr>\n",
       "    <tr>\n",
       "      <th>4639</th>\n",
       "      <td>1944.10.24</td>\n",
       "      <td>24-Oct-1944</td>\n",
       "      <td>1944.0</td>\n",
       "      <td>Sea Disaster</td>\n",
       "      <td>NaN</td>\n",
       "      <td>NaN</td>\n",
       "      <td>225 miles east of Hong Kong</td>\n",
       "      <td>Japanese POW ship Arisan Maru with 1800 Americ...</td>\n",
       "      <td>NaN</td>\n",
       "      <td>M</td>\n",
       "      <td>NaN</td>\n",
       "      <td>Most of the men drowned &amp; some were taken by s...</td>\n",
       "      <td>Y</td>\n",
       "      <td>&gt;17h30</td>\n",
       "      <td>NaN</td>\n",
       "      <td>internet (multiple)</td>\n",
       "      <td>1944.10.24-ArisanMaru.pdf</td>\n",
       "      <td>http://sharkattackfile.net/spreadsheets/pdf_di...</td>\n",
       "      <td>http://sharkattackfile.net/spreadsheets/pdf_di...</td>\n",
       "      <td>1944.10.24</td>\n",
       "      <td>1944.10.24</td>\n",
       "      <td>1664.0</td>\n",
       "    </tr>\n",
       "    <tr>\n",
       "      <th>4700</th>\n",
       "      <td>1942.11.00.a</td>\n",
       "      <td>Nov-1942</td>\n",
       "      <td>1942.0</td>\n",
       "      <td>Sea Disaster</td>\n",
       "      <td>NaN</td>\n",
       "      <td>Off South American coast</td>\n",
       "      <td>NaN</td>\n",
       "      <td>Dutch merchant ship Zaandam torpedoed  by the ...</td>\n",
       "      <td>NaN</td>\n",
       "      <td>M</td>\n",
       "      <td>NaN</td>\n",
       "      <td>FATAL</td>\n",
       "      <td>Y</td>\n",
       "      <td>NaN</td>\n",
       "      <td>NaN</td>\n",
       "      <td>M.  Murphy; V.M. Coppleson (1962), pp.207-208</td>\n",
       "      <td>1942.11.00.a-Izzi.pdf</td>\n",
       "      <td>http://sharkattackfile.net/spreadsheets/pdf_di...</td>\n",
       "      <td>http://sharkattackfile.net/spreadsheets/pdf_di...</td>\n",
       "      <td>1942.11.00.a</td>\n",
       "      <td>1942.11.00.a</td>\n",
       "      <td>1603.0</td>\n",
       "    </tr>\n",
       "    <tr>\n",
       "      <th>4712</th>\n",
       "      <td>1942.06.00</td>\n",
       "      <td>Jun-1942</td>\n",
       "      <td>1942.0</td>\n",
       "      <td>Unprovoked</td>\n",
       "      <td>NaN</td>\n",
       "      <td>300 miles east of St. Thomas (Virgin Islands)</td>\n",
       "      <td>NaN</td>\n",
       "      <td>On life raft tethered to lifeboat. A seaman pu...</td>\n",
       "      <td>male</td>\n",
       "      <td>M</td>\n",
       "      <td>NaN</td>\n",
       "      <td>Forearm lacerated</td>\n",
       "      <td>N</td>\n",
       "      <td>NaN</td>\n",
       "      <td>NaN</td>\n",
       "      <td>V.M. Coppleson (1962), p.258</td>\n",
       "      <td>1942.06.00-on-life-raft.pdf</td>\n",
       "      <td>http://sharkattackfile.net/spreadsheets/pdf_di...</td>\n",
       "      <td>http://sharkattackfile.net/spreadsheets/pdf_di...</td>\n",
       "      <td>1942.06.00</td>\n",
       "      <td>1942.06.00</td>\n",
       "      <td>1591.0</td>\n",
       "    </tr>\n",
       "    <tr>\n",
       "      <th>5020</th>\n",
       "      <td>1931.04.27.R</td>\n",
       "      <td>Reported 27-Apr-1931</td>\n",
       "      <td>1931.0</td>\n",
       "      <td>Unprovoked</td>\n",
       "      <td>NaN</td>\n",
       "      <td>French Southern Territories</td>\n",
       "      <td>Île Saint-Paul</td>\n",
       "      <td>Fishing, boat capsized</td>\n",
       "      <td>Quillezic</td>\n",
       "      <td>M</td>\n",
       "      <td>NaN</td>\n",
       "      <td>FATAL</td>\n",
       "      <td>Y</td>\n",
       "      <td>NaN</td>\n",
       "      <td>NaN</td>\n",
       "      <td>Los Angeles Times, 4/27/1931</td>\n",
       "      <td>1931.04.27.R-Quillezic.pdf</td>\n",
       "      <td>http://sharkattackfile.net/spreadsheets/pdf_di...</td>\n",
       "      <td>http://sharkattackfile.net/spreadsheets/pdf_di...</td>\n",
       "      <td>1931.04.27.R</td>\n",
       "      <td>1931.04.27.R</td>\n",
       "      <td>1283.0</td>\n",
       "    </tr>\n",
       "    <tr>\n",
       "      <th>5425</th>\n",
       "      <td>1909.01.17</td>\n",
       "      <td>17-Jan-1909</td>\n",
       "      <td>1909.0</td>\n",
       "      <td>Invalid</td>\n",
       "      <td>NaN</td>\n",
       "      <td>NaN</td>\n",
       "      <td>Near the equator</td>\n",
       "      <td>Jumped overboard</td>\n",
       "      <td>Thomas Butler</td>\n",
       "      <td>M</td>\n",
       "      <td>36</td>\n",
       "      <td>FATAL</td>\n",
       "      <td>NaN</td>\n",
       "      <td>NaN</td>\n",
       "      <td>Questionable</td>\n",
       "      <td>Star, 3/18/1909</td>\n",
       "      <td>1909.01.17-Butler.pdf</td>\n",
       "      <td>http://sharkattackfile.net/spreadsheets/pdf_di...</td>\n",
       "      <td>http://sharkattackfile.net/spreadsheets/pdf_di...</td>\n",
       "      <td>1909.01.17</td>\n",
       "      <td>1909.01.17</td>\n",
       "      <td>878.0</td>\n",
       "    </tr>\n",
       "    <tr>\n",
       "      <th>5612</th>\n",
       "      <td>1897.03.15.b.R</td>\n",
       "      <td>Reported 15-Mar-1897</td>\n",
       "      <td>1897.0</td>\n",
       "      <td>Unprovoked</td>\n",
       "      <td>NaN</td>\n",
       "      <td>Mediterranean Sea</td>\n",
       "      <td>NaN</td>\n",
       "      <td>Swimming</td>\n",
       "      <td>male</td>\n",
       "      <td>M</td>\n",
       "      <td>NaN</td>\n",
       "      <td>FATAL</td>\n",
       "      <td>Y</td>\n",
       "      <td>NaN</td>\n",
       "      <td>NaN</td>\n",
       "      <td>Daily Northwestern, 5/15/1897</td>\n",
       "      <td>1897.03.15.b.R-Mediterranean.pdf</td>\n",
       "      <td>http://sharkattackfile.net/spreadsheets/pdf_di...</td>\n",
       "      <td>http://sharkattackfile.net/spreadsheets/pdf_di...</td>\n",
       "      <td>1897.03.15.b.R</td>\n",
       "      <td>1897.03.15.b.R</td>\n",
       "      <td>691.0</td>\n",
       "    </tr>\n",
       "    <tr>\n",
       "      <th>5742</th>\n",
       "      <td>1887.07.30</td>\n",
       "      <td>30-Jul-1887</td>\n",
       "      <td>1887.0</td>\n",
       "      <td>Sea Disaster</td>\n",
       "      <td>NaN</td>\n",
       "      <td>Gulf of California</td>\n",
       "      <td>NaN</td>\n",
       "      <td>Sea disaster, wreck of the sloop Sara</td>\n",
       "      <td>2 males</td>\n",
       "      <td>M</td>\n",
       "      <td>NaN</td>\n",
       "      <td>FATAL</td>\n",
       "      <td>Y</td>\n",
       "      <td>NaN</td>\n",
       "      <td>NaN</td>\n",
       "      <td>Austin Weekly Statesman, 8/11/1887</td>\n",
       "      <td>1887.07.30-TheSara.pdf</td>\n",
       "      <td>http://sharkattackfile.net/spreadsheets/pdf_di...</td>\n",
       "      <td>http://sharkattackfile.net/spreadsheets/pdf_di...</td>\n",
       "      <td>1887.07.30</td>\n",
       "      <td>1887.07.30</td>\n",
       "      <td>561.0</td>\n",
       "    </tr>\n",
       "    <tr>\n",
       "      <th>5808</th>\n",
       "      <td>1881.08.16.R</td>\n",
       "      <td>Reported 16-Aug-1881</td>\n",
       "      <td>1881.0</td>\n",
       "      <td>Unprovoked</td>\n",
       "      <td>NaN</td>\n",
       "      <td>Western Banks</td>\n",
       "      <td>NaN</td>\n",
       "      <td>Floating, holding onto an oar after dory capsized</td>\n",
       "      <td>George Sedgwick</td>\n",
       "      <td>M</td>\n",
       "      <td>20</td>\n",
       "      <td>FATAL</td>\n",
       "      <td>Y</td>\n",
       "      <td>NaN</td>\n",
       "      <td>NaN</td>\n",
       "      <td>Lewiston Evening Journal, 8/16/1881</td>\n",
       "      <td>1881.08.16.R-Sedgwick.pdf</td>\n",
       "      <td>http://sharkattackfile.net/spreadsheets/pdf_di...</td>\n",
       "      <td>http://sharkattackfile.net/spreadsheets/pdf_di...</td>\n",
       "      <td>1881.08.16.R</td>\n",
       "      <td>1881.08.16.R</td>\n",
       "      <td>495.0</td>\n",
       "    </tr>\n",
       "    <tr>\n",
       "      <th>5810</th>\n",
       "      <td>1881.06.25</td>\n",
       "      <td>25-Jul-1881</td>\n",
       "      <td>1881.0</td>\n",
       "      <td>Unprovoked</td>\n",
       "      <td>NaN</td>\n",
       "      <td>NaN</td>\n",
       "      <td>Santa Cruz</td>\n",
       "      <td>Bathing</td>\n",
       "      <td>Father Hudson</td>\n",
       "      <td>M</td>\n",
       "      <td>NaN</td>\n",
       "      <td>Survived</td>\n",
       "      <td>N</td>\n",
       "      <td>NaN</td>\n",
       "      <td>NaN</td>\n",
       "      <td>Grey River Argus,10/3/1881, p.2</td>\n",
       "      <td>1881.06.25-FatherHudson.pdf</td>\n",
       "      <td>http://sharkattackfile.net/spreadsheets/pdf_di...</td>\n",
       "      <td>http://sharkattackfile.net/spreadsheets/pdf_di...</td>\n",
       "      <td>1881.06.25</td>\n",
       "      <td>1881.06.25</td>\n",
       "      <td>493.0</td>\n",
       "    </tr>\n",
       "    <tr>\n",
       "      <th>6137</th>\n",
       "      <td>1787.07.05</td>\n",
       "      <td>05-Jul-1787</td>\n",
       "      <td>1787.0</td>\n",
       "      <td>Unprovoked</td>\n",
       "      <td>NaN</td>\n",
       "      <td>St Helena</td>\n",
       "      <td>Landing Place</td>\n",
       "      <td>Swimming</td>\n",
       "      <td>Private Isaac Hicksled</td>\n",
       "      <td>M</td>\n",
       "      <td>NaN</td>\n",
       "      <td>FATAL</td>\n",
       "      <td>Y</td>\n",
       "      <td>NaN</td>\n",
       "      <td>NaN</td>\n",
       "      <td>H.R. Janisch (1885), Extracts from the St. Hel...</td>\n",
       "      <td>1787.07.05-Hicksled.pdf</td>\n",
       "      <td>http://sharkattackfile.net/spreadsheets/pdf_di...</td>\n",
       "      <td>http://sharkattackfile.net/spreadsheets/pdf_di...</td>\n",
       "      <td>1787.07.05</td>\n",
       "      <td>1787.07.05</td>\n",
       "      <td>166.0</td>\n",
       "    </tr>\n",
       "    <tr>\n",
       "      <th>6155</th>\n",
       "      <td>1742.12.17</td>\n",
       "      <td>17-Dec-1742</td>\n",
       "      <td>1742.0</td>\n",
       "      <td>Unprovoked</td>\n",
       "      <td>NaN</td>\n",
       "      <td>NaN</td>\n",
       "      <td>Carlisle Bay</td>\n",
       "      <td>Swimming</td>\n",
       "      <td>2 impressed seamen</td>\n",
       "      <td>M</td>\n",
       "      <td>NaN</td>\n",
       "      <td>FATAL</td>\n",
       "      <td>Y</td>\n",
       "      <td>NaN</td>\n",
       "      <td>NaN</td>\n",
       "      <td>C. Moore, GSAF</td>\n",
       "      <td>1742.12.17-AdviceSeamen.pdf</td>\n",
       "      <td>http://sharkattackfile.net/spreadsheets/pdf_di...</td>\n",
       "      <td>http://sharkattackfile.net/spreadsheets/pdf_di...</td>\n",
       "      <td>1742.12.17</td>\n",
       "      <td>1742.12.17</td>\n",
       "      <td>148.0</td>\n",
       "    </tr>\n",
       "    <tr>\n",
       "      <th>6175</th>\n",
       "      <td>0077.00.00</td>\n",
       "      <td>77  A.D.</td>\n",
       "      <td>77.0</td>\n",
       "      <td>Unprovoked</td>\n",
       "      <td>NaN</td>\n",
       "      <td>Ionian Sea</td>\n",
       "      <td>NaN</td>\n",
       "      <td>Sponge diving</td>\n",
       "      <td>males</td>\n",
       "      <td>M</td>\n",
       "      <td>NaN</td>\n",
       "      <td>FATAL</td>\n",
       "      <td>Y</td>\n",
       "      <td>NaN</td>\n",
       "      <td>NaN</td>\n",
       "      <td>Perils mentioned by Pliny the Elder (23 A.D. t...</td>\n",
       "      <td>77AD-Pliny.pdf</td>\n",
       "      <td>http://sharkattackfile.net/spreadsheets/pdf_di...</td>\n",
       "      <td>http://sharkattackfile.net/spreadsheets/pdf_di...</td>\n",
       "      <td>0077.00.00</td>\n",
       "      <td>0077.00.00</td>\n",
       "      <td>128.0</td>\n",
       "    </tr>\n",
       "    <tr>\n",
       "      <th>6177</th>\n",
       "      <td>0000.0214</td>\n",
       "      <td>Ca. 214 B.C.</td>\n",
       "      <td>0.0</td>\n",
       "      <td>Unprovoked</td>\n",
       "      <td>NaN</td>\n",
       "      <td>Ionian Sea</td>\n",
       "      <td>NaN</td>\n",
       "      <td>Ascending from a dive</td>\n",
       "      <td>Tharsys, a sponge diver</td>\n",
       "      <td>M</td>\n",
       "      <td>NaN</td>\n",
       "      <td>FATAL, shark/s bit him in two</td>\n",
       "      <td>Y</td>\n",
       "      <td>NaN</td>\n",
       "      <td>NaN</td>\n",
       "      <td>Reported by Greek poet, Leonidas of Tarentum (...</td>\n",
       "      <td>214BC-Tharsys.pdf</td>\n",
       "      <td>http://sharkattackfile.net/spreadsheets/pdf_di...</td>\n",
       "      <td>http://sharkattackfile.net/spreadsheets/pdf_di...</td>\n",
       "      <td>0000.0214</td>\n",
       "      <td>0000.0214</td>\n",
       "      <td>126.0</td>\n",
       "    </tr>\n",
       "    <tr>\n",
       "      <th>6206</th>\n",
       "      <td>ND-0114</td>\n",
       "      <td>Before 2012</td>\n",
       "      <td>0.0</td>\n",
       "      <td>Unprovoked</td>\n",
       "      <td>NaN</td>\n",
       "      <td>NaN</td>\n",
       "      <td>In a river feeding into the Bay of Bengal</td>\n",
       "      <td>Netting shrimp</td>\n",
       "      <td>Sametra Mestri</td>\n",
       "      <td>F</td>\n",
       "      <td>NaN</td>\n",
       "      <td>Hand severed</td>\n",
       "      <td>N</td>\n",
       "      <td>NaN</td>\n",
       "      <td>NaN</td>\n",
       "      <td>National Georgraphic Television</td>\n",
       "      <td>ND-0114-BayOfBengal.pdf</td>\n",
       "      <td>http://sharkattackfile.net/spreadsheets/pdf_di...</td>\n",
       "      <td>http://sharkattackfile.net/spreadsheets/pdf_di...</td>\n",
       "      <td>ND-0114</td>\n",
       "      <td>ND-0114</td>\n",
       "      <td>97.0</td>\n",
       "    </tr>\n",
       "  </tbody>\n",
       "</table>\n",
       "</div>"
      ],
      "text/plain": [
       "         Case Number                  Date    Year          Type Country  \\\n",
       "2956    1983.00.00.d              Ca. 1983  1983.0    Unprovoked     NaN   \n",
       "3387      1970.08.02           02-Aug-1970  1970.0       Invalid     NaN   \n",
       "3605      1965.10.21           21-Oct-1965  1965.0    Unprovoked     NaN   \n",
       "4018      1960.01.26           26-Jan-1960  1960.0  Sea Disaster     NaN   \n",
       "4231      1956.09.13           13-Sep-1956  1956.0    Unprovoked     NaN   \n",
       "4266    1956.00.00.g                  1956  1956.0  Sea Disaster     NaN   \n",
       "4498    1949.12.00.b              Dec-1949  1949.0  Sea Disaster     NaN   \n",
       "4639      1944.10.24           24-Oct-1944  1944.0  Sea Disaster     NaN   \n",
       "4700    1942.11.00.a              Nov-1942  1942.0  Sea Disaster     NaN   \n",
       "4712      1942.06.00              Jun-1942  1942.0    Unprovoked     NaN   \n",
       "5020    1931.04.27.R  Reported 27-Apr-1931  1931.0    Unprovoked     NaN   \n",
       "5425      1909.01.17           17-Jan-1909  1909.0       Invalid     NaN   \n",
       "5612  1897.03.15.b.R  Reported 15-Mar-1897  1897.0    Unprovoked     NaN   \n",
       "5742      1887.07.30           30-Jul-1887  1887.0  Sea Disaster     NaN   \n",
       "5808    1881.08.16.R  Reported 16-Aug-1881  1881.0    Unprovoked     NaN   \n",
       "5810      1881.06.25           25-Jul-1881  1881.0    Unprovoked     NaN   \n",
       "6137      1787.07.05           05-Jul-1787  1787.0    Unprovoked     NaN   \n",
       "6155      1742.12.17           17-Dec-1742  1742.0    Unprovoked     NaN   \n",
       "6175      0077.00.00              77  A.D.    77.0    Unprovoked     NaN   \n",
       "6177       0000.0214          Ca. 214 B.C.     0.0    Unprovoked     NaN   \n",
       "6206         ND-0114           Before 2012     0.0    Unprovoked     NaN   \n",
       "\n",
       "                                               Area  \\\n",
       "2956                                English Channel   \n",
       "3387                                  Caribbean Sea   \n",
       "3605                                            NaN   \n",
       "4018              Between Timor & Darwin, Australia   \n",
       "4231             Near the Andaman & Nicobar Islands   \n",
       "4266                   Between Comores & Madagascar   \n",
       "4498                                  Caribbean Sea   \n",
       "4639                                            NaN   \n",
       "4700                       Off South American coast   \n",
       "4712  300 miles east of St. Thomas (Virgin Islands)   \n",
       "5020                    French Southern Territories   \n",
       "5425                                            NaN   \n",
       "5612                              Mediterranean Sea   \n",
       "5742                             Gulf of California   \n",
       "5808                                  Western Banks   \n",
       "5810                                            NaN   \n",
       "6137                                      St Helena   \n",
       "6155                                            NaN   \n",
       "6175                                     Ionian Sea   \n",
       "6177                                     Ionian Sea   \n",
       "6206                                            NaN   \n",
       "\n",
       "                                       Location  \\\n",
       "2956                                        NaN   \n",
       "3387                  Between St. Kitts & Nevis   \n",
       "3605                             Florida Strait   \n",
       "4018                                        NaN   \n",
       "4231                                        NaN   \n",
       "4266                                Geyser Bank   \n",
       "4498                Between  Cuba  & Costa Rica   \n",
       "4639                225 miles east of Hong Kong   \n",
       "4700                                        NaN   \n",
       "4712                                        NaN   \n",
       "5020                             Île Saint-Paul   \n",
       "5425                           Near the equator   \n",
       "5612                                        NaN   \n",
       "5742                                        NaN   \n",
       "5808                                        NaN   \n",
       "5810                                 Santa Cruz   \n",
       "6137                              Landing Place   \n",
       "6155                               Carlisle Bay   \n",
       "6175                                        NaN   \n",
       "6177                                        NaN   \n",
       "6206  In a river feeding into the Bay of Bengal   \n",
       "\n",
       "                                               Activity  \\\n",
       "2956                                           Swimming   \n",
       "3387        Sea Disaster Sinking of ferryboat Christina   \n",
       "3605                           The boat Caribou II sank   \n",
       "4018  Portuguese Airliner with 9 people aboard went ...   \n",
       "4231                              Climbing back on ship   \n",
       "4266                                          Shipwreck   \n",
       "4498     Sea Disaster, sinking of the motorship Wingate   \n",
       "4639  Japanese POW ship Arisan Maru with 1800 Americ...   \n",
       "4700  Dutch merchant ship Zaandam torpedoed  by the ...   \n",
       "4712  On life raft tethered to lifeboat. A seaman pu...   \n",
       "5020                             Fishing, boat capsized   \n",
       "5425                                  Jumped overboard    \n",
       "5612                                           Swimming   \n",
       "5742              Sea disaster, wreck of the sloop Sara   \n",
       "5808  Floating, holding onto an oar after dory capsized   \n",
       "5810                                            Bathing   \n",
       "6137                                           Swimming   \n",
       "6155                                           Swimming   \n",
       "6175                                      Sponge diving   \n",
       "6177                              Ascending from a dive   \n",
       "6206                                     Netting shrimp   \n",
       "\n",
       "                                                  Name Sex   Age  \\\n",
       "2956                Padma Shri Taranath Narayan Shenoy    M  NaN   \n",
       "3387                                               NaN  NaN  NaN   \n",
       "3605                                 Mario Castellanos    M   39   \n",
       "4018                                               NaN  NaN  NaN   \n",
       "4231                                              male    M  NaN   \n",
       "4266  Captain Eric Hunt, the cook & a French passenger    M  NaN   \n",
       "4498               Albert Battles, James Dean & 4 crew    M  NaN   \n",
       "4639                                               NaN    M  NaN   \n",
       "4700                                               NaN    M  NaN   \n",
       "4712                                              male    M  NaN   \n",
       "5020                                         Quillezic    M  NaN   \n",
       "5425                                     Thomas Butler    M   36   \n",
       "5612                                              male    M  NaN   \n",
       "5742                                           2 males    M  NaN   \n",
       "5808                                   George Sedgwick    M   20   \n",
       "5810                                     Father Hudson    M  NaN   \n",
       "6137                            Private Isaac Hicksled    M  NaN   \n",
       "6155                                2 impressed seamen    M  NaN   \n",
       "6175                                             males    M  NaN   \n",
       "6177                           Tharsys, a sponge diver    M  NaN   \n",
       "6206                                    Sametra Mestri    F  NaN   \n",
       "\n",
       "                                                 Injury Fatal (Y/N)  \\\n",
       "2956                                    Left leg bitten           N   \n",
       "3387  Sharks scavenged on bodies, but no record of t...         NaN   \n",
       "3605                                           Survived           N   \n",
       "4018  As searchers approached wreckage, sharks circl...           N   \n",
       "4231                                              FATAL           Y   \n",
       "4266                                              FATAL           Y   \n",
       "4498                    Fatal or drowning or scavenging           Y   \n",
       "4639  Most of the men drowned & some were taken by s...           Y   \n",
       "4700                                              FATAL           Y   \n",
       "4712                                  Forearm lacerated           N   \n",
       "5020                                              FATAL           Y   \n",
       "5425                                              FATAL         NaN   \n",
       "5612                                              FATAL           Y   \n",
       "5742                                              FATAL           Y   \n",
       "5808                                              FATAL           Y   \n",
       "5810                                           Survived           N   \n",
       "6137                                              FATAL           Y   \n",
       "6155                                              FATAL           Y   \n",
       "6175                                              FATAL           Y   \n",
       "6177                      FATAL, shark/s bit him in two           Y   \n",
       "6206                                       Hand severed           N   \n",
       "\n",
       "           Time                                           Species   \\\n",
       "2956        NaN                                                NaN   \n",
       "3387  Afternoon  Shark involvement prior to death was not confi...   \n",
       "3605        NaN                                                NaN   \n",
       "4018        NaN                                                NaN   \n",
       "4231       P.M.                                         Blue shark   \n",
       "4266        NaN                                                NaN   \n",
       "4498        NaN                    Shark involvement not confirmed   \n",
       "4639     >17h30                                                NaN   \n",
       "4700        NaN                                                NaN   \n",
       "4712        NaN                                                NaN   \n",
       "5020        NaN                                                NaN   \n",
       "5425        NaN                                       Questionable   \n",
       "5612        NaN                                                NaN   \n",
       "5742        NaN                                                NaN   \n",
       "5808        NaN                                                NaN   \n",
       "5810        NaN                                                NaN   \n",
       "6137        NaN                                                NaN   \n",
       "6155        NaN                                                NaN   \n",
       "6175        NaN                                                NaN   \n",
       "6177        NaN                                                NaN   \n",
       "6206        NaN                                                NaN   \n",
       "\n",
       "                                 Investigator or Source  \\\n",
       "2956                           Times of India, 2/5/2012   \n",
       "3387                        Rome News Tribune, 8/3/1970   \n",
       "3605                     Lodi News Sentinel, 10/30/1965   \n",
       "4018                       V.M. Coppleson (1962), p.260   \n",
       "4231                                          M. Hosina   \n",
       "4266                                       dinofish.com   \n",
       "4498                           Canberra Times, 1/6/1950   \n",
       "4639                                internet (multiple)   \n",
       "4700      M.  Murphy; V.M. Coppleson (1962), pp.207-208   \n",
       "4712                       V.M. Coppleson (1962), p.258   \n",
       "5020                       Los Angeles Times, 4/27/1931   \n",
       "5425                                    Star, 3/18/1909   \n",
       "5612                      Daily Northwestern, 5/15/1897   \n",
       "5742                 Austin Weekly Statesman, 8/11/1887   \n",
       "5808                Lewiston Evening Journal, 8/16/1881   \n",
       "5810                    Grey River Argus,10/3/1881, p.2   \n",
       "6137  H.R. Janisch (1885), Extracts from the St. Hel...   \n",
       "6155                                     C. Moore, GSAF   \n",
       "6175  Perils mentioned by Pliny the Elder (23 A.D. t...   \n",
       "6177  Reported by Greek poet, Leonidas of Tarentum (...   \n",
       "6206                    National Georgraphic Television   \n",
       "\n",
       "                                     pdf  \\\n",
       "2956             1983.00.00.d-Shenoy.pdf   \n",
       "3387  1970.08.02-Christina-ferryboat.pdf   \n",
       "3605          1965.10.21-Castellanos.pdf   \n",
       "4018  1960.01.26-Portuguese airliner.pdf   \n",
       "4231             1956.09.13-TunaBoat.pdf   \n",
       "4266          1956.00.00.g-Capt-Hunt.pdf   \n",
       "4498            1949.12.00.b-Wingate.pdf   \n",
       "4639           1944.10.24-ArisanMaru.pdf   \n",
       "4700               1942.11.00.a-Izzi.pdf   \n",
       "4712         1942.06.00-on-life-raft.pdf   \n",
       "5020          1931.04.27.R-Quillezic.pdf   \n",
       "5425               1909.01.17-Butler.pdf   \n",
       "5612    1897.03.15.b.R-Mediterranean.pdf   \n",
       "5742              1887.07.30-TheSara.pdf   \n",
       "5808           1881.08.16.R-Sedgwick.pdf   \n",
       "5810         1881.06.25-FatherHudson.pdf   \n",
       "6137             1787.07.05-Hicksled.pdf   \n",
       "6155         1742.12.17-AdviceSeamen.pdf   \n",
       "6175                      77AD-Pliny.pdf   \n",
       "6177                   214BC-Tharsys.pdf   \n",
       "6206             ND-0114-BayOfBengal.pdf   \n",
       "\n",
       "                                           href formula  \\\n",
       "2956  http://sharkattackfile.net/spreadsheets/pdf_di...   \n",
       "3387  http://sharkattackfile.net/spreadsheets/pdf_di...   \n",
       "3605  http://sharkattackfile.net/spreadsheets/pdf_di...   \n",
       "4018  http://sharkattackfile.net/spreadsheets/pdf_di...   \n",
       "4231  http://sharkattackfile.net/spreadsheets/pdf_di...   \n",
       "4266  http://sharkattackfile.net/spreadsheets/pdf_di...   \n",
       "4498  http://sharkattackfile.net/spreadsheets/pdf_di...   \n",
       "4639  http://sharkattackfile.net/spreadsheets/pdf_di...   \n",
       "4700  http://sharkattackfile.net/spreadsheets/pdf_di...   \n",
       "4712  http://sharkattackfile.net/spreadsheets/pdf_di...   \n",
       "5020  http://sharkattackfile.net/spreadsheets/pdf_di...   \n",
       "5425  http://sharkattackfile.net/spreadsheets/pdf_di...   \n",
       "5612  http://sharkattackfile.net/spreadsheets/pdf_di...   \n",
       "5742  http://sharkattackfile.net/spreadsheets/pdf_di...   \n",
       "5808  http://sharkattackfile.net/spreadsheets/pdf_di...   \n",
       "5810  http://sharkattackfile.net/spreadsheets/pdf_di...   \n",
       "6137  http://sharkattackfile.net/spreadsheets/pdf_di...   \n",
       "6155  http://sharkattackfile.net/spreadsheets/pdf_di...   \n",
       "6175  http://sharkattackfile.net/spreadsheets/pdf_di...   \n",
       "6177  http://sharkattackfile.net/spreadsheets/pdf_di...   \n",
       "6206  http://sharkattackfile.net/spreadsheets/pdf_di...   \n",
       "\n",
       "                                                   href   Case Number.1  \\\n",
       "2956  http://sharkattackfile.net/spreadsheets/pdf_di...    1983.00.00.d   \n",
       "3387  http://sharkattackfile.net/spreadsheets/pdf_di...      1970.08.02   \n",
       "3605  http://sharkattackfile.net/spreadsheets/pdf_di...      1965.10.21   \n",
       "4018  http://sharkattackfile.net/spreadsheets/pdf_di...      1960.01.26   \n",
       "4231  http://sharkattackfile.net/spreadsheets/pdf_di...      1956.09.13   \n",
       "4266  http://sharkattackfile.net/spreadsheets/pdf_di...    1956.00.00.g   \n",
       "4498  http://sharkattackfile.net/spreadsheets/pdf_di...    1949.12.00.b   \n",
       "4639  http://sharkattackfile.net/spreadsheets/pdf_di...      1944.10.24   \n",
       "4700  http://sharkattackfile.net/spreadsheets/pdf_di...    1942.11.00.a   \n",
       "4712  http://sharkattackfile.net/spreadsheets/pdf_di...      1942.06.00   \n",
       "5020  http://sharkattackfile.net/spreadsheets/pdf_di...    1931.04.27.R   \n",
       "5425  http://sharkattackfile.net/spreadsheets/pdf_di...      1909.01.17   \n",
       "5612  http://sharkattackfile.net/spreadsheets/pdf_di...  1897.03.15.b.R   \n",
       "5742  http://sharkattackfile.net/spreadsheets/pdf_di...      1887.07.30   \n",
       "5808  http://sharkattackfile.net/spreadsheets/pdf_di...    1881.08.16.R   \n",
       "5810  http://sharkattackfile.net/spreadsheets/pdf_di...      1881.06.25   \n",
       "6137  http://sharkattackfile.net/spreadsheets/pdf_di...      1787.07.05   \n",
       "6155  http://sharkattackfile.net/spreadsheets/pdf_di...      1742.12.17   \n",
       "6175  http://sharkattackfile.net/spreadsheets/pdf_di...      0077.00.00   \n",
       "6177  http://sharkattackfile.net/spreadsheets/pdf_di...       0000.0214   \n",
       "6206  http://sharkattackfile.net/spreadsheets/pdf_di...         ND-0114   \n",
       "\n",
       "       Case Number.2  original order  \n",
       "2956    1983.00.00.d          3347.0  \n",
       "3387      1970.08.02          2916.0  \n",
       "3605      1965.10.21          2698.0  \n",
       "4018      1960.01.26          2285.0  \n",
       "4231      1956.09.13          2072.0  \n",
       "4266    1956.00.00.g          2037.0  \n",
       "4498    1949.12.00.b          1805.0  \n",
       "4639      1944.10.24          1664.0  \n",
       "4700    1942.11.00.a          1603.0  \n",
       "4712      1942.06.00          1591.0  \n",
       "5020    1931.04.27.R          1283.0  \n",
       "5425      1909.01.17           878.0  \n",
       "5612  1897.03.15.b.R           691.0  \n",
       "5742      1887.07.30           561.0  \n",
       "5808    1881.08.16.R           495.0  \n",
       "5810      1881.06.25           493.0  \n",
       "6137      1787.07.05           166.0  \n",
       "6155      1742.12.17           148.0  \n",
       "6175      0077.00.00           128.0  \n",
       "6177       0000.0214           126.0  \n",
       "6206         ND-0114            97.0  "
      ]
     },
     "execution_count": 34,
     "metadata": {},
     "output_type": "execute_result"
    }
   ],
   "source": [
    "df[df[\"Country\"].isnull()] # Identifico aquí las filas donde la columna \"Country\" cuenta con valores nulos."
   ]
  },
  {
   "cell_type": "markdown",
   "id": "52445e82",
   "metadata": {},
   "source": [
    "Como mencionaba anteriormente, voy a rellenar las celdas con valores nulos en la columna \"Country\" uno por uno. \n",
    "Sin embargo, me doy cuenta de que en algunos índices, la información proporcionada a lo largo de esa fila no es suficiente para identificar el país. Estas filas serán eliminadas directamente. El resto casos, los completaré manualmente."
   ]
  },
  {
   "cell_type": "code",
   "execution_count": 35,
   "id": "beaffc5d",
   "metadata": {},
   "outputs": [],
   "source": [
    "df.drop([4700, 5425, 5612, 5808, 5810, 6206], inplace=True)"
   ]
  },
  {
   "cell_type": "code",
   "execution_count": 36,
   "id": "0d22657e",
   "metadata": {},
   "outputs": [],
   "source": [
    "df.loc[2956, \"Country\"] = \"ENGLAND\" \n",
    "df.loc[3605, \"Country\"] = \"USA\" \n",
    "df.loc[4231, \"Country\"] = \"INDIA\" \n",
    "df.loc[4266, \"Country\"] = \"MADAGASCAR\" \n",
    "df.loc[4498, \"Country\"] = \"CUBA\" \n",
    "df.loc[4639, \"Country\"] = \"CHINA\" \n",
    "df.loc[4712, \"Country\"] = \"USA\" \n",
    "df.loc[5020, \"Country\"] = \"FRANCE\" \n",
    "df.loc[5742, \"Country\"] = \"USA\" \n",
    "df.loc[6137, \"Country\"] = \"ENGLAND\" \n",
    "df.loc[6155, \"Country\"] = \"BARBADOS\"\n",
    "df.loc[6175, \"Country\"] = \"GREECE/ITALY\" \n",
    "df.loc[6177, \"Country\"] = \"GREECE/ITALY\""
   ]
  },
  {
   "cell_type": "code",
   "execution_count": 37,
   "id": "a4d80d72",
   "metadata": {},
   "outputs": [
    {
     "data": {
      "text/html": [
       "<div>\n",
       "<style scoped>\n",
       "    .dataframe tbody tr th:only-of-type {\n",
       "        vertical-align: middle;\n",
       "    }\n",
       "\n",
       "    .dataframe tbody tr th {\n",
       "        vertical-align: top;\n",
       "    }\n",
       "\n",
       "    .dataframe thead th {\n",
       "        text-align: right;\n",
       "    }\n",
       "</style>\n",
       "<table border=\"1\" class=\"dataframe\">\n",
       "  <thead>\n",
       "    <tr style=\"text-align: right;\">\n",
       "      <th></th>\n",
       "      <th>Case Number</th>\n",
       "      <th>Date</th>\n",
       "      <th>Year</th>\n",
       "      <th>Type</th>\n",
       "      <th>Country</th>\n",
       "      <th>Area</th>\n",
       "      <th>Location</th>\n",
       "      <th>Activity</th>\n",
       "      <th>Name</th>\n",
       "      <th>Sex</th>\n",
       "      <th>Age</th>\n",
       "      <th>Injury</th>\n",
       "      <th>Fatal (Y/N)</th>\n",
       "      <th>Time</th>\n",
       "      <th>Species</th>\n",
       "      <th>Investigator or Source</th>\n",
       "      <th>pdf</th>\n",
       "      <th>href formula</th>\n",
       "      <th>href</th>\n",
       "      <th>Case Number.1</th>\n",
       "      <th>Case Number.2</th>\n",
       "      <th>original order</th>\n",
       "    </tr>\n",
       "  </thead>\n",
       "  <tbody>\n",
       "    <tr>\n",
       "      <th>3387</th>\n",
       "      <td>1970.08.02</td>\n",
       "      <td>02-Aug-1970</td>\n",
       "      <td>1970.0</td>\n",
       "      <td>Invalid</td>\n",
       "      <td>NaN</td>\n",
       "      <td>Caribbean Sea</td>\n",
       "      <td>Between St. Kitts &amp; Nevis</td>\n",
       "      <td>Sea Disaster Sinking of ferryboat Christina</td>\n",
       "      <td>NaN</td>\n",
       "      <td>NaN</td>\n",
       "      <td>NaN</td>\n",
       "      <td>Sharks scavenged on bodies, but no record of t...</td>\n",
       "      <td>NaN</td>\n",
       "      <td>Afternoon</td>\n",
       "      <td>Shark involvement prior to death was not confi...</td>\n",
       "      <td>Rome News Tribune, 8/3/1970</td>\n",
       "      <td>1970.08.02-Christina-ferryboat.pdf</td>\n",
       "      <td>http://sharkattackfile.net/spreadsheets/pdf_di...</td>\n",
       "      <td>http://sharkattackfile.net/spreadsheets/pdf_di...</td>\n",
       "      <td>1970.08.02</td>\n",
       "      <td>1970.08.02</td>\n",
       "      <td>2916.0</td>\n",
       "    </tr>\n",
       "    <tr>\n",
       "      <th>4018</th>\n",
       "      <td>1960.01.26</td>\n",
       "      <td>26-Jan-1960</td>\n",
       "      <td>1960.0</td>\n",
       "      <td>Sea Disaster</td>\n",
       "      <td>NaN</td>\n",
       "      <td>Between Timor &amp; Darwin, Australia</td>\n",
       "      <td>NaN</td>\n",
       "      <td>Portuguese Airliner with 9 people aboard went ...</td>\n",
       "      <td>NaN</td>\n",
       "      <td>NaN</td>\n",
       "      <td>NaN</td>\n",
       "      <td>As searchers approached wreckage, sharks circl...</td>\n",
       "      <td>N</td>\n",
       "      <td>NaN</td>\n",
       "      <td>NaN</td>\n",
       "      <td>V.M. Coppleson (1962), p.260</td>\n",
       "      <td>1960.01.26-Portuguese airliner.pdf</td>\n",
       "      <td>http://sharkattackfile.net/spreadsheets/pdf_di...</td>\n",
       "      <td>http://sharkattackfile.net/spreadsheets/pdf_di...</td>\n",
       "      <td>1960.01.26</td>\n",
       "      <td>1960.01.26</td>\n",
       "      <td>2285.0</td>\n",
       "    </tr>\n",
       "  </tbody>\n",
       "</table>\n",
       "</div>"
      ],
      "text/plain": [
       "     Case Number         Date    Year          Type Country  \\\n",
       "3387  1970.08.02  02-Aug-1970  1970.0       Invalid     NaN   \n",
       "4018  1960.01.26  26-Jan-1960  1960.0  Sea Disaster     NaN   \n",
       "\n",
       "                                   Area                   Location  \\\n",
       "3387                      Caribbean Sea  Between St. Kitts & Nevis   \n",
       "4018  Between Timor & Darwin, Australia                        NaN   \n",
       "\n",
       "                                               Activity Name Sex   Age  \\\n",
       "3387        Sea Disaster Sinking of ferryboat Christina  NaN  NaN  NaN   \n",
       "4018  Portuguese Airliner with 9 people aboard went ...  NaN  NaN  NaN   \n",
       "\n",
       "                                                 Injury Fatal (Y/N)  \\\n",
       "3387  Sharks scavenged on bodies, but no record of t...         NaN   \n",
       "4018  As searchers approached wreckage, sharks circl...           N   \n",
       "\n",
       "           Time                                           Species   \\\n",
       "3387  Afternoon  Shark involvement prior to death was not confi...   \n",
       "4018        NaN                                                NaN   \n",
       "\n",
       "            Investigator or Source                                 pdf  \\\n",
       "3387   Rome News Tribune, 8/3/1970  1970.08.02-Christina-ferryboat.pdf   \n",
       "4018  V.M. Coppleson (1962), p.260  1960.01.26-Portuguese airliner.pdf   \n",
       "\n",
       "                                           href formula  \\\n",
       "3387  http://sharkattackfile.net/spreadsheets/pdf_di...   \n",
       "4018  http://sharkattackfile.net/spreadsheets/pdf_di...   \n",
       "\n",
       "                                                   href Case Number.1  \\\n",
       "3387  http://sharkattackfile.net/spreadsheets/pdf_di...    1970.08.02   \n",
       "4018  http://sharkattackfile.net/spreadsheets/pdf_di...    1960.01.26   \n",
       "\n",
       "     Case Number.2  original order  \n",
       "3387    1970.08.02          2916.0  \n",
       "4018    1960.01.26          2285.0  "
      ]
     },
     "execution_count": 37,
     "metadata": {},
     "output_type": "execute_result"
    }
   ],
   "source": [
    "df[df[\"Country\"].isnull()]"
   ]
  },
  {
   "cell_type": "code",
   "execution_count": 38,
   "id": "f863078d",
   "metadata": {},
   "outputs": [
    {
     "data": {
      "text/plain": [
       "Country                      2\n",
       "Area                       423\n",
       "Location                   508\n",
       "Activity                   537\n",
       "Name                       209\n",
       "Sex                        563\n",
       "Age                       2804\n",
       "Injury                      26\n",
       "Fatal (Y/N)                535\n",
       "Time                      3323\n",
       "Species                   2812\n",
       "Investigator or Source      17\n",
       "href formula                 1\n",
       "dtype: int64"
      ]
     },
     "execution_count": 38,
     "metadata": {},
     "output_type": "execute_result"
    }
   ],
   "source": [
    "nan_cols = df.isna().sum() # Vemos que el número de valores nulos se va reduciendo.\n",
    "nan_cols[nan_cols>0]"
   ]
  },
  {
   "cell_type": "markdown",
   "id": "1472ea89",
   "metadata": {},
   "source": [
    "# 3.7. Columnas \"Area\" y \"Location\"."
   ]
  },
  {
   "cell_type": "markdown",
   "id": "f4ca38d7",
   "metadata": {},
   "source": [
    "Es evidente que en ambas columnas se encuentra un elevado porcentaje de valores nulos. Como primera medida, he tomado la decisión de eliminar la columna \"Location\". Esta información no me parece relevante, pues ya contamos con la información del país e incluso, en algunos casos, de forma más específica, con el area concreta en la que el suceso tuvo lugar."
   ]
  },
  {
   "cell_type": "code",
   "execution_count": 39,
   "id": "7b0fb9c1",
   "metadata": {},
   "outputs": [
    {
     "data": {
      "text/plain": [
       "6.749640976543801"
      ]
     },
     "execution_count": 39,
     "metadata": {},
     "output_type": "execute_result"
    }
   ],
   "source": [
    "df[\"Area\"].isnull().sum() / len(df) * 100"
   ]
  },
  {
   "cell_type": "code",
   "execution_count": 40,
   "id": "1e8d2552",
   "metadata": {},
   "outputs": [
    {
     "data": {
      "text/plain": [
       "8.10595181107388"
      ]
     },
     "execution_count": 40,
     "metadata": {},
     "output_type": "execute_result"
    }
   ],
   "source": [
    "df[\"Location\"].isnull().sum() / len(df) * 100"
   ]
  },
  {
   "cell_type": "code",
   "execution_count": 41,
   "id": "ceca080b",
   "metadata": {},
   "outputs": [],
   "source": [
    "df = df.drop(df.columns[df.columns.str.contains(\"Location\")], axis=1)"
   ]
  },
  {
   "cell_type": "markdown",
   "id": "d7de7dd8",
   "metadata": {},
   "source": [
    "En lo que respecta a la columna \"Area\", mi enfoque será llenar los valores nulos con la siguiente string: \"Area situada en {nombre del país al que pertenece (obtenido de la columna anterior, \"Country\")}\". Este proceso me ayudará a, aún no contando con toda la información en algunas de las filas, mantener las celdas en las que si disponemos del mismo."
   ]
  },
  {
   "cell_type": "code",
   "execution_count": 42,
   "id": "26abde58",
   "metadata": {},
   "outputs": [
    {
     "data": {
      "text/html": [
       "<div>\n",
       "<style scoped>\n",
       "    .dataframe tbody tr th:only-of-type {\n",
       "        vertical-align: middle;\n",
       "    }\n",
       "\n",
       "    .dataframe tbody tr th {\n",
       "        vertical-align: top;\n",
       "    }\n",
       "\n",
       "    .dataframe thead th {\n",
       "        text-align: right;\n",
       "    }\n",
       "</style>\n",
       "<table border=\"1\" class=\"dataframe\">\n",
       "  <thead>\n",
       "    <tr style=\"text-align: right;\">\n",
       "      <th></th>\n",
       "      <th>Area</th>\n",
       "      <th>Country</th>\n",
       "    </tr>\n",
       "  </thead>\n",
       "  <tbody>\n",
       "    <tr>\n",
       "      <th>0</th>\n",
       "      <td>California</td>\n",
       "      <td>USA</td>\n",
       "    </tr>\n",
       "    <tr>\n",
       "      <th>1</th>\n",
       "      <td>Georgia</td>\n",
       "      <td>USA</td>\n",
       "    </tr>\n",
       "    <tr>\n",
       "      <th>2</th>\n",
       "      <td>Hawaii</td>\n",
       "      <td>USA</td>\n",
       "    </tr>\n",
       "    <tr>\n",
       "      <th>3</th>\n",
       "      <td>New South Wales</td>\n",
       "      <td>AUSTRALIA</td>\n",
       "    </tr>\n",
       "    <tr>\n",
       "      <th>4</th>\n",
       "      <td>Colima</td>\n",
       "      <td>MEXICO</td>\n",
       "    </tr>\n",
       "    <tr>\n",
       "      <th>...</th>\n",
       "      <td>...</td>\n",
       "      <td>...</td>\n",
       "    </tr>\n",
       "    <tr>\n",
       "      <th>6297</th>\n",
       "      <td>Western Australia</td>\n",
       "      <td>AUSTRALIA</td>\n",
       "    </tr>\n",
       "    <tr>\n",
       "      <th>6298</th>\n",
       "      <td>Western Australia</td>\n",
       "      <td>AUSTRALIA</td>\n",
       "    </tr>\n",
       "    <tr>\n",
       "      <th>6299</th>\n",
       "      <td>North Carolina</td>\n",
       "      <td>USA</td>\n",
       "    </tr>\n",
       "    <tr>\n",
       "      <th>6300</th>\n",
       "      <td>NaN</td>\n",
       "      <td>PANAMA</td>\n",
       "    </tr>\n",
       "    <tr>\n",
       "      <th>6301</th>\n",
       "      <td>Eastern Province</td>\n",
       "      <td>CEYLON (SRI LANKA)</td>\n",
       "    </tr>\n",
       "  </tbody>\n",
       "</table>\n",
       "<p>6267 rows × 2 columns</p>\n",
       "</div>"
      ],
      "text/plain": [
       "                   Area             Country\n",
       "0            California                 USA\n",
       "1               Georgia                 USA\n",
       "2                Hawaii                 USA\n",
       "3       New South Wales           AUSTRALIA\n",
       "4                Colima              MEXICO\n",
       "...                 ...                 ...\n",
       "6297  Western Australia           AUSTRALIA\n",
       "6298  Western Australia           AUSTRALIA\n",
       "6299     North Carolina                 USA\n",
       "6300                NaN              PANAMA\n",
       "6301   Eastern Province  CEYLON (SRI LANKA)\n",
       "\n",
       "[6267 rows x 2 columns]"
      ]
     },
     "execution_count": 42,
     "metadata": {},
     "output_type": "execute_result"
    }
   ],
   "source": [
    "df[[\"Area\", \"Country\"]]"
   ]
  },
  {
   "cell_type": "code",
   "execution_count": 43,
   "id": "0d87ad74",
   "metadata": {},
   "outputs": [],
   "source": [
    "# Función para rellenar los valores nulos en \"Area\" con una cadena basada en \"Country\":\n",
    "\n",
    "def rellenar_area(x):\n",
    "    if pd.isna(x[\"Area\"]):\n",
    "        return f\"Area perteneciente a: {x['Country']}\"\n",
    "    else:\n",
    "        return x[\"Area\"]"
   ]
  },
  {
   "cell_type": "code",
   "execution_count": 44,
   "id": "72bd5b3b",
   "metadata": {},
   "outputs": [],
   "source": [
    "df[\"Area\"] = df.apply(rellenar_area, axis=1)"
   ]
  },
  {
   "cell_type": "code",
   "execution_count": 45,
   "id": "5ac9d3ed",
   "metadata": {},
   "outputs": [
    {
     "data": {
      "text/html": [
       "<div>\n",
       "<style scoped>\n",
       "    .dataframe tbody tr th:only-of-type {\n",
       "        vertical-align: middle;\n",
       "    }\n",
       "\n",
       "    .dataframe tbody tr th {\n",
       "        vertical-align: top;\n",
       "    }\n",
       "\n",
       "    .dataframe thead th {\n",
       "        text-align: right;\n",
       "    }\n",
       "</style>\n",
       "<table border=\"1\" class=\"dataframe\">\n",
       "  <thead>\n",
       "    <tr style=\"text-align: right;\">\n",
       "      <th></th>\n",
       "      <th>Case Number</th>\n",
       "      <th>Date</th>\n",
       "      <th>Year</th>\n",
       "      <th>Type</th>\n",
       "      <th>Country</th>\n",
       "      <th>Area</th>\n",
       "      <th>Activity</th>\n",
       "      <th>Name</th>\n",
       "      <th>Sex</th>\n",
       "      <th>Age</th>\n",
       "      <th>Injury</th>\n",
       "      <th>Fatal (Y/N)</th>\n",
       "      <th>Time</th>\n",
       "      <th>Species</th>\n",
       "      <th>Investigator or Source</th>\n",
       "      <th>pdf</th>\n",
       "      <th>href formula</th>\n",
       "      <th>href</th>\n",
       "      <th>Case Number.1</th>\n",
       "      <th>Case Number.2</th>\n",
       "      <th>original order</th>\n",
       "    </tr>\n",
       "  </thead>\n",
       "  <tbody>\n",
       "    <tr>\n",
       "      <th>6297</th>\n",
       "      <td>ND.0005</td>\n",
       "      <td>Before 1903</td>\n",
       "      <td>0.0</td>\n",
       "      <td>Unprovoked</td>\n",
       "      <td>AUSTRALIA</td>\n",
       "      <td>Western Australia</td>\n",
       "      <td>Diving</td>\n",
       "      <td>male</td>\n",
       "      <td>M</td>\n",
       "      <td>NaN</td>\n",
       "      <td>FATAL</td>\n",
       "      <td>Y</td>\n",
       "      <td>NaN</td>\n",
       "      <td>NaN</td>\n",
       "      <td>H. Taunton; N. Bartlett,  p. 234</td>\n",
       "      <td>ND-0005-RoebuckBay.pdf</td>\n",
       "      <td>http://sharkattackfile.net/spreadsheets/pdf_di...</td>\n",
       "      <td>http://sharkattackfile.net/spreadsheets/pdf_di...</td>\n",
       "      <td>ND.0005</td>\n",
       "      <td>ND.0005</td>\n",
       "      <td>6.0</td>\n",
       "    </tr>\n",
       "    <tr>\n",
       "      <th>6298</th>\n",
       "      <td>ND.0004</td>\n",
       "      <td>Before 1903</td>\n",
       "      <td>0.0</td>\n",
       "      <td>Unprovoked</td>\n",
       "      <td>AUSTRALIA</td>\n",
       "      <td>Western Australia</td>\n",
       "      <td>Pearl diving</td>\n",
       "      <td>Ahmun</td>\n",
       "      <td>M</td>\n",
       "      <td>NaN</td>\n",
       "      <td>FATAL</td>\n",
       "      <td>Y</td>\n",
       "      <td>NaN</td>\n",
       "      <td>NaN</td>\n",
       "      <td>H. Taunton; N. Bartlett,  pp. 233-234</td>\n",
       "      <td>ND-0004-Ahmun.pdf</td>\n",
       "      <td>http://sharkattackfile.net/spreadsheets/pdf_di...</td>\n",
       "      <td>http://sharkattackfile.net/spreadsheets/pdf_di...</td>\n",
       "      <td>ND.0004</td>\n",
       "      <td>ND.0004</td>\n",
       "      <td>5.0</td>\n",
       "    </tr>\n",
       "    <tr>\n",
       "      <th>6299</th>\n",
       "      <td>ND.0003</td>\n",
       "      <td>1900-1905</td>\n",
       "      <td>0.0</td>\n",
       "      <td>Unprovoked</td>\n",
       "      <td>USA</td>\n",
       "      <td>North Carolina</td>\n",
       "      <td>Swimming</td>\n",
       "      <td>Coast Guard personnel</td>\n",
       "      <td>M</td>\n",
       "      <td>NaN</td>\n",
       "      <td>FATAL</td>\n",
       "      <td>Y</td>\n",
       "      <td>NaN</td>\n",
       "      <td>NaN</td>\n",
       "      <td>F. Schwartz, p.23; C. Creswell, GSAF</td>\n",
       "      <td>ND-0003-Ocracoke_1900-1905.pdf</td>\n",
       "      <td>http://sharkattackfile.net/spreadsheets/pdf_di...</td>\n",
       "      <td>http://sharkattackfile.net/spreadsheets/pdf_di...</td>\n",
       "      <td>ND.0003</td>\n",
       "      <td>ND.0003</td>\n",
       "      <td>4.0</td>\n",
       "    </tr>\n",
       "    <tr>\n",
       "      <th>6300</th>\n",
       "      <td>ND.0002</td>\n",
       "      <td>1883-1889</td>\n",
       "      <td>0.0</td>\n",
       "      <td>Unprovoked</td>\n",
       "      <td>PANAMA</td>\n",
       "      <td>Area perteneciente a: PANAMA</td>\n",
       "      <td>NaN</td>\n",
       "      <td>Jules Patterson</td>\n",
       "      <td>M</td>\n",
       "      <td>NaN</td>\n",
       "      <td>FATAL</td>\n",
       "      <td>Y</td>\n",
       "      <td>NaN</td>\n",
       "      <td>NaN</td>\n",
       "      <td>The Sun, 10/20/1938</td>\n",
       "      <td>ND-0002-JulesPatterson.pdf</td>\n",
       "      <td>http://sharkattackfile.net/spreadsheets/pdf_di...</td>\n",
       "      <td>http://sharkattackfile.net/spreadsheets/pdf_di...</td>\n",
       "      <td>ND.0002</td>\n",
       "      <td>ND.0002</td>\n",
       "      <td>3.0</td>\n",
       "    </tr>\n",
       "    <tr>\n",
       "      <th>6301</th>\n",
       "      <td>ND.0001</td>\n",
       "      <td>1845-1853</td>\n",
       "      <td>0.0</td>\n",
       "      <td>Unprovoked</td>\n",
       "      <td>CEYLON (SRI LANKA)</td>\n",
       "      <td>Eastern Province</td>\n",
       "      <td>Swimming</td>\n",
       "      <td>male</td>\n",
       "      <td>M</td>\n",
       "      <td>15</td>\n",
       "      <td>FATAL. \"Shark bit him in half, carrying away t...</td>\n",
       "      <td>Y</td>\n",
       "      <td>NaN</td>\n",
       "      <td>NaN</td>\n",
       "      <td>S.W. Baker</td>\n",
       "      <td>ND-0001-Ceylon.pdf</td>\n",
       "      <td>http://sharkattackfile.net/spreadsheets/pdf_di...</td>\n",
       "      <td>http://sharkattackfile.net/spreadsheets/pdf_di...</td>\n",
       "      <td>ND.0001</td>\n",
       "      <td>ND.0001</td>\n",
       "      <td>2.0</td>\n",
       "    </tr>\n",
       "  </tbody>\n",
       "</table>\n",
       "</div>"
      ],
      "text/plain": [
       "     Case Number         Date Year        Type             Country  \\\n",
       "6297     ND.0005  Before 1903  0.0  Unprovoked           AUSTRALIA   \n",
       "6298     ND.0004  Before 1903  0.0  Unprovoked           AUSTRALIA   \n",
       "6299     ND.0003    1900-1905  0.0  Unprovoked                 USA   \n",
       "6300     ND.0002    1883-1889  0.0  Unprovoked              PANAMA   \n",
       "6301     ND.0001    1845-1853  0.0  Unprovoked  CEYLON (SRI LANKA)   \n",
       "\n",
       "                              Area      Activity                   Name Sex   \\\n",
       "6297             Western Australia        Diving                   male    M   \n",
       "6298             Western Australia  Pearl diving                  Ahmun    M   \n",
       "6299                North Carolina      Swimming  Coast Guard personnel    M   \n",
       "6300  Area perteneciente a: PANAMA           NaN        Jules Patterson    M   \n",
       "6301              Eastern Province      Swimming                   male    M   \n",
       "\n",
       "      Age                                             Injury Fatal (Y/N) Time  \\\n",
       "6297  NaN                                              FATAL           Y  NaN   \n",
       "6298  NaN                                              FATAL           Y  NaN   \n",
       "6299  NaN                                              FATAL           Y  NaN   \n",
       "6300  NaN                                              FATAL           Y  NaN   \n",
       "6301   15  FATAL. \"Shark bit him in half, carrying away t...           Y  NaN   \n",
       "\n",
       "     Species                  Investigator or Source  \\\n",
       "6297      NaN       H. Taunton; N. Bartlett,  p. 234   \n",
       "6298      NaN  H. Taunton; N. Bartlett,  pp. 233-234   \n",
       "6299      NaN   F. Schwartz, p.23; C. Creswell, GSAF   \n",
       "6300      NaN                    The Sun, 10/20/1938   \n",
       "6301      NaN                             S.W. Baker   \n",
       "\n",
       "                                 pdf  \\\n",
       "6297          ND-0005-RoebuckBay.pdf   \n",
       "6298               ND-0004-Ahmun.pdf   \n",
       "6299  ND-0003-Ocracoke_1900-1905.pdf   \n",
       "6300      ND-0002-JulesPatterson.pdf   \n",
       "6301              ND-0001-Ceylon.pdf   \n",
       "\n",
       "                                           href formula  \\\n",
       "6297  http://sharkattackfile.net/spreadsheets/pdf_di...   \n",
       "6298  http://sharkattackfile.net/spreadsheets/pdf_di...   \n",
       "6299  http://sharkattackfile.net/spreadsheets/pdf_di...   \n",
       "6300  http://sharkattackfile.net/spreadsheets/pdf_di...   \n",
       "6301  http://sharkattackfile.net/spreadsheets/pdf_di...   \n",
       "\n",
       "                                                   href Case Number.1  \\\n",
       "6297  http://sharkattackfile.net/spreadsheets/pdf_di...       ND.0005   \n",
       "6298  http://sharkattackfile.net/spreadsheets/pdf_di...       ND.0004   \n",
       "6299  http://sharkattackfile.net/spreadsheets/pdf_di...       ND.0003   \n",
       "6300  http://sharkattackfile.net/spreadsheets/pdf_di...       ND.0002   \n",
       "6301  http://sharkattackfile.net/spreadsheets/pdf_di...       ND.0001   \n",
       "\n",
       "     Case Number.2  original order  \n",
       "6297       ND.0005             6.0  \n",
       "6298       ND.0004             5.0  \n",
       "6299       ND.0003             4.0  \n",
       "6300       ND.0002             3.0  \n",
       "6301       ND.0001             2.0  "
      ]
     },
     "execution_count": 45,
     "metadata": {},
     "output_type": "execute_result"
    }
   ],
   "source": [
    "df.tail()"
   ]
  },
  {
   "cell_type": "markdown",
   "id": "6ded0064",
   "metadata": {},
   "source": [
    "# 3.8 Columna \"Activity\"."
   ]
  },
  {
   "cell_type": "markdown",
   "id": "f6ec9d03",
   "metadata": {},
   "source": [
    "En relación a la columna \"Activity\", no es posible determinar el valor de las casillas donde este es nulo. En consecuencia, procederé a completar dichas casillas con la etiqueta \"Unknown\"."
   ]
  },
  {
   "cell_type": "code",
   "execution_count": 46,
   "id": "c62be4a6",
   "metadata": {},
   "outputs": [],
   "source": [
    "df[\"Activity\"].fillna(\"Unknown\", inplace=True)"
   ]
  },
  {
   "cell_type": "code",
   "execution_count": 47,
   "id": "1adf45b9",
   "metadata": {},
   "outputs": [
    {
     "data": {
      "text/plain": [
       "Country                      2\n",
       "Name                       209\n",
       "Sex                        563\n",
       "Age                       2804\n",
       "Injury                      26\n",
       "Fatal (Y/N)                535\n",
       "Time                      3323\n",
       "Species                   2812\n",
       "Investigator or Source      17\n",
       "href formula                 1\n",
       "dtype: int64"
      ]
     },
     "execution_count": 47,
     "metadata": {},
     "output_type": "execute_result"
    }
   ],
   "source": [
    "nan_cols = df.isna().sum()\n",
    "nan_cols[nan_cols>0]"
   ]
  },
  {
   "cell_type": "markdown",
   "id": "4623370d",
   "metadata": {},
   "source": [
    "# 3.9 Columnas \"Name\" y \"Sex\"."
   ]
  },
  {
   "cell_type": "markdown",
   "id": "e6bf936b",
   "metadata": {},
   "source": [
    "Como en el caso de la columna \"Country\", lo primero que haré será deshacerme de aquellas filas en las que no se encuentre ningún valor en las columnas \"Name\" o \"Sex\". "
   ]
  },
  {
   "cell_type": "code",
   "execution_count": 48,
   "id": "427d114d",
   "metadata": {},
   "outputs": [],
   "source": [
    "null_name_sex = df[\"Name\"].isnull() & df[\"Sex \"].isnull()"
   ]
  },
  {
   "cell_type": "code",
   "execution_count": 49,
   "id": "86f06a3f",
   "metadata": {},
   "outputs": [],
   "source": [
    "df = df.dropna(subset=[\"Name\", \"Sex \"], how=\"all\")"
   ]
  },
  {
   "cell_type": "markdown",
   "id": "59aec5ae",
   "metadata": {},
   "source": [
    "Hasta aquí, he elimnado las filas en las que faltaba tanto el valor en la columna \"Name\" como en la columna \"Sex\".\n",
    "A continuación, procederé a completar con la palabra \"Unknown\" las casillas donde no se conoce el nombre."
   ]
  },
  {
   "cell_type": "code",
   "execution_count": 50,
   "id": "d0211163",
   "metadata": {},
   "outputs": [],
   "source": [
    "df[\"Name\"].fillna(\"Unknown\", inplace=True)"
   ]
  },
  {
   "cell_type": "markdown",
   "id": "c456c298",
   "metadata": {},
   "source": [
    "La columna \"Name\" ha sido completamente depurada de valores nulos, y además, se han disminuido significativamente los valores nulos en la columna \"Sex\". \n",
    "\n",
    "Ahora, revisaré los valores de la columna \"Sex\". Si no coinciden con \"M\" ni \"F\" (al no ser muchos), procederé a eliminar la fila."
   ]
  },
  {
   "cell_type": "code",
   "execution_count": 51,
   "id": "d0f0a0fe",
   "metadata": {},
   "outputs": [],
   "source": [
    "valores_validos= [\"M\", \"F\"]"
   ]
  },
  {
   "cell_type": "code",
   "execution_count": 52,
   "id": "82fd1fa1",
   "metadata": {},
   "outputs": [
    {
     "data": {
      "text/plain": [
       "M      5065\n",
       "F       634\n",
       "M         2\n",
       "lli       1\n",
       "N         1\n",
       ".         1\n",
       "Name: Sex , dtype: int64"
      ]
     },
     "execution_count": 52,
     "metadata": {},
     "output_type": "execute_result"
    }
   ],
   "source": [
    "df [\"Sex \"].value_counts() # Puede observarse que no hay un gran número de valores no coincidentes con \"M\" o \"F\"."
   ]
  },
  {
   "cell_type": "code",
   "execution_count": 53,
   "id": "90159723",
   "metadata": {},
   "outputs": [],
   "source": [
    "df = df[df[\"Sex \"].isin(valores_validos)]"
   ]
  },
  {
   "cell_type": "code",
   "execution_count": 54,
   "id": "65b8243a",
   "metadata": {},
   "outputs": [
    {
     "data": {
      "text/plain": [
       "Age                       2276\n",
       "Injury                      12\n",
       "Fatal (Y/N)                457\n",
       "Time                      2861\n",
       "Species                   2566\n",
       "Investigator or Source      15\n",
       "href formula                 1\n",
       "dtype: int64"
      ]
     },
     "execution_count": 54,
     "metadata": {},
     "output_type": "execute_result"
    }
   ],
   "source": [
    "nan_cols = df.isna().sum()\n",
    "nan_cols[nan_cols>0]"
   ]
  },
  {
   "cell_type": "markdown",
   "id": "7bb9910d",
   "metadata": {},
   "source": [
    "# 3.10 Columna \"Age\"."
   ]
  },
  {
   "cell_type": "markdown",
   "id": "f7bc9fc4",
   "metadata": {},
   "source": [
    "En relación a la columna \"Age\" en cuestión, dado que se constata la presencia de numerosos valores nulos que, sin embargo, resultan relevantes para mi investigación, llevaré a cabo el siguiente procedimiento:\n",
    "\n",
    "En primer lugar, voy a rellenar temporalmente los valores nulos con ceros para poder operar con la columna (más adelante esta asignación no será relevante)."
   ]
  },
  {
   "cell_type": "code",
   "execution_count": 55,
   "id": "7dca9873",
   "metadata": {},
   "outputs": [
    {
     "data": {
      "text/plain": [
       "17          152\n",
       "18          148\n",
       "19          140\n",
       "20          138\n",
       "15          137\n",
       "           ... \n",
       "45            1\n",
       "21 or 26      1\n",
       "20            1\n",
       ">50           1\n",
       "13 or 14      1\n",
       "Name: Age, Length: 151, dtype: int64"
      ]
     },
     "execution_count": 55,
     "metadata": {},
     "output_type": "execute_result"
    }
   ],
   "source": [
    "df[\"Age\"].value_counts()"
   ]
  },
  {
   "cell_type": "code",
   "execution_count": 56,
   "id": "d00d62ab",
   "metadata": {},
   "outputs": [],
   "source": [
    "df[\"Age\"].fillna(0, inplace = True)"
   ]
  },
  {
   "cell_type": "markdown",
   "id": "76a049f4",
   "metadata": {},
   "source": [
    "En segundo lugar, coy a aplicar una condición para almacenar únicamente los valores de la columna \"Age\" que tienen 1 o 2 caracteres. "
   ]
  },
  {
   "cell_type": "code",
   "execution_count": 57,
   "id": "0ca7d9b2",
   "metadata": {},
   "outputs": [],
   "source": [
    "condicion = (df[\"Age\"].str.len() == 1) | (df[\"Age\"].str.len() == 2) "
   ]
  },
  {
   "cell_type": "code",
   "execution_count": 58,
   "id": "77ad3425",
   "metadata": {},
   "outputs": [],
   "source": [
    "filas_cumplen_condicion = df[condicion]"
   ]
  },
  {
   "cell_type": "code",
   "execution_count": 59,
   "id": "af7c37f6",
   "metadata": {},
   "outputs": [
    {
     "data": {
      "text/plain": [
       "3329"
      ]
     },
     "execution_count": 59,
     "metadata": {},
     "output_type": "execute_result"
    }
   ],
   "source": [
    "len(filas_cumplen_condicion)"
   ]
  },
  {
   "cell_type": "markdown",
   "id": "df35a367",
   "metadata": {},
   "source": [
    "En tercer lugar, voy a crear una nueva columna llamada \"Age2\", la cual rellenaré en su totalidad con ceros (por el mismo motivo que antes: el poder operar con la columna).\n",
    "\n",
    "Por último, sustituiré las casillas coincidentes con los valores que cumplían la condición de \"Age\", por esos valores en \"Age2\".\n",
    "\n",
    "*La columna \"Age\" dejará de sernos de utilidad. A partir de ahora, nos centraremos en \"Age2\".*"
   ]
  },
  {
   "cell_type": "code",
   "execution_count": 60,
   "id": "699d9671",
   "metadata": {},
   "outputs": [],
   "source": [
    "df[\"Age2\"] = \"0\"  "
   ]
  },
  {
   "cell_type": "code",
   "execution_count": 61,
   "id": "8f17b8cd",
   "metadata": {},
   "outputs": [],
   "source": [
    "df.loc[condicion, \"Age2\"] = filas_cumplen_condicion[\"Age\"]"
   ]
  },
  {
   "cell_type": "code",
   "execution_count": 62,
   "id": "4f500727",
   "metadata": {},
   "outputs": [
    {
     "data": {
      "text/html": [
       "<div>\n",
       "<style scoped>\n",
       "    .dataframe tbody tr th:only-of-type {\n",
       "        vertical-align: middle;\n",
       "    }\n",
       "\n",
       "    .dataframe tbody tr th {\n",
       "        vertical-align: top;\n",
       "    }\n",
       "\n",
       "    .dataframe thead th {\n",
       "        text-align: right;\n",
       "    }\n",
       "</style>\n",
       "<table border=\"1\" class=\"dataframe\">\n",
       "  <thead>\n",
       "    <tr style=\"text-align: right;\">\n",
       "      <th></th>\n",
       "      <th>Case Number</th>\n",
       "      <th>Date</th>\n",
       "      <th>Year</th>\n",
       "      <th>Type</th>\n",
       "      <th>Country</th>\n",
       "      <th>Area</th>\n",
       "      <th>Activity</th>\n",
       "      <th>Name</th>\n",
       "      <th>Sex</th>\n",
       "      <th>Age</th>\n",
       "      <th>Injury</th>\n",
       "      <th>Fatal (Y/N)</th>\n",
       "      <th>Time</th>\n",
       "      <th>Species</th>\n",
       "      <th>Investigator or Source</th>\n",
       "      <th>pdf</th>\n",
       "      <th>href formula</th>\n",
       "      <th>href</th>\n",
       "      <th>Case Number.1</th>\n",
       "      <th>Case Number.2</th>\n",
       "      <th>original order</th>\n",
       "      <th>Age2</th>\n",
       "    </tr>\n",
       "  </thead>\n",
       "  <tbody>\n",
       "    <tr>\n",
       "      <th>0</th>\n",
       "      <td>2018.06.25</td>\n",
       "      <td>25-Jun-2018</td>\n",
       "      <td>2018.0</td>\n",
       "      <td>Boating</td>\n",
       "      <td>USA</td>\n",
       "      <td>California</td>\n",
       "      <td>Paddling</td>\n",
       "      <td>Julie Wolfe</td>\n",
       "      <td>F</td>\n",
       "      <td>57</td>\n",
       "      <td>No injury to occupant, outrigger canoe and pad...</td>\n",
       "      <td>N</td>\n",
       "      <td>18h00</td>\n",
       "      <td>White shark</td>\n",
       "      <td>R. Collier, GSAF</td>\n",
       "      <td>2018.06.25-Wolfe.pdf</td>\n",
       "      <td>http://sharkattackfile.net/spreadsheets/pdf_di...</td>\n",
       "      <td>http://sharkattackfile.net/spreadsheets/pdf_di...</td>\n",
       "      <td>2018.06.25</td>\n",
       "      <td>2018.06.25</td>\n",
       "      <td>6303.0</td>\n",
       "      <td>57</td>\n",
       "    </tr>\n",
       "    <tr>\n",
       "      <th>1</th>\n",
       "      <td>2018.06.18</td>\n",
       "      <td>18-Jun-2018</td>\n",
       "      <td>2018.0</td>\n",
       "      <td>Unprovoked</td>\n",
       "      <td>USA</td>\n",
       "      <td>Georgia</td>\n",
       "      <td>Standing</td>\n",
       "      <td>Adyson McNeely</td>\n",
       "      <td>F</td>\n",
       "      <td>11</td>\n",
       "      <td>Minor injury to left thigh</td>\n",
       "      <td>N</td>\n",
       "      <td>14h00  -15h00</td>\n",
       "      <td>NaN</td>\n",
       "      <td>K.McMurray, TrackingSharks.com</td>\n",
       "      <td>2018.06.18-McNeely.pdf</td>\n",
       "      <td>http://sharkattackfile.net/spreadsheets/pdf_di...</td>\n",
       "      <td>http://sharkattackfile.net/spreadsheets/pdf_di...</td>\n",
       "      <td>2018.06.18</td>\n",
       "      <td>2018.06.18</td>\n",
       "      <td>6302.0</td>\n",
       "      <td>11</td>\n",
       "    </tr>\n",
       "    <tr>\n",
       "      <th>2</th>\n",
       "      <td>2018.06.09</td>\n",
       "      <td>09-Jun-2018</td>\n",
       "      <td>2018.0</td>\n",
       "      <td>Invalid</td>\n",
       "      <td>USA</td>\n",
       "      <td>Hawaii</td>\n",
       "      <td>Surfing</td>\n",
       "      <td>John Denges</td>\n",
       "      <td>M</td>\n",
       "      <td>48</td>\n",
       "      <td>Injury to left lower leg from surfboard skeg</td>\n",
       "      <td>N</td>\n",
       "      <td>07h45</td>\n",
       "      <td>NaN</td>\n",
       "      <td>K.McMurray, TrackingSharks.com</td>\n",
       "      <td>2018.06.09-Denges.pdf</td>\n",
       "      <td>http://sharkattackfile.net/spreadsheets/pdf_di...</td>\n",
       "      <td>http://sharkattackfile.net/spreadsheets/pdf_di...</td>\n",
       "      <td>2018.06.09</td>\n",
       "      <td>2018.06.09</td>\n",
       "      <td>6301.0</td>\n",
       "      <td>48</td>\n",
       "    </tr>\n",
       "    <tr>\n",
       "      <th>3</th>\n",
       "      <td>2018.06.08</td>\n",
       "      <td>08-Jun-2018</td>\n",
       "      <td>2018.0</td>\n",
       "      <td>Unprovoked</td>\n",
       "      <td>AUSTRALIA</td>\n",
       "      <td>New South Wales</td>\n",
       "      <td>Surfing</td>\n",
       "      <td>male</td>\n",
       "      <td>M</td>\n",
       "      <td>0</td>\n",
       "      <td>Minor injury to lower leg</td>\n",
       "      <td>N</td>\n",
       "      <td>NaN</td>\n",
       "      <td>2 m shark</td>\n",
       "      <td>B. Myatt, GSAF</td>\n",
       "      <td>2018.06.08-Arrawarra.pdf</td>\n",
       "      <td>http://sharkattackfile.net/spreadsheets/pdf_di...</td>\n",
       "      <td>http://sharkattackfile.net/spreadsheets/pdf_di...</td>\n",
       "      <td>2018.06.08</td>\n",
       "      <td>2018.06.08</td>\n",
       "      <td>6300.0</td>\n",
       "      <td>0</td>\n",
       "    </tr>\n",
       "    <tr>\n",
       "      <th>4</th>\n",
       "      <td>2018.06.04</td>\n",
       "      <td>04-Jun-2018</td>\n",
       "      <td>2018.0</td>\n",
       "      <td>Provoked</td>\n",
       "      <td>MEXICO</td>\n",
       "      <td>Colima</td>\n",
       "      <td>Free diving</td>\n",
       "      <td>Gustavo Ramos</td>\n",
       "      <td>M</td>\n",
       "      <td>0</td>\n",
       "      <td>Lacerations to leg &amp; hand shark PROVOKED INCIDENT</td>\n",
       "      <td>N</td>\n",
       "      <td>NaN</td>\n",
       "      <td>Tiger shark, 3m</td>\n",
       "      <td>A .Kipper</td>\n",
       "      <td>2018.06.04-Ramos.pdf</td>\n",
       "      <td>http://sharkattackfile.net/spreadsheets/pdf_di...</td>\n",
       "      <td>http://sharkattackfile.net/spreadsheets/pdf_di...</td>\n",
       "      <td>2018.06.04</td>\n",
       "      <td>2018.06.04</td>\n",
       "      <td>6299.0</td>\n",
       "      <td>0</td>\n",
       "    </tr>\n",
       "  </tbody>\n",
       "</table>\n",
       "</div>"
      ],
      "text/plain": [
       "  Case Number         Date    Year        Type    Country             Area  \\\n",
       "0  2018.06.25  25-Jun-2018  2018.0     Boating        USA       California   \n",
       "1  2018.06.18  18-Jun-2018  2018.0  Unprovoked        USA          Georgia   \n",
       "2  2018.06.09  09-Jun-2018  2018.0     Invalid        USA           Hawaii   \n",
       "3  2018.06.08  08-Jun-2018  2018.0  Unprovoked  AUSTRALIA  New South Wales   \n",
       "4  2018.06.04  04-Jun-2018  2018.0    Provoked     MEXICO           Colima   \n",
       "\n",
       "      Activity             Name Sex  Age  \\\n",
       "0     Paddling      Julie Wolfe    F  57   \n",
       "1     Standing  Adyson McNeely     F  11   \n",
       "2      Surfing      John Denges    M  48   \n",
       "3      Surfing             male    M   0   \n",
       "4  Free diving   Gustavo Ramos     M   0   \n",
       "\n",
       "                                              Injury Fatal (Y/N)  \\\n",
       "0  No injury to occupant, outrigger canoe and pad...           N   \n",
       "1                         Minor injury to left thigh           N   \n",
       "2       Injury to left lower leg from surfboard skeg           N   \n",
       "3                          Minor injury to lower leg           N   \n",
       "4  Lacerations to leg & hand shark PROVOKED INCIDENT           N   \n",
       "\n",
       "            Time         Species           Investigator or Source  \\\n",
       "0          18h00      White shark                R. Collier, GSAF   \n",
       "1  14h00  -15h00              NaN  K.McMurray, TrackingSharks.com   \n",
       "2          07h45              NaN  K.McMurray, TrackingSharks.com   \n",
       "3            NaN        2 m shark                  B. Myatt, GSAF   \n",
       "4            NaN  Tiger shark, 3m                       A .Kipper   \n",
       "\n",
       "                        pdf  \\\n",
       "0      2018.06.25-Wolfe.pdf   \n",
       "1    2018.06.18-McNeely.pdf   \n",
       "2     2018.06.09-Denges.pdf   \n",
       "3  2018.06.08-Arrawarra.pdf   \n",
       "4      2018.06.04-Ramos.pdf   \n",
       "\n",
       "                                        href formula  \\\n",
       "0  http://sharkattackfile.net/spreadsheets/pdf_di...   \n",
       "1  http://sharkattackfile.net/spreadsheets/pdf_di...   \n",
       "2  http://sharkattackfile.net/spreadsheets/pdf_di...   \n",
       "3  http://sharkattackfile.net/spreadsheets/pdf_di...   \n",
       "4  http://sharkattackfile.net/spreadsheets/pdf_di...   \n",
       "\n",
       "                                                href Case Number.1  \\\n",
       "0  http://sharkattackfile.net/spreadsheets/pdf_di...    2018.06.25   \n",
       "1  http://sharkattackfile.net/spreadsheets/pdf_di...    2018.06.18   \n",
       "2  http://sharkattackfile.net/spreadsheets/pdf_di...    2018.06.09   \n",
       "3  http://sharkattackfile.net/spreadsheets/pdf_di...    2018.06.08   \n",
       "4  http://sharkattackfile.net/spreadsheets/pdf_di...    2018.06.04   \n",
       "\n",
       "  Case Number.2  original order Age2  \n",
       "0    2018.06.25          6303.0   57  \n",
       "1    2018.06.18          6302.0   11  \n",
       "2    2018.06.09          6301.0   48  \n",
       "3    2018.06.08          6300.0    0  \n",
       "4    2018.06.04          6299.0    0  "
      ]
     },
     "execution_count": 62,
     "metadata": {},
     "output_type": "execute_result"
    }
   ],
   "source": [
    "df.head()"
   ]
  },
  {
   "cell_type": "markdown",
   "id": "90328d88",
   "metadata": {},
   "source": [
    "Ahora, con el fin de poder realizar el cálculo de la media de las edades con las que si disponemos de información válida, voy a convertir la columna a tipo float. En el cálculo de media, todos aquellos valores que antes habían sido asignados con un cero, no entrarán en consideración.\n",
    "\n",
    "Este proceso se llevará a cabo con el propósito de sustituir posteriormente los valores previamente registrados como cero por la media de las edades conocidas. \n",
    "\n",
    "Esto permitirá mejorar la precisión del análisis estadístico."
   ]
  },
  {
   "cell_type": "code",
   "execution_count": 63,
   "id": "5327beb1",
   "metadata": {},
   "outputs": [],
   "source": [
    "df[\"Age2\"] = pd.to_numeric(df[\"Age2\"], errors=\"coerce\")"
   ]
  },
  {
   "cell_type": "code",
   "execution_count": 64,
   "id": "37ecc296",
   "metadata": {},
   "outputs": [
    {
     "name": "stdout",
     "output_type": "stream",
     "text": [
      "<class 'pandas.core.frame.DataFrame'>\n",
      "Int64Index: 5699 entries, 0 to 6301\n",
      "Data columns (total 22 columns):\n",
      " #   Column                  Non-Null Count  Dtype  \n",
      "---  ------                  --------------  -----  \n",
      " 0   Case Number             5699 non-null   object \n",
      " 1   Date                    5699 non-null   object \n",
      " 2   Year                    5699 non-null   object \n",
      " 3   Type                    5699 non-null   object \n",
      " 4   Country                 5699 non-null   object \n",
      " 5   Area                    5699 non-null   object \n",
      " 6   Activity                5699 non-null   object \n",
      " 7   Name                    5699 non-null   object \n",
      " 8   Sex                     5699 non-null   object \n",
      " 9   Age                     5699 non-null   object \n",
      " 10  Injury                  5687 non-null   object \n",
      " 11  Fatal (Y/N)             5242 non-null   object \n",
      " 12  Time                    2838 non-null   object \n",
      " 13  Species                 3133 non-null   object \n",
      " 14  Investigator or Source  5684 non-null   object \n",
      " 15  pdf                     5699 non-null   object \n",
      " 16  href formula            5698 non-null   object \n",
      " 17  href                    5699 non-null   object \n",
      " 18  Case Number.1           5699 non-null   object \n",
      " 19  Case Number.2           5699 non-null   object \n",
      " 20  original order          5699 non-null   float64\n",
      " 21  Age2                    5691 non-null   float64\n",
      "dtypes: float64(2), object(20)\n",
      "memory usage: 1.0+ MB\n"
     ]
    }
   ],
   "source": [
    "df.info()"
   ]
  },
  {
   "cell_type": "code",
   "execution_count": 65,
   "id": "028a70e3",
   "metadata": {},
   "outputs": [
    {
     "data": {
      "text/plain": [
       "27.388738331827764"
      ]
     },
     "execution_count": 65,
     "metadata": {},
     "output_type": "execute_result"
    }
   ],
   "source": [
    "# Media de la columna \"Age2\" excluyendo las filas que contienen el valor 0:\n",
    "\n",
    "media_sin0_columna_age2 = df[df[\"Age2\"] != 0][\"Age2\"].mean()\n",
    "media_sin0_columna_age2"
   ]
  },
  {
   "cell_type": "code",
   "execution_count": 66,
   "id": "afdb3ef1",
   "metadata": {},
   "outputs": [
    {
     "data": {
      "text/plain": [
       "27.39"
      ]
     },
     "execution_count": 66,
     "metadata": {},
     "output_type": "execute_result"
    }
   ],
   "source": [
    "redondeo_media = round(media_sin0_columna_age2, 2)\n",
    "redondeo_media"
   ]
  },
  {
   "cell_type": "code",
   "execution_count": 67,
   "id": "18300480",
   "metadata": {},
   "outputs": [],
   "source": [
    "df[\"Age2\"].replace(0, redondeo_media, inplace=True) # Sustituyo aquí los ceros por la media redondeada recién obtenida-"
   ]
  },
  {
   "cell_type": "code",
   "execution_count": 68,
   "id": "d10fc3ca",
   "metadata": {},
   "outputs": [
    {
     "data": {
      "text/plain": [
       "Injury                      12\n",
       "Fatal (Y/N)                457\n",
       "Time                      2861\n",
       "Species                   2566\n",
       "Investigator or Source      15\n",
       "href formula                 1\n",
       "Age2                         8\n",
       "dtype: int64"
      ]
     },
     "execution_count": 68,
     "metadata": {},
     "output_type": "execute_result"
    }
   ],
   "source": [
    "nan_cols = df.isna().sum()\n",
    "nan_cols[nan_cols>0]"
   ]
  },
  {
   "cell_type": "markdown",
   "id": "e3b2c789",
   "metadata": {},
   "source": [
    "Por algún motivo (parece ser que la longitud de la columna \"Age\" era menor) sigo contando con 8 valores nulos en la columna. Así, simplemente, procedo a rellenarlos con la media obtenida en el cálculo anterior."
   ]
  },
  {
   "cell_type": "code",
   "execution_count": 69,
   "id": "26b5ff1d",
   "metadata": {},
   "outputs": [],
   "source": [
    "df[\"Age2\"].fillna(27.39, inplace=True)"
   ]
  },
  {
   "cell_type": "code",
   "execution_count": 70,
   "id": "f623e9ed",
   "metadata": {},
   "outputs": [
    {
     "data": {
      "text/plain": [
       "Injury                      12\n",
       "Fatal (Y/N)                457\n",
       "Time                      2861\n",
       "Species                   2566\n",
       "Investigator or Source      15\n",
       "href formula                 1\n",
       "dtype: int64"
      ]
     },
     "execution_count": 70,
     "metadata": {},
     "output_type": "execute_result"
    }
   ],
   "source": [
    "nan_cols = df.isna().sum()\n",
    "nan_cols[nan_cols>0]"
   ]
  },
  {
   "cell_type": "code",
   "execution_count": 71,
   "id": "69e2c6ae",
   "metadata": {},
   "outputs": [
    {
     "data": {
      "text/plain": [
       "(5699, 22)"
      ]
     },
     "execution_count": 71,
     "metadata": {},
     "output_type": "execute_result"
    }
   ],
   "source": [
    "df.shape"
   ]
  },
  {
   "cell_type": "markdown",
   "id": "5bad8039",
   "metadata": {},
   "source": [
    "# 3.11 Columna \"Injury\"."
   ]
  },
  {
   "cell_type": "markdown",
   "id": "b44504ff",
   "metadata": {},
   "source": [
    "Doy paso a la columna \"Injury\". Me dispongo a analizar los datos nulos de la misma, para así determinar cuáles quiero conservar y cuáles eliminar."
   ]
  },
  {
   "cell_type": "code",
   "execution_count": 72,
   "id": "e05283d9",
   "metadata": {},
   "outputs": [
    {
     "data": {
      "text/html": [
       "<div>\n",
       "<style scoped>\n",
       "    .dataframe tbody tr th:only-of-type {\n",
       "        vertical-align: middle;\n",
       "    }\n",
       "\n",
       "    .dataframe tbody tr th {\n",
       "        vertical-align: top;\n",
       "    }\n",
       "\n",
       "    .dataframe thead th {\n",
       "        text-align: right;\n",
       "    }\n",
       "</style>\n",
       "<table border=\"1\" class=\"dataframe\">\n",
       "  <thead>\n",
       "    <tr style=\"text-align: right;\">\n",
       "      <th></th>\n",
       "      <th>Case Number</th>\n",
       "      <th>Date</th>\n",
       "      <th>Year</th>\n",
       "      <th>Type</th>\n",
       "      <th>Country</th>\n",
       "      <th>Area</th>\n",
       "      <th>Activity</th>\n",
       "      <th>Name</th>\n",
       "      <th>Sex</th>\n",
       "      <th>Age</th>\n",
       "      <th>Injury</th>\n",
       "      <th>Fatal (Y/N)</th>\n",
       "      <th>Time</th>\n",
       "      <th>Species</th>\n",
       "      <th>Investigator or Source</th>\n",
       "      <th>pdf</th>\n",
       "      <th>href formula</th>\n",
       "      <th>href</th>\n",
       "      <th>Case Number.1</th>\n",
       "      <th>Case Number.2</th>\n",
       "      <th>original order</th>\n",
       "      <th>Age2</th>\n",
       "    </tr>\n",
       "  </thead>\n",
       "  <tbody>\n",
       "    <tr>\n",
       "      <th>1270</th>\n",
       "      <td>2008.04.20.a</td>\n",
       "      <td>20-Apr-2008</td>\n",
       "      <td>2008.0</td>\n",
       "      <td>Unprovoked</td>\n",
       "      <td>AUSTRALIA</td>\n",
       "      <td>New South Wales</td>\n",
       "      <td>Unknown</td>\n",
       "      <td>Jamie Adlington</td>\n",
       "      <td>M</td>\n",
       "      <td>0</td>\n",
       "      <td>NaN</td>\n",
       "      <td>UNKNOWN</td>\n",
       "      <td>NaN</td>\n",
       "      <td>Tiger shark, 2.3m</td>\n",
       "      <td>T. Peake, GSAF</td>\n",
       "      <td>2008.04.20.a-Adlington.pdf</td>\n",
       "      <td>http://sharkattackfile.net/spreadsheets/pdf_di...</td>\n",
       "      <td>http://sharkattackfile.net/spreadsheets/pdf_di...</td>\n",
       "      <td>2008.04.20.a</td>\n",
       "      <td>2008.04.20.a</td>\n",
       "      <td>5033.0</td>\n",
       "      <td>27.39</td>\n",
       "    </tr>\n",
       "    <tr>\n",
       "      <th>2250</th>\n",
       "      <td>1997.06.07</td>\n",
       "      <td>07-Jun-1997</td>\n",
       "      <td>1997.0</td>\n",
       "      <td>Unprovoked</td>\n",
       "      <td>BRAZIL</td>\n",
       "      <td>Rio de Janeiro</td>\n",
       "      <td>Bathing</td>\n",
       "      <td>José Luiz Lipiani</td>\n",
       "      <td>M</td>\n",
       "      <td>0</td>\n",
       "      <td>NaN</td>\n",
       "      <td>UNKNOWN</td>\n",
       "      <td>NaN</td>\n",
       "      <td>NaN</td>\n",
       "      <td>Globo, 6/9/1997</td>\n",
       "      <td>1997.06.07-NV-Lipiani.pdf</td>\n",
       "      <td>http://sharkattackfile.net/spreadsheets/pdf_di...</td>\n",
       "      <td>http://sharkattackfile.net/spreadsheets/pdf_di...</td>\n",
       "      <td>1997.06.07</td>\n",
       "      <td>1997.06.07</td>\n",
       "      <td>4053.0</td>\n",
       "      <td>27.39</td>\n",
       "    </tr>\n",
       "    <tr>\n",
       "      <th>2267</th>\n",
       "      <td>1996.12.29</td>\n",
       "      <td>29-Dec-1996</td>\n",
       "      <td>1996.0</td>\n",
       "      <td>Unprovoked</td>\n",
       "      <td>AUSTRALIA</td>\n",
       "      <td>Queensland</td>\n",
       "      <td>Surfing</td>\n",
       "      <td>Blair Hall</td>\n",
       "      <td>M</td>\n",
       "      <td>18</td>\n",
       "      <td>NaN</td>\n",
       "      <td>UNKNOWN</td>\n",
       "      <td>18h00</td>\n",
       "      <td>NaN</td>\n",
       "      <td>The Advertiser, 12/30/1996, p.3</td>\n",
       "      <td>1996.12.29-BlairHall.pdf</td>\n",
       "      <td>http://sharkattackfile.net/spreadsheets/pdf_di...</td>\n",
       "      <td>http://sharkattackfile.net/spreadsheets/pdf_di...</td>\n",
       "      <td>1996.12.29</td>\n",
       "      <td>1996.12.29</td>\n",
       "      <td>4036.0</td>\n",
       "      <td>18.00</td>\n",
       "    </tr>\n",
       "    <tr>\n",
       "      <th>2648</th>\n",
       "      <td>1990.00.00</td>\n",
       "      <td>1990</td>\n",
       "      <td>1990.0</td>\n",
       "      <td>Unprovoked</td>\n",
       "      <td>USA</td>\n",
       "      <td>Florida</td>\n",
       "      <td>Surfing</td>\n",
       "      <td>male</td>\n",
       "      <td>M</td>\n",
       "      <td>17</td>\n",
       "      <td>NaN</td>\n",
       "      <td>UNKNOWN</td>\n",
       "      <td>NaN</td>\n",
       "      <td>NaN</td>\n",
       "      <td>NaN</td>\n",
       "      <td>1990.00.00-NV-Pensacola.pdf</td>\n",
       "      <td>http://sharkattackfile.net/spreadsheets/pdf_di...</td>\n",
       "      <td>http://sharkattackfile.net/spreadsheets/pdf_di...</td>\n",
       "      <td>1990.00.00</td>\n",
       "      <td>1990.00.00</td>\n",
       "      <td>3655.0</td>\n",
       "      <td>17.00</td>\n",
       "    </tr>\n",
       "    <tr>\n",
       "      <th>3434</th>\n",
       "      <td>1969.05.22</td>\n",
       "      <td>22-May-1969</td>\n",
       "      <td>1969.0</td>\n",
       "      <td>Unprovoked</td>\n",
       "      <td>DOMINICAN REPUBLIC</td>\n",
       "      <td>Area perteneciente a: DOMINICAN REPUBLIC</td>\n",
       "      <td>Surfing</td>\n",
       "      <td>Douglas Kuchn, Jr.</td>\n",
       "      <td>M</td>\n",
       "      <td>18</td>\n",
       "      <td>NaN</td>\n",
       "      <td>UNKNOWN</td>\n",
       "      <td>16h00</td>\n",
       "      <td>NaN</td>\n",
       "      <td>H.D.Baldridge (1994) SAF Case #1607</td>\n",
       "      <td>1969.05.22-NV-Kuchn.pdf</td>\n",
       "      <td>http://sharkattackfile.net/spreadsheets/pdf_di...</td>\n",
       "      <td>http://sharkattackfile.net/spreadsheets/pdf_di...</td>\n",
       "      <td>1969.05.22</td>\n",
       "      <td>1969.05.22</td>\n",
       "      <td>2869.0</td>\n",
       "      <td>18.00</td>\n",
       "    </tr>\n",
       "    <tr>\n",
       "      <th>3841</th>\n",
       "      <td>1962.01.26</td>\n",
       "      <td>26-Jan-1962</td>\n",
       "      <td>1962.0</td>\n",
       "      <td>Unprovoked</td>\n",
       "      <td>MOZAMBIQUE</td>\n",
       "      <td>Gaza</td>\n",
       "      <td>Unknown</td>\n",
       "      <td>Domingos Zefanias Cumbe</td>\n",
       "      <td>M</td>\n",
       "      <td>16</td>\n",
       "      <td>NaN</td>\n",
       "      <td>UNKNOWN</td>\n",
       "      <td>NaN</td>\n",
       "      <td>NaN</td>\n",
       "      <td>D. Davies</td>\n",
       "      <td>1962.01.26-Cumbe.pdf</td>\n",
       "      <td>http://sharkattackfile.net/spreadsheets/pdf_di...</td>\n",
       "      <td>http://sharkattackfile.net/spreadsheets/pdf_di...</td>\n",
       "      <td>1962.01.26</td>\n",
       "      <td>1962.01.26</td>\n",
       "      <td>2462.0</td>\n",
       "      <td>16.00</td>\n",
       "    </tr>\n",
       "    <tr>\n",
       "      <th>5370</th>\n",
       "      <td>1912.05.04</td>\n",
       "      <td>04-May-1912</td>\n",
       "      <td>1912.0</td>\n",
       "      <td>Invalid</td>\n",
       "      <td>SOUTH AFRICA</td>\n",
       "      <td>KwaZulu-Natal</td>\n",
       "      <td>Unknown</td>\n",
       "      <td>arm recovered from hooked shark</td>\n",
       "      <td>M</td>\n",
       "      <td>0</td>\n",
       "      <td>NaN</td>\n",
       "      <td>NaN</td>\n",
       "      <td>NaN</td>\n",
       "      <td>Shark involvement prior to death unconfirmed</td>\n",
       "      <td>M. Levine, GSAF</td>\n",
       "      <td>1912.05.04-arm.pdf</td>\n",
       "      <td>http://sharkattackfile.net/spreadsheets/pdf_di...</td>\n",
       "      <td>http://sharkattackfile.net/spreadsheets/pdf_di...</td>\n",
       "      <td>1912.05.04</td>\n",
       "      <td>1912.05.04</td>\n",
       "      <td>933.0</td>\n",
       "      <td>27.39</td>\n",
       "    </tr>\n",
       "    <tr>\n",
       "      <th>5547</th>\n",
       "      <td>1901.06.29.R</td>\n",
       "      <td>Reported 29-Jun-1901</td>\n",
       "      <td>1901.0</td>\n",
       "      <td>Invalid</td>\n",
       "      <td>YEMEN</td>\n",
       "      <td>Aden</td>\n",
       "      <td>Diving around anchored liner</td>\n",
       "      <td>boy</td>\n",
       "      <td>M</td>\n",
       "      <td>0</td>\n",
       "      <td>NaN</td>\n",
       "      <td>NaN</td>\n",
       "      <td>NaN</td>\n",
       "      <td>Questionable</td>\n",
       "      <td>The Graphic, 6/29/1901</td>\n",
       "      <td>1901.06.29.R-Aden.pdf</td>\n",
       "      <td>http://sharkattackfile.net/spreadsheets/pdf_di...</td>\n",
       "      <td>http://sharkattackfile.net/spreadsheets/pdf_di...</td>\n",
       "      <td>1901.06.29.R</td>\n",
       "      <td>1901.06.29.R</td>\n",
       "      <td>756.0</td>\n",
       "      <td>27.39</td>\n",
       "    </tr>\n",
       "    <tr>\n",
       "      <th>6140</th>\n",
       "      <td>1784.12.12</td>\n",
       "      <td>12-Dec-1784</td>\n",
       "      <td>1784.0</td>\n",
       "      <td>Unprovoked</td>\n",
       "      <td>JAMAICA</td>\n",
       "      <td>Area perteneciente a: JAMAICA</td>\n",
       "      <td>Swimming</td>\n",
       "      <td>Richard Page</td>\n",
       "      <td>M</td>\n",
       "      <td>0</td>\n",
       "      <td>NaN</td>\n",
       "      <td>Y</td>\n",
       "      <td>22h00</td>\n",
       "      <td>NaN</td>\n",
       "      <td>The Pennsylvaia Gazette, 3/16/1785</td>\n",
       "      <td>1784.12.12-Page.pdf</td>\n",
       "      <td>http://sharkattackfile.net/spreadsheets/pdf_di...</td>\n",
       "      <td>http://sharkattackfile.net/spreadsheets/pdf_di...</td>\n",
       "      <td>1784.12.12</td>\n",
       "      <td>1784.12.12</td>\n",
       "      <td>163.0</td>\n",
       "      <td>27.39</td>\n",
       "    </tr>\n",
       "    <tr>\n",
       "      <th>6153</th>\n",
       "      <td>1755.00.00</td>\n",
       "      <td>1755</td>\n",
       "      <td>1755.0</td>\n",
       "      <td>Unprovoked</td>\n",
       "      <td>SWEDEN</td>\n",
       "      <td>Skagerrak arm of the North Sea</td>\n",
       "      <td>Unknown</td>\n",
       "      <td>Fishermen</td>\n",
       "      <td>M</td>\n",
       "      <td>0</td>\n",
       "      <td>NaN</td>\n",
       "      <td>UNKNOWN</td>\n",
       "      <td>NaN</td>\n",
       "      <td>NaN</td>\n",
       "      <td>C. Moore, GSAF</td>\n",
       "      <td>1755.00.00-Sweden.pdf</td>\n",
       "      <td>http://sharkattackfile.net/spreadsheets/pdf_di...</td>\n",
       "      <td>http://sharkattackfile.net/spreadsheets/pdf_di...</td>\n",
       "      <td>1755.00.00</td>\n",
       "      <td>1755.00.00</td>\n",
       "      <td>150.0</td>\n",
       "      <td>27.39</td>\n",
       "    </tr>\n",
       "    <tr>\n",
       "      <th>6172</th>\n",
       "      <td>1554.00.00</td>\n",
       "      <td>Ca. 1554</td>\n",
       "      <td>1554.0</td>\n",
       "      <td>Unprovoked</td>\n",
       "      <td>FRANCE</td>\n",
       "      <td>Nice &amp; Marseilles</td>\n",
       "      <td>Unknown</td>\n",
       "      <td>males (wearing armor)</td>\n",
       "      <td>M</td>\n",
       "      <td>0</td>\n",
       "      <td>NaN</td>\n",
       "      <td>UNKNOWN</td>\n",
       "      <td>NaN</td>\n",
       "      <td>Possibly white sharks</td>\n",
       "      <td>G. Rondelet</td>\n",
       "      <td>1554.00.00-Rondelet.pdf</td>\n",
       "      <td>http://sharkattackfile.net/spreadsheets/pdf_di...</td>\n",
       "      <td>http://sharkattackfile.net/spreadsheets/pdf_di...</td>\n",
       "      <td>1554.00.00</td>\n",
       "      <td>1554.00.00</td>\n",
       "      <td>131.0</td>\n",
       "      <td>27.39</td>\n",
       "    </tr>\n",
       "    <tr>\n",
       "      <th>6277</th>\n",
       "      <td>ND.0025</td>\n",
       "      <td>Before 1927</td>\n",
       "      <td>0.0</td>\n",
       "      <td>Unprovoked</td>\n",
       "      <td>AUSTRALIA</td>\n",
       "      <td>New South Wales</td>\n",
       "      <td>Unknown</td>\n",
       "      <td>male, the Sergeant of Marines</td>\n",
       "      <td>M</td>\n",
       "      <td>0</td>\n",
       "      <td>NaN</td>\n",
       "      <td>UNKNOWN</td>\n",
       "      <td>NaN</td>\n",
       "      <td>NaN</td>\n",
       "      <td>H. Capper</td>\n",
       "      <td>ND-0025-Sgt-SpectacleIsland.pdf</td>\n",
       "      <td>http://sharkattackfile.net/spreadsheets/pdf_di...</td>\n",
       "      <td>http://sharkattackfile.net/spreadsheets/pdf_di...</td>\n",
       "      <td>ND.0025</td>\n",
       "      <td>ND.0025</td>\n",
       "      <td>26.0</td>\n",
       "      <td>27.39</td>\n",
       "    </tr>\n",
       "  </tbody>\n",
       "</table>\n",
       "</div>"
      ],
      "text/plain": [
       "       Case Number                  Date    Year        Type  \\\n",
       "1270  2008.04.20.a           20-Apr-2008  2008.0  Unprovoked   \n",
       "2250    1997.06.07           07-Jun-1997  1997.0  Unprovoked   \n",
       "2267    1996.12.29           29-Dec-1996  1996.0  Unprovoked   \n",
       "2648    1990.00.00                  1990  1990.0  Unprovoked   \n",
       "3434    1969.05.22           22-May-1969  1969.0  Unprovoked   \n",
       "3841    1962.01.26           26-Jan-1962  1962.0  Unprovoked   \n",
       "5370    1912.05.04           04-May-1912  1912.0     Invalid   \n",
       "5547  1901.06.29.R  Reported 29-Jun-1901  1901.0     Invalid   \n",
       "6140    1784.12.12           12-Dec-1784  1784.0  Unprovoked   \n",
       "6153    1755.00.00                  1755  1755.0  Unprovoked   \n",
       "6172    1554.00.00              Ca. 1554  1554.0  Unprovoked   \n",
       "6277       ND.0025           Before 1927     0.0  Unprovoked   \n",
       "\n",
       "                 Country                                      Area  \\\n",
       "1270           AUSTRALIA                           New South Wales   \n",
       "2250              BRAZIL                            Rio de Janeiro   \n",
       "2267           AUSTRALIA                                Queensland   \n",
       "2648                 USA                                   Florida   \n",
       "3434  DOMINICAN REPUBLIC  Area perteneciente a: DOMINICAN REPUBLIC   \n",
       "3841          MOZAMBIQUE                                      Gaza   \n",
       "5370        SOUTH AFRICA                             KwaZulu-Natal   \n",
       "5547              YEMEN                                       Aden   \n",
       "6140             JAMAICA             Area perteneciente a: JAMAICA   \n",
       "6153              SWEDEN            Skagerrak arm of the North Sea   \n",
       "6172              FRANCE                         Nice & Marseilles   \n",
       "6277           AUSTRALIA                           New South Wales   \n",
       "\n",
       "                          Activity                             Name Sex  Age  \\\n",
       "1270                       Unknown                  Jamie Adlington    M   0   \n",
       "2250                       Bathing                José Luiz Lipiani    M   0   \n",
       "2267                       Surfing                       Blair Hall    M  18   \n",
       "2648                       Surfing                             male    M  17   \n",
       "3434                       Surfing               Douglas Kuchn, Jr.    M  18   \n",
       "3841                       Unknown          Domingos Zefanias Cumbe    M  16   \n",
       "5370                       Unknown  arm recovered from hooked shark    M   0   \n",
       "5547  Diving around anchored liner                              boy    M   0   \n",
       "6140                      Swimming                     Richard Page    M   0   \n",
       "6153                       Unknown                        Fishermen    M   0   \n",
       "6172                       Unknown            males (wearing armor)    M   0   \n",
       "6277                       Unknown    male, the Sergeant of Marines    M   0   \n",
       "\n",
       "     Injury Fatal (Y/N)   Time                                      Species   \\\n",
       "1270    NaN     UNKNOWN    NaN                            Tiger shark, 2.3m    \n",
       "2250    NaN     UNKNOWN    NaN                                           NaN   \n",
       "2267    NaN     UNKNOWN  18h00                                           NaN   \n",
       "2648    NaN     UNKNOWN    NaN                                           NaN   \n",
       "3434    NaN     UNKNOWN  16h00                                           NaN   \n",
       "3841    NaN     UNKNOWN    NaN                                           NaN   \n",
       "5370    NaN         NaN    NaN  Shark involvement prior to death unconfirmed   \n",
       "5547    NaN         NaN    NaN                                  Questionable   \n",
       "6140    NaN           Y  22h00                                           NaN   \n",
       "6153    NaN     UNKNOWN    NaN                                           NaN   \n",
       "6172    NaN     UNKNOWN    NaN                         Possibly white sharks   \n",
       "6277    NaN     UNKNOWN    NaN                                           NaN   \n",
       "\n",
       "                   Investigator or Source                              pdf  \\\n",
       "1270                       T. Peake, GSAF       2008.04.20.a-Adlington.pdf   \n",
       "2250                      Globo, 6/9/1997        1997.06.07-NV-Lipiani.pdf   \n",
       "2267      The Advertiser, 12/30/1996, p.3         1996.12.29-BlairHall.pdf   \n",
       "2648                                  NaN      1990.00.00-NV-Pensacola.pdf   \n",
       "3434  H.D.Baldridge (1994) SAF Case #1607          1969.05.22-NV-Kuchn.pdf   \n",
       "3841                            D. Davies             1962.01.26-Cumbe.pdf   \n",
       "5370                      M. Levine, GSAF               1912.05.04-arm.pdf   \n",
       "5547               The Graphic, 6/29/1901            1901.06.29.R-Aden.pdf   \n",
       "6140   The Pennsylvaia Gazette, 3/16/1785              1784.12.12-Page.pdf   \n",
       "6153                       C. Moore, GSAF            1755.00.00-Sweden.pdf   \n",
       "6172                         G. Rondelet           1554.00.00-Rondelet.pdf   \n",
       "6277                            H. Capper  ND-0025-Sgt-SpectacleIsland.pdf   \n",
       "\n",
       "                                           href formula  \\\n",
       "1270  http://sharkattackfile.net/spreadsheets/pdf_di...   \n",
       "2250  http://sharkattackfile.net/spreadsheets/pdf_di...   \n",
       "2267  http://sharkattackfile.net/spreadsheets/pdf_di...   \n",
       "2648  http://sharkattackfile.net/spreadsheets/pdf_di...   \n",
       "3434  http://sharkattackfile.net/spreadsheets/pdf_di...   \n",
       "3841  http://sharkattackfile.net/spreadsheets/pdf_di...   \n",
       "5370  http://sharkattackfile.net/spreadsheets/pdf_di...   \n",
       "5547  http://sharkattackfile.net/spreadsheets/pdf_di...   \n",
       "6140  http://sharkattackfile.net/spreadsheets/pdf_di...   \n",
       "6153  http://sharkattackfile.net/spreadsheets/pdf_di...   \n",
       "6172  http://sharkattackfile.net/spreadsheets/pdf_di...   \n",
       "6277  http://sharkattackfile.net/spreadsheets/pdf_di...   \n",
       "\n",
       "                                                   href Case Number.1  \\\n",
       "1270  http://sharkattackfile.net/spreadsheets/pdf_di...  2008.04.20.a   \n",
       "2250  http://sharkattackfile.net/spreadsheets/pdf_di...    1997.06.07   \n",
       "2267  http://sharkattackfile.net/spreadsheets/pdf_di...    1996.12.29   \n",
       "2648  http://sharkattackfile.net/spreadsheets/pdf_di...    1990.00.00   \n",
       "3434  http://sharkattackfile.net/spreadsheets/pdf_di...    1969.05.22   \n",
       "3841  http://sharkattackfile.net/spreadsheets/pdf_di...    1962.01.26   \n",
       "5370  http://sharkattackfile.net/spreadsheets/pdf_di...    1912.05.04   \n",
       "5547  http://sharkattackfile.net/spreadsheets/pdf_di...  1901.06.29.R   \n",
       "6140  http://sharkattackfile.net/spreadsheets/pdf_di...    1784.12.12   \n",
       "6153  http://sharkattackfile.net/spreadsheets/pdf_di...    1755.00.00   \n",
       "6172  http://sharkattackfile.net/spreadsheets/pdf_di...    1554.00.00   \n",
       "6277  http://sharkattackfile.net/spreadsheets/pdf_di...       ND.0025   \n",
       "\n",
       "     Case Number.2  original order   Age2  \n",
       "1270  2008.04.20.a          5033.0  27.39  \n",
       "2250    1997.06.07          4053.0  27.39  \n",
       "2267    1996.12.29          4036.0  18.00  \n",
       "2648    1990.00.00          3655.0  17.00  \n",
       "3434    1969.05.22          2869.0  18.00  \n",
       "3841    1962.01.26          2462.0  16.00  \n",
       "5370    1912.05.04           933.0  27.39  \n",
       "5547  1901.06.29.R           756.0  27.39  \n",
       "6140    1784.12.12           163.0  27.39  \n",
       "6153    1755.00.00           150.0  27.39  \n",
       "6172    1554.00.00           131.0  27.39  \n",
       "6277       ND.0025            26.0  27.39  "
      ]
     },
     "execution_count": 72,
     "metadata": {},
     "output_type": "execute_result"
    }
   ],
   "source": [
    "df[df[\"Injury\"].isnull()]"
   ]
  },
  {
   "cell_type": "markdown",
   "id": "5fd0590b",
   "metadata": {},
   "source": [
    "Después de revisar la tabla, inicialmente había planeado eliminar todas las filas excepto la que tiene índice 5370. Aquí, he notado que había información que me podía servir para rellanar la casilla de la columna \"Injury\" en la columna columna \"Name\". Sin embargo, más tarde me he dado cuenta de que también existían datos en la columna \"Species\" que guardaban relación con la información que estaba buscando. Al analizar estos datos, he identificado que ambos se contraponían entre ellos. Por lo tanto, mi decisión final es la de eliminar esta fila también, deshaciéndome así de la totalidad de ellas. No son muchos, por lo que no harán cambiar mucho la estadística final."
   ]
  },
  {
   "cell_type": "code",
   "execution_count": 73,
   "id": "e29fccd7",
   "metadata": {},
   "outputs": [],
   "source": [
    "df = df.dropna(subset=[\"Injury\"])"
   ]
  },
  {
   "cell_type": "code",
   "execution_count": 74,
   "id": "718bb8f6",
   "metadata": {},
   "outputs": [
    {
     "data": {
      "text/plain": [
       "Fatal (Y/N)                455\n",
       "Time                      2852\n",
       "Species                   2558\n",
       "Investigator or Source      14\n",
       "href formula                 1\n",
       "dtype: int64"
      ]
     },
     "execution_count": 74,
     "metadata": {},
     "output_type": "execute_result"
    }
   ],
   "source": [
    "nan_cols = df.isna().sum()\n",
    "nan_cols[nan_cols>0]"
   ]
  },
  {
   "cell_type": "markdown",
   "id": "5c8d62c7",
   "metadata": {},
   "source": [
    "# 3.12 Columna \"Fatal (Y/N)\"."
   ]
  },
  {
   "cell_type": "markdown",
   "id": "a68ab840",
   "metadata": {},
   "source": [
    "En este caso seguiré el siguiente procedimiento: cuando la palabra \"FATAL\" se encuentre en la columna \"Injury\", procederé a completar la fila correspondiente en la columna \"Fatal (Y/N)\" con la string \"Y\"; en caso contrario, con la string \"N\"."
   ]
  },
  {
   "cell_type": "code",
   "execution_count": 75,
   "id": "b609f078",
   "metadata": {},
   "outputs": [
    {
     "name": "stdout",
     "output_type": "stream",
     "text": [
      "No hay filas con valores nulos en ambos\n"
     ]
    }
   ],
   "source": [
    "if df[df[\"Fatal (Y/N)\"].isnull() & df[\"Injury\"].isnull()].empty:\n",
    "    print(\"No hay filas con valores nulos en ambos\")\n",
    "else:\n",
    "    print(\"Hay filas con valores nulos en ambos\") "
   ]
  },
  {
   "cell_type": "code",
   "execution_count": 76,
   "id": "b21f6efd",
   "metadata": {},
   "outputs": [],
   "source": [
    "df[\"Fatal (Y/N)\"].fillna(\"N\", inplace=True) "
   ]
  },
  {
   "cell_type": "code",
   "execution_count": 77,
   "id": "71d0c229",
   "metadata": {},
   "outputs": [],
   "source": [
    "fatal_injury = df[\"Injury\"].str.contains(\"FATAL\", na=False) # De esta forma verifico dónde la columna \"Injury\" contiene la palabra \"FATAL\"."
   ]
  },
  {
   "cell_type": "code",
   "execution_count": 78,
   "id": "e52a9017",
   "metadata": {},
   "outputs": [],
   "source": [
    "df.loc[fatal_injury, \"Fatal (Y/N)\"] = \"Y\" # Sobreescribo los valores en la columna \"Fatal (Y/N)\" con \"Y\" donde la columna \"Injury\" contiene la palabra \"FATAL\"."
   ]
  },
  {
   "cell_type": "code",
   "execution_count": 79,
   "id": "f0133bce",
   "metadata": {},
   "outputs": [
    {
     "data": {
      "text/plain": [
       "Time                      2852\n",
       "Species                   2558\n",
       "Investigator or Source      14\n",
       "href formula                 1\n",
       "dtype: int64"
      ]
     },
     "execution_count": 79,
     "metadata": {},
     "output_type": "execute_result"
    }
   ],
   "source": [
    "nan_cols = df.isna().sum()\n",
    "nan_cols[nan_cols>0]"
   ]
  },
  {
   "cell_type": "markdown",
   "id": "9b18b6e2",
   "metadata": {},
   "source": [
    "# 3.13 Columna \"Time\"."
   ]
  },
  {
   "cell_type": "markdown",
   "id": "030e66cf",
   "metadata": {},
   "source": [
    "En un comienzo había optado, por sobreescribir los valores nulos con la etiqueta \"Unknown\". Sin embargo, debido al alto porcentaje de valores nulos, considero más apropiado eliminarla. Esta información carece de relevancia en el análisis que propongo realizar."
   ]
  },
  {
   "cell_type": "code",
   "execution_count": 80,
   "id": "935ab47e",
   "metadata": {},
   "outputs": [],
   "source": [
    "df = df.drop(df.columns[df.columns.str.contains(\"Time\")], axis=1)"
   ]
  },
  {
   "cell_type": "markdown",
   "id": "ec77d36c",
   "metadata": {},
   "source": [
    "# 3.14 Columna \"Species\"."
   ]
  },
  {
   "cell_type": "markdown",
   "id": "5354a976",
   "metadata": {},
   "source": [
    "En esta columna, a saber, \"Species,\" dado que el eje central del análisis que estoy realizando está enfocado en, como especifica el título, ataques de tiburón; procederé a completar con la palabra \"Sharck\" aquellas celdas que actualmente contienen valores nulos. \n",
    "\n",
    "Posteriormente, en la sección destinada a la limpieza y manipulación de datos, abordaré este aspecto de manera más detallada."
   ]
  },
  {
   "cell_type": "code",
   "execution_count": 81,
   "id": "3d21ca94",
   "metadata": {},
   "outputs": [],
   "source": [
    "df[\"Species \"].fillna(\"Shark\", inplace=True)"
   ]
  },
  {
   "cell_type": "code",
   "execution_count": 82,
   "id": "dc71093b",
   "metadata": {},
   "outputs": [
    {
     "data": {
      "text/plain": [
       "Investigator or Source    14\n",
       "href formula               1\n",
       "dtype: int64"
      ]
     },
     "execution_count": 82,
     "metadata": {},
     "output_type": "execute_result"
    }
   ],
   "source": [
    "nan_cols = df.isna().sum()\n",
    "nan_cols[nan_cols>0]"
   ]
  },
  {
   "cell_type": "code",
   "execution_count": 83,
   "id": "0f96145e",
   "metadata": {},
   "outputs": [
    {
     "data": {
      "text/html": [
       "<div>\n",
       "<style scoped>\n",
       "    .dataframe tbody tr th:only-of-type {\n",
       "        vertical-align: middle;\n",
       "    }\n",
       "\n",
       "    .dataframe tbody tr th {\n",
       "        vertical-align: top;\n",
       "    }\n",
       "\n",
       "    .dataframe thead th {\n",
       "        text-align: right;\n",
       "    }\n",
       "</style>\n",
       "<table border=\"1\" class=\"dataframe\">\n",
       "  <thead>\n",
       "    <tr style=\"text-align: right;\">\n",
       "      <th></th>\n",
       "      <th>Case Number</th>\n",
       "      <th>Date</th>\n",
       "      <th>Year</th>\n",
       "      <th>Type</th>\n",
       "      <th>Country</th>\n",
       "      <th>Area</th>\n",
       "      <th>Activity</th>\n",
       "      <th>Name</th>\n",
       "      <th>Sex</th>\n",
       "      <th>Age</th>\n",
       "      <th>Injury</th>\n",
       "      <th>Fatal (Y/N)</th>\n",
       "      <th>Species</th>\n",
       "      <th>Investigator or Source</th>\n",
       "      <th>pdf</th>\n",
       "      <th>href formula</th>\n",
       "      <th>href</th>\n",
       "      <th>Case Number.1</th>\n",
       "      <th>Case Number.2</th>\n",
       "      <th>original order</th>\n",
       "      <th>Age2</th>\n",
       "    </tr>\n",
       "  </thead>\n",
       "  <tbody>\n",
       "    <tr>\n",
       "      <th>0</th>\n",
       "      <td>2018.06.25</td>\n",
       "      <td>25-Jun-2018</td>\n",
       "      <td>2018.0</td>\n",
       "      <td>Boating</td>\n",
       "      <td>USA</td>\n",
       "      <td>California</td>\n",
       "      <td>Paddling</td>\n",
       "      <td>Julie Wolfe</td>\n",
       "      <td>F</td>\n",
       "      <td>57</td>\n",
       "      <td>No injury to occupant, outrigger canoe and pad...</td>\n",
       "      <td>N</td>\n",
       "      <td>White shark</td>\n",
       "      <td>R. Collier, GSAF</td>\n",
       "      <td>2018.06.25-Wolfe.pdf</td>\n",
       "      <td>http://sharkattackfile.net/spreadsheets/pdf_di...</td>\n",
       "      <td>http://sharkattackfile.net/spreadsheets/pdf_di...</td>\n",
       "      <td>2018.06.25</td>\n",
       "      <td>2018.06.25</td>\n",
       "      <td>6303.0</td>\n",
       "      <td>57.00</td>\n",
       "    </tr>\n",
       "    <tr>\n",
       "      <th>1</th>\n",
       "      <td>2018.06.18</td>\n",
       "      <td>18-Jun-2018</td>\n",
       "      <td>2018.0</td>\n",
       "      <td>Unprovoked</td>\n",
       "      <td>USA</td>\n",
       "      <td>Georgia</td>\n",
       "      <td>Standing</td>\n",
       "      <td>Adyson McNeely</td>\n",
       "      <td>F</td>\n",
       "      <td>11</td>\n",
       "      <td>Minor injury to left thigh</td>\n",
       "      <td>N</td>\n",
       "      <td>Shark</td>\n",
       "      <td>K.McMurray, TrackingSharks.com</td>\n",
       "      <td>2018.06.18-McNeely.pdf</td>\n",
       "      <td>http://sharkattackfile.net/spreadsheets/pdf_di...</td>\n",
       "      <td>http://sharkattackfile.net/spreadsheets/pdf_di...</td>\n",
       "      <td>2018.06.18</td>\n",
       "      <td>2018.06.18</td>\n",
       "      <td>6302.0</td>\n",
       "      <td>11.00</td>\n",
       "    </tr>\n",
       "    <tr>\n",
       "      <th>2</th>\n",
       "      <td>2018.06.09</td>\n",
       "      <td>09-Jun-2018</td>\n",
       "      <td>2018.0</td>\n",
       "      <td>Invalid</td>\n",
       "      <td>USA</td>\n",
       "      <td>Hawaii</td>\n",
       "      <td>Surfing</td>\n",
       "      <td>John Denges</td>\n",
       "      <td>M</td>\n",
       "      <td>48</td>\n",
       "      <td>Injury to left lower leg from surfboard skeg</td>\n",
       "      <td>N</td>\n",
       "      <td>Shark</td>\n",
       "      <td>K.McMurray, TrackingSharks.com</td>\n",
       "      <td>2018.06.09-Denges.pdf</td>\n",
       "      <td>http://sharkattackfile.net/spreadsheets/pdf_di...</td>\n",
       "      <td>http://sharkattackfile.net/spreadsheets/pdf_di...</td>\n",
       "      <td>2018.06.09</td>\n",
       "      <td>2018.06.09</td>\n",
       "      <td>6301.0</td>\n",
       "      <td>48.00</td>\n",
       "    </tr>\n",
       "    <tr>\n",
       "      <th>3</th>\n",
       "      <td>2018.06.08</td>\n",
       "      <td>08-Jun-2018</td>\n",
       "      <td>2018.0</td>\n",
       "      <td>Unprovoked</td>\n",
       "      <td>AUSTRALIA</td>\n",
       "      <td>New South Wales</td>\n",
       "      <td>Surfing</td>\n",
       "      <td>male</td>\n",
       "      <td>M</td>\n",
       "      <td>0</td>\n",
       "      <td>Minor injury to lower leg</td>\n",
       "      <td>N</td>\n",
       "      <td>2 m shark</td>\n",
       "      <td>B. Myatt, GSAF</td>\n",
       "      <td>2018.06.08-Arrawarra.pdf</td>\n",
       "      <td>http://sharkattackfile.net/spreadsheets/pdf_di...</td>\n",
       "      <td>http://sharkattackfile.net/spreadsheets/pdf_di...</td>\n",
       "      <td>2018.06.08</td>\n",
       "      <td>2018.06.08</td>\n",
       "      <td>6300.0</td>\n",
       "      <td>27.39</td>\n",
       "    </tr>\n",
       "    <tr>\n",
       "      <th>4</th>\n",
       "      <td>2018.06.04</td>\n",
       "      <td>04-Jun-2018</td>\n",
       "      <td>2018.0</td>\n",
       "      <td>Provoked</td>\n",
       "      <td>MEXICO</td>\n",
       "      <td>Colima</td>\n",
       "      <td>Free diving</td>\n",
       "      <td>Gustavo Ramos</td>\n",
       "      <td>M</td>\n",
       "      <td>0</td>\n",
       "      <td>Lacerations to leg &amp; hand shark PROVOKED INCIDENT</td>\n",
       "      <td>N</td>\n",
       "      <td>Tiger shark, 3m</td>\n",
       "      <td>A .Kipper</td>\n",
       "      <td>2018.06.04-Ramos.pdf</td>\n",
       "      <td>http://sharkattackfile.net/spreadsheets/pdf_di...</td>\n",
       "      <td>http://sharkattackfile.net/spreadsheets/pdf_di...</td>\n",
       "      <td>2018.06.04</td>\n",
       "      <td>2018.06.04</td>\n",
       "      <td>6299.0</td>\n",
       "      <td>27.39</td>\n",
       "    </tr>\n",
       "  </tbody>\n",
       "</table>\n",
       "</div>"
      ],
      "text/plain": [
       "  Case Number         Date    Year        Type    Country             Area  \\\n",
       "0  2018.06.25  25-Jun-2018  2018.0     Boating        USA       California   \n",
       "1  2018.06.18  18-Jun-2018  2018.0  Unprovoked        USA          Georgia   \n",
       "2  2018.06.09  09-Jun-2018  2018.0     Invalid        USA           Hawaii   \n",
       "3  2018.06.08  08-Jun-2018  2018.0  Unprovoked  AUSTRALIA  New South Wales   \n",
       "4  2018.06.04  04-Jun-2018  2018.0    Provoked     MEXICO           Colima   \n",
       "\n",
       "      Activity             Name Sex  Age  \\\n",
       "0     Paddling      Julie Wolfe    F  57   \n",
       "1     Standing  Adyson McNeely     F  11   \n",
       "2      Surfing      John Denges    M  48   \n",
       "3      Surfing             male    M   0   \n",
       "4  Free diving   Gustavo Ramos     M   0   \n",
       "\n",
       "                                              Injury Fatal (Y/N)  \\\n",
       "0  No injury to occupant, outrigger canoe and pad...           N   \n",
       "1                         Minor injury to left thigh           N   \n",
       "2       Injury to left lower leg from surfboard skeg           N   \n",
       "3                          Minor injury to lower leg           N   \n",
       "4  Lacerations to leg & hand shark PROVOKED INCIDENT           N   \n",
       "\n",
       "          Species           Investigator or Source                       pdf  \\\n",
       "0      White shark                R. Collier, GSAF      2018.06.25-Wolfe.pdf   \n",
       "1            Shark  K.McMurray, TrackingSharks.com    2018.06.18-McNeely.pdf   \n",
       "2            Shark  K.McMurray, TrackingSharks.com     2018.06.09-Denges.pdf   \n",
       "3        2 m shark                  B. Myatt, GSAF  2018.06.08-Arrawarra.pdf   \n",
       "4  Tiger shark, 3m                       A .Kipper      2018.06.04-Ramos.pdf   \n",
       "\n",
       "                                        href formula  \\\n",
       "0  http://sharkattackfile.net/spreadsheets/pdf_di...   \n",
       "1  http://sharkattackfile.net/spreadsheets/pdf_di...   \n",
       "2  http://sharkattackfile.net/spreadsheets/pdf_di...   \n",
       "3  http://sharkattackfile.net/spreadsheets/pdf_di...   \n",
       "4  http://sharkattackfile.net/spreadsheets/pdf_di...   \n",
       "\n",
       "                                                href Case Number.1  \\\n",
       "0  http://sharkattackfile.net/spreadsheets/pdf_di...    2018.06.25   \n",
       "1  http://sharkattackfile.net/spreadsheets/pdf_di...    2018.06.18   \n",
       "2  http://sharkattackfile.net/spreadsheets/pdf_di...    2018.06.09   \n",
       "3  http://sharkattackfile.net/spreadsheets/pdf_di...    2018.06.08   \n",
       "4  http://sharkattackfile.net/spreadsheets/pdf_di...    2018.06.04   \n",
       "\n",
       "  Case Number.2  original order   Age2  \n",
       "0    2018.06.25          6303.0  57.00  \n",
       "1    2018.06.18          6302.0  11.00  \n",
       "2    2018.06.09          6301.0  48.00  \n",
       "3    2018.06.08          6300.0  27.39  \n",
       "4    2018.06.04          6299.0  27.39  "
      ]
     },
     "execution_count": 83,
     "metadata": {},
     "output_type": "execute_result"
    }
   ],
   "source": [
    "df.head()"
   ]
  },
  {
   "cell_type": "markdown",
   "id": "2a01a703",
   "metadata": {},
   "source": [
    "# 3.15 Columna \"Investigator or Source\"."
   ]
  },
  {
   "cell_type": "markdown",
   "id": "a4f2cb38",
   "metadata": {},
   "source": [
    "Esta columna no tiene gran relevancia para el estudio estadístico, por lo tanto, no invertiré demasiado tiempo en su análisis. \n",
    "\n",
    "Simplemente eliminaré los valores nulos."
   ]
  },
  {
   "cell_type": "code",
   "execution_count": 84,
   "id": "6cc8d9ea",
   "metadata": {},
   "outputs": [],
   "source": [
    "df = df.dropna(subset=[\"Investigator or Source\"])"
   ]
  },
  {
   "cell_type": "code",
   "execution_count": 85,
   "id": "5ad8ec99",
   "metadata": {},
   "outputs": [
    {
     "data": {
      "text/plain": [
       "href formula    1\n",
       "dtype: int64"
      ]
     },
     "execution_count": 85,
     "metadata": {},
     "output_type": "execute_result"
    }
   ],
   "source": [
    "nan_cols = df.isna().sum()\n",
    "nan_cols[nan_cols>0]"
   ]
  },
  {
   "cell_type": "markdown",
   "id": "c065e70e",
   "metadata": {},
   "source": [
    "# 3.16 Columna \"href formula\"."
   ]
  },
  {
   "cell_type": "markdown",
   "id": "e229d2d9",
   "metadata": {},
   "source": [
    "En esta columna, solo se encuentra un valor nulo que coincide con el valor de esa misma fila en \"href\". Por lo tanto, procederé a escribirlo en ese lugar y dar por concluida esta columna."
   ]
  },
  {
   "cell_type": "code",
   "execution_count": 86,
   "id": "f7195c84",
   "metadata": {},
   "outputs": [],
   "source": [
    "df[\"href formula\"].fillna(df[\"href\"], inplace=True)"
   ]
  },
  {
   "cell_type": "code",
   "execution_count": 87,
   "id": "2671d857",
   "metadata": {},
   "outputs": [
    {
     "data": {
      "text/plain": [
       "Series([], dtype: int64)"
      ]
     },
     "execution_count": 87,
     "metadata": {},
     "output_type": "execute_result"
    }
   ],
   "source": [
    "nan_cols = df.isna().sum()\n",
    "nan_cols[nan_cols>0]"
   ]
  },
  {
   "cell_type": "markdown",
   "id": "0133790b",
   "metadata": {},
   "source": [
    "# 3.17 Columnas \"Case Number. 1\" y \"Case Number. 2\"."
   ]
  },
  {
   "cell_type": "markdown",
   "id": "e8bde967",
   "metadata": {},
   "source": [
    "Mi propósito principal en relación a \"Case Number. 1\" y \"Case Number. 2\", al tratarse del mismo valor (refiriéndome a la misma fila), es verificar la presencia de valores nulos en uno de ellos que puedan resolverse mediante la información proporcionada en el otro caso. \n",
    "Por lo tanto, iniciaré este proceso mediante una inspección de \"Case Number. 1\":"
   ]
  },
  {
   "cell_type": "code",
   "execution_count": 88,
   "id": "317500f5",
   "metadata": {},
   "outputs": [
    {
     "name": "stdout",
     "output_type": "stream",
     "text": [
      "No hay filas con valores nulos en ambos\n"
     ]
    }
   ],
   "source": [
    "if df[df[\"Case Number.1\"].isnull() & df [\"Case Number.2\"].isnull()].empty:\n",
    "    print(\"No hay filas con valores nulos en ambos\")\n",
    "else:\n",
    "    print(\"Hay filas con valores nulos en ambos\")"
   ]
  },
  {
   "cell_type": "code",
   "execution_count": 89,
   "id": "f5aef7fd",
   "metadata": {},
   "outputs": [],
   "source": [
    "null_case1 = df[\"Case Number.1\"].isnull()"
   ]
  },
  {
   "cell_type": "code",
   "execution_count": 90,
   "id": "47c34311",
   "metadata": {},
   "outputs": [],
   "source": [
    "notnull_case2 = df[\"Case Number.2\"].notnull()"
   ]
  },
  {
   "cell_type": "code",
   "execution_count": 91,
   "id": "8505acb0",
   "metadata": {},
   "outputs": [],
   "source": [
    "df.loc[null_case1 & notnull_case2, \"Case Number.1\"] = df.loc[null_case1 & notnull_case2, \"Case Number.2\"]"
   ]
  },
  {
   "cell_type": "code",
   "execution_count": 92,
   "id": "83c70b46",
   "metadata": {},
   "outputs": [
    {
     "data": {
      "text/plain": [
       "Series([], dtype: int64)"
      ]
     },
     "execution_count": 92,
     "metadata": {},
     "output_type": "execute_result"
    }
   ],
   "source": [
    "nan_cols = df.isna().sum()\n",
    "nan_cols[nan_cols>0]"
   ]
  },
  {
   "cell_type": "markdown",
   "id": "e383f885",
   "metadata": {},
   "source": [
    "Y ahora, a la inversa: revisando donde hay valores nulos en \"Case Number. 2\" y observar si puedo añadir su valor correspondiente de \"Case Number. 1\"."
   ]
  },
  {
   "cell_type": "code",
   "execution_count": 93,
   "id": "e8962ab9",
   "metadata": {},
   "outputs": [],
   "source": [
    "null_case2 = df[\"Case Number.2\"].isnull()"
   ]
  },
  {
   "cell_type": "code",
   "execution_count": 94,
   "id": "caa6bf08",
   "metadata": {},
   "outputs": [],
   "source": [
    "notnull_case1 = df[\"Case Number.1\"].notnull()"
   ]
  },
  {
   "cell_type": "code",
   "execution_count": 95,
   "id": "1fddcec9",
   "metadata": {},
   "outputs": [],
   "source": [
    "df.loc[null_case2 & notnull_case1, \"Case Number.2\"] = df.loc[null_case2 & notnull_case1, \"Case Number.1\"]"
   ]
  },
  {
   "cell_type": "code",
   "execution_count": 96,
   "id": "248e74fc",
   "metadata": {},
   "outputs": [
    {
     "data": {
      "text/plain": [
       "Series([], dtype: int64)"
      ]
     },
     "execution_count": 96,
     "metadata": {},
     "output_type": "execute_result"
    }
   ],
   "source": [
    "nan_cols = df.isna().sum()\n",
    "\n",
    "nan_cols[nan_cols>0]"
   ]
  },
  {
   "cell_type": "markdown",
   "id": "b058300c",
   "metadata": {},
   "source": [
    "Viendo, tras este procedimiento,  que no hay ninguna fila donde falte un valor pero no el otro, voy a buscar los índices de los valores nulos en esas filas y eliminarlas de forma directa, pues se trata únicamente de 7 valores, lo cual no influiría en el estudio estadístico posterior."
   ]
  },
  {
   "cell_type": "code",
   "execution_count": 97,
   "id": "3f5a9e55",
   "metadata": {},
   "outputs": [
    {
     "data": {
      "text/plain": [
       "0       False\n",
       "1       False\n",
       "2       False\n",
       "3       False\n",
       "4       False\n",
       "        ...  \n",
       "6297    False\n",
       "6298    False\n",
       "6299    False\n",
       "6300    False\n",
       "6301    False\n",
       "Name: Case Number.2, Length: 5673, dtype: bool"
      ]
     },
     "execution_count": 97,
     "metadata": {},
     "output_type": "execute_result"
    }
   ],
   "source": [
    "null_case2"
   ]
  },
  {
   "cell_type": "code",
   "execution_count": 98,
   "id": "13187140",
   "metadata": {},
   "outputs": [
    {
     "data": {
      "text/plain": [
       "Int64Index([], dtype='int64')"
      ]
     },
     "execution_count": 98,
     "metadata": {},
     "output_type": "execute_result"
    }
   ],
   "source": [
    "index_null_case1 = df[df[\"Case Number.1\"].isnull()].index\n",
    "index_null_case1"
   ]
  },
  {
   "cell_type": "code",
   "execution_count": 99,
   "id": "1cc5d780",
   "metadata": {},
   "outputs": [
    {
     "data": {
      "text/plain": [
       "Int64Index([], dtype='int64')"
      ]
     },
     "execution_count": 99,
     "metadata": {},
     "output_type": "execute_result"
    }
   ],
   "source": [
    "index_null_case2 = df[df[\"Case Number.2\"].isnull()].index\n",
    "index_null_case2"
   ]
  },
  {
   "cell_type": "markdown",
   "id": "e6525b2d",
   "metadata": {},
   "source": [
    "Se puedo aquí observar como los falores faltos son coincidentes en ambas columnas."
   ]
  },
  {
   "cell_type": "code",
   "execution_count": 100,
   "id": "347a11e4",
   "metadata": {},
   "outputs": [],
   "source": [
    "df.drop(index = index_null_case1, inplace = True)"
   ]
  },
  {
   "cell_type": "code",
   "execution_count": 101,
   "id": "76500bc5",
   "metadata": {
    "scrolled": true
   },
   "outputs": [
    {
     "data": {
      "text/plain": [
       "Series([], dtype: int64)"
      ]
     },
     "execution_count": 101,
     "metadata": {},
     "output_type": "execute_result"
    }
   ],
   "source": [
    "nan_cols = df.isna().sum()\n",
    "nan_cols[nan_cols>0]"
   ]
  },
  {
   "cell_type": "markdown",
   "id": "a46e23b1",
   "metadata": {},
   "source": [
    "# 4. Comparativa de los gráficos de valores nulos al comienzo del proyecto y una vez retirados estos del Dataframe."
   ]
  },
  {
   "cell_type": "code",
   "execution_count": 102,
   "id": "179416ca",
   "metadata": {},
   "outputs": [
    {
     "data": {
      "image/png": "[encoded data removed]",
      "text/plain": [
       "<Figure size 1000x600 with 1 Axes>"
      ]
     },
     "metadata": {},
     "output_type": "display_data"
    }
   ],
   "source": [
    "plt.figure(figsize=(10, 6))  # inicia la figura y establece tamaño\n",
    "\n",
    "sns.heatmap(df_original.isna(),  # mapa de calor\n",
    "           yticklabels=False,\n",
    "           cmap='viridis',\n",
    "           cbar=False)\n",
    "\n",
    "plt.show()"
   ]
  },
  {
   "cell_type": "code",
   "execution_count": 103,
   "id": "05fc23cd",
   "metadata": {},
   "outputs": [
    {
     "data": {
      "image/png": "[encoded data removed]",
      "text/plain": [
       "<Figure size 1000x600 with 1 Axes>"
      ]
     },
     "metadata": {},
     "output_type": "display_data"
    }
   ],
   "source": [
    "plt.figure(figsize=(10, 6))  # inicia la figura y establece tamaño\n",
    "\n",
    "sns.heatmap(df.isna(),  # mapa de calor\n",
    "           yticklabels=False,\n",
    "           cmap='viridis',\n",
    "           cbar=False)\n",
    "\n",
    "plt.show()"
   ]
  },
  {
   "cell_type": "markdown",
   "id": "84bb9fa2",
   "metadata": {},
   "source": [
    "# 5. Limpieza y depuración de los datos existentes."
   ]
  },
  {
   "cell_type": "markdown",
   "id": "b3c76cf3",
   "metadata": {},
   "source": [
    "# 5.1 Columna \"Case Number\"."
   ]
  },
  {
   "cell_type": "markdown",
   "id": "47db856c",
   "metadata": {},
   "source": [
    "Ahora inicio el proceso de limpieza de datos, que sigue a la eliminación de los valores nulos. \n",
    "\n",
    "Comenzaré con la columna \"Case Number.\" En este caso, he optado por eliminar los caracteres adicionales (\"a,\" \"b,\" \"c,\" \"d,\" y \"R\") que a veces acompañan a los valores de esta columna. \n",
    "\n",
    "La razón detrás de esta decisión radica en que, aunque la información que aportan estos caracteres es relevante, pues nos indican la existencia de múltiples incidentes en el mismo día (distinguidos por letras); o el hecho de que el caso ha sido reportado (\"R\"), la información ya está recogida en otras columnas. \n",
    "\n",
    "Así, la información sobre múltiples incidentes en un mismo día ya está registrada mediante la fecha, y la información acerca de cuando ha sido reportado el caso está disponible en la siguiente columna (\"Date\"), por lo que estos detalles adicionales no son relevantes para nuestro análisis de los datos y el eliminarlos aportará una mayor comodidad en el manejo de los mismos."
   ]
  },
  {
   "cell_type": "code",
   "execution_count": 104,
   "id": "a71ba671",
   "metadata": {},
   "outputs": [],
   "source": [
    "#df[\"Case Number\"].unique()"
   ]
  },
  {
   "cell_type": "code",
   "execution_count": 105,
   "id": "9dd59ccc",
   "metadata": {},
   "outputs": [],
   "source": [
    "df[\"Case Number\"] = df[\"Case Number\"].str.replace(r'\\.[abcdR]$', '', regex=True) # Utlizo Regex para eliminar los ya mencionados caracteres adicionales."
   ]
  },
  {
   "cell_type": "code",
   "execution_count": 106,
   "id": "1a2ddb75",
   "metadata": {},
   "outputs": [
    {
     "data": {
      "text/html": [
       "<div>\n",
       "<style scoped>\n",
       "    .dataframe tbody tr th:only-of-type {\n",
       "        vertical-align: middle;\n",
       "    }\n",
       "\n",
       "    .dataframe tbody tr th {\n",
       "        vertical-align: top;\n",
       "    }\n",
       "\n",
       "    .dataframe thead th {\n",
       "        text-align: right;\n",
       "    }\n",
       "</style>\n",
       "<table border=\"1\" class=\"dataframe\">\n",
       "  <thead>\n",
       "    <tr style=\"text-align: right;\">\n",
       "      <th></th>\n",
       "      <th>Case Number</th>\n",
       "      <th>Date</th>\n",
       "      <th>Year</th>\n",
       "      <th>Type</th>\n",
       "      <th>Country</th>\n",
       "      <th>Area</th>\n",
       "      <th>Activity</th>\n",
       "      <th>Name</th>\n",
       "      <th>Sex</th>\n",
       "      <th>Age</th>\n",
       "      <th>Injury</th>\n",
       "      <th>Fatal (Y/N)</th>\n",
       "      <th>Species</th>\n",
       "      <th>Investigator or Source</th>\n",
       "      <th>pdf</th>\n",
       "      <th>href formula</th>\n",
       "      <th>href</th>\n",
       "      <th>Case Number.1</th>\n",
       "      <th>Case Number.2</th>\n",
       "      <th>original order</th>\n",
       "      <th>Age2</th>\n",
       "    </tr>\n",
       "  </thead>\n",
       "  <tbody>\n",
       "    <tr>\n",
       "      <th>0</th>\n",
       "      <td>2018.06.25</td>\n",
       "      <td>25-Jun-2018</td>\n",
       "      <td>2018.0</td>\n",
       "      <td>Boating</td>\n",
       "      <td>USA</td>\n",
       "      <td>California</td>\n",
       "      <td>Paddling</td>\n",
       "      <td>Julie Wolfe</td>\n",
       "      <td>F</td>\n",
       "      <td>57</td>\n",
       "      <td>No injury to occupant, outrigger canoe and pad...</td>\n",
       "      <td>N</td>\n",
       "      <td>White shark</td>\n",
       "      <td>R. Collier, GSAF</td>\n",
       "      <td>2018.06.25-Wolfe.pdf</td>\n",
       "      <td>http://sharkattackfile.net/spreadsheets/pdf_di...</td>\n",
       "      <td>http://sharkattackfile.net/spreadsheets/pdf_di...</td>\n",
       "      <td>2018.06.25</td>\n",
       "      <td>2018.06.25</td>\n",
       "      <td>6303.0</td>\n",
       "      <td>57.00</td>\n",
       "    </tr>\n",
       "    <tr>\n",
       "      <th>1</th>\n",
       "      <td>2018.06.18</td>\n",
       "      <td>18-Jun-2018</td>\n",
       "      <td>2018.0</td>\n",
       "      <td>Unprovoked</td>\n",
       "      <td>USA</td>\n",
       "      <td>Georgia</td>\n",
       "      <td>Standing</td>\n",
       "      <td>Adyson McNeely</td>\n",
       "      <td>F</td>\n",
       "      <td>11</td>\n",
       "      <td>Minor injury to left thigh</td>\n",
       "      <td>N</td>\n",
       "      <td>Shark</td>\n",
       "      <td>K.McMurray, TrackingSharks.com</td>\n",
       "      <td>2018.06.18-McNeely.pdf</td>\n",
       "      <td>http://sharkattackfile.net/spreadsheets/pdf_di...</td>\n",
       "      <td>http://sharkattackfile.net/spreadsheets/pdf_di...</td>\n",
       "      <td>2018.06.18</td>\n",
       "      <td>2018.06.18</td>\n",
       "      <td>6302.0</td>\n",
       "      <td>11.00</td>\n",
       "    </tr>\n",
       "    <tr>\n",
       "      <th>2</th>\n",
       "      <td>2018.06.09</td>\n",
       "      <td>09-Jun-2018</td>\n",
       "      <td>2018.0</td>\n",
       "      <td>Invalid</td>\n",
       "      <td>USA</td>\n",
       "      <td>Hawaii</td>\n",
       "      <td>Surfing</td>\n",
       "      <td>John Denges</td>\n",
       "      <td>M</td>\n",
       "      <td>48</td>\n",
       "      <td>Injury to left lower leg from surfboard skeg</td>\n",
       "      <td>N</td>\n",
       "      <td>Shark</td>\n",
       "      <td>K.McMurray, TrackingSharks.com</td>\n",
       "      <td>2018.06.09-Denges.pdf</td>\n",
       "      <td>http://sharkattackfile.net/spreadsheets/pdf_di...</td>\n",
       "      <td>http://sharkattackfile.net/spreadsheets/pdf_di...</td>\n",
       "      <td>2018.06.09</td>\n",
       "      <td>2018.06.09</td>\n",
       "      <td>6301.0</td>\n",
       "      <td>48.00</td>\n",
       "    </tr>\n",
       "    <tr>\n",
       "      <th>3</th>\n",
       "      <td>2018.06.08</td>\n",
       "      <td>08-Jun-2018</td>\n",
       "      <td>2018.0</td>\n",
       "      <td>Unprovoked</td>\n",
       "      <td>AUSTRALIA</td>\n",
       "      <td>New South Wales</td>\n",
       "      <td>Surfing</td>\n",
       "      <td>male</td>\n",
       "      <td>M</td>\n",
       "      <td>0</td>\n",
       "      <td>Minor injury to lower leg</td>\n",
       "      <td>N</td>\n",
       "      <td>2 m shark</td>\n",
       "      <td>B. Myatt, GSAF</td>\n",
       "      <td>2018.06.08-Arrawarra.pdf</td>\n",
       "      <td>http://sharkattackfile.net/spreadsheets/pdf_di...</td>\n",
       "      <td>http://sharkattackfile.net/spreadsheets/pdf_di...</td>\n",
       "      <td>2018.06.08</td>\n",
       "      <td>2018.06.08</td>\n",
       "      <td>6300.0</td>\n",
       "      <td>27.39</td>\n",
       "    </tr>\n",
       "    <tr>\n",
       "      <th>4</th>\n",
       "      <td>2018.06.04</td>\n",
       "      <td>04-Jun-2018</td>\n",
       "      <td>2018.0</td>\n",
       "      <td>Provoked</td>\n",
       "      <td>MEXICO</td>\n",
       "      <td>Colima</td>\n",
       "      <td>Free diving</td>\n",
       "      <td>Gustavo Ramos</td>\n",
       "      <td>M</td>\n",
       "      <td>0</td>\n",
       "      <td>Lacerations to leg &amp; hand shark PROVOKED INCIDENT</td>\n",
       "      <td>N</td>\n",
       "      <td>Tiger shark, 3m</td>\n",
       "      <td>A .Kipper</td>\n",
       "      <td>2018.06.04-Ramos.pdf</td>\n",
       "      <td>http://sharkattackfile.net/spreadsheets/pdf_di...</td>\n",
       "      <td>http://sharkattackfile.net/spreadsheets/pdf_di...</td>\n",
       "      <td>2018.06.04</td>\n",
       "      <td>2018.06.04</td>\n",
       "      <td>6299.0</td>\n",
       "      <td>27.39</td>\n",
       "    </tr>\n",
       "    <tr>\n",
       "      <th>5</th>\n",
       "      <td>2018.06.03</td>\n",
       "      <td>03-Jun-2018</td>\n",
       "      <td>2018.0</td>\n",
       "      <td>Unprovoked</td>\n",
       "      <td>AUSTRALIA</td>\n",
       "      <td>New South Wales</td>\n",
       "      <td>Kite surfing</td>\n",
       "      <td>Chris</td>\n",
       "      <td>M</td>\n",
       "      <td>0</td>\n",
       "      <td>No injury, board bitten</td>\n",
       "      <td>N</td>\n",
       "      <td>Shark</td>\n",
       "      <td>Daily Telegraph, 6/4/2018</td>\n",
       "      <td>2018.06.03.b-FlatRock.pdf</td>\n",
       "      <td>http://sharkattackfile.net/spreadsheets/pdf_di...</td>\n",
       "      <td>http://sharkattackfile.net/spreadsheets/pdf_di...</td>\n",
       "      <td>2018.06.03.b</td>\n",
       "      <td>2018.06.03.b</td>\n",
       "      <td>6298.0</td>\n",
       "      <td>27.39</td>\n",
       "    </tr>\n",
       "    <tr>\n",
       "      <th>6</th>\n",
       "      <td>2018.06.03</td>\n",
       "      <td>03-Jun-2018</td>\n",
       "      <td>2018.0</td>\n",
       "      <td>Unprovoked</td>\n",
       "      <td>BRAZIL</td>\n",
       "      <td>Pernambuco</td>\n",
       "      <td>Swimming</td>\n",
       "      <td>Jose Ernesto da Silva</td>\n",
       "      <td>M</td>\n",
       "      <td>18</td>\n",
       "      <td>FATAL</td>\n",
       "      <td>Y</td>\n",
       "      <td>Tiger shark</td>\n",
       "      <td>Diario de Pernambuco, 6/4/2018</td>\n",
       "      <td>2018.06.03.a-daSilva.pdf</td>\n",
       "      <td>http://sharkattackfile.net/spreadsheets/pdf_di...</td>\n",
       "      <td>http://sharkattackfile.net/spreadsheets/pdf_di...</td>\n",
       "      <td>2018.06.03.a</td>\n",
       "      <td>2018.06.03.a</td>\n",
       "      <td>6297.0</td>\n",
       "      <td>18.00</td>\n",
       "    </tr>\n",
       "    <tr>\n",
       "      <th>7</th>\n",
       "      <td>2018.05.27</td>\n",
       "      <td>27-May-2018</td>\n",
       "      <td>2018.0</td>\n",
       "      <td>Unprovoked</td>\n",
       "      <td>USA</td>\n",
       "      <td>Florida</td>\n",
       "      <td>Fishing</td>\n",
       "      <td>male</td>\n",
       "      <td>M</td>\n",
       "      <td>52</td>\n",
       "      <td>Minor injury to foot. PROVOKED INCIDENT</td>\n",
       "      <td>N</td>\n",
       "      <td>Lemon shark, 3'</td>\n",
       "      <td>K. McMurray, TrackingSharks.com</td>\n",
       "      <td>2018.05.27-Ponce.pdf</td>\n",
       "      <td>http://sharkattackfile.net/spreadsheets/pdf_di...</td>\n",
       "      <td>http://sharkattackfile.net/spreadsheets/pdf_di...</td>\n",
       "      <td>2018.05.27</td>\n",
       "      <td>2018.05.27</td>\n",
       "      <td>6296.0</td>\n",
       "      <td>52.00</td>\n",
       "    </tr>\n",
       "    <tr>\n",
       "      <th>8</th>\n",
       "      <td>2018.05.26</td>\n",
       "      <td>26-May-2018</td>\n",
       "      <td>2018.0</td>\n",
       "      <td>Unprovoked</td>\n",
       "      <td>USA</td>\n",
       "      <td>Florida</td>\n",
       "      <td>Walking</td>\n",
       "      <td>Cody High</td>\n",
       "      <td>M</td>\n",
       "      <td>15</td>\n",
       "      <td>Lower left leg bitten</td>\n",
       "      <td>N</td>\n",
       "      <td>Bull shark, 6'</td>\n",
       "      <td>K.McMurray, TrackingSharks.com</td>\n",
       "      <td>2018.05.26.b-High.pdf</td>\n",
       "      <td>http://sharkattackfile.net/spreadsheets/pdf_di...</td>\n",
       "      <td>http://sharkattackfile.net/spreadsheets/pdf_di...</td>\n",
       "      <td>2018.05.26.b</td>\n",
       "      <td>2018.05.26.b</td>\n",
       "      <td>6295.0</td>\n",
       "      <td>15.00</td>\n",
       "    </tr>\n",
       "    <tr>\n",
       "      <th>9</th>\n",
       "      <td>2018.05.26</td>\n",
       "      <td>26-May-2018</td>\n",
       "      <td>2018.0</td>\n",
       "      <td>Unprovoked</td>\n",
       "      <td>USA</td>\n",
       "      <td>Florida</td>\n",
       "      <td>Standing</td>\n",
       "      <td>male</td>\n",
       "      <td>M</td>\n",
       "      <td>12</td>\n",
       "      <td>Minor injury to foot</td>\n",
       "      <td>N</td>\n",
       "      <td>Shark</td>\n",
       "      <td>K. McMurray, Tracking Sharks.com</td>\n",
       "      <td>2018.05.26.a-DaytonaBeach.pdf</td>\n",
       "      <td>http://sharkattackfile.net/spreadsheets/pdf_di...</td>\n",
       "      <td>http://sharkattackfile.net/spreadsheets/pdf_di...</td>\n",
       "      <td>2018.05.26.a</td>\n",
       "      <td>2018.05.26.a</td>\n",
       "      <td>6294.0</td>\n",
       "      <td>12.00</td>\n",
       "    </tr>\n",
       "  </tbody>\n",
       "</table>\n",
       "</div>"
      ],
      "text/plain": [
       "  Case Number         Date    Year        Type    Country             Area  \\\n",
       "0  2018.06.25  25-Jun-2018  2018.0     Boating        USA       California   \n",
       "1  2018.06.18  18-Jun-2018  2018.0  Unprovoked        USA          Georgia   \n",
       "2  2018.06.09  09-Jun-2018  2018.0     Invalid        USA           Hawaii   \n",
       "3  2018.06.08  08-Jun-2018  2018.0  Unprovoked  AUSTRALIA  New South Wales   \n",
       "4  2018.06.04  04-Jun-2018  2018.0    Provoked     MEXICO           Colima   \n",
       "5  2018.06.03  03-Jun-2018  2018.0  Unprovoked  AUSTRALIA  New South Wales   \n",
       "6  2018.06.03  03-Jun-2018  2018.0  Unprovoked     BRAZIL       Pernambuco   \n",
       "7  2018.05.27  27-May-2018  2018.0  Unprovoked        USA          Florida   \n",
       "8  2018.05.26  26-May-2018  2018.0  Unprovoked        USA          Florida   \n",
       "9  2018.05.26  26-May-2018  2018.0  Unprovoked        USA          Florida   \n",
       "\n",
       "       Activity                    Name Sex  Age  \\\n",
       "0      Paddling             Julie Wolfe    F  57   \n",
       "1      Standing         Adyson McNeely     F  11   \n",
       "2       Surfing             John Denges    M  48   \n",
       "3       Surfing                    male    M   0   \n",
       "4   Free diving          Gustavo Ramos     M   0   \n",
       "5  Kite surfing                 Chris \n",
       "    M   0   \n",
       "6      Swimming  Jose Ernesto da Silva     M  18   \n",
       "7       Fishing                    male    M  52   \n",
       "8       Walking               Cody High    M  15   \n",
       "9      Standing                    male    M  12   \n",
       "\n",
       "                                              Injury Fatal (Y/N)  \\\n",
       "0  No injury to occupant, outrigger canoe and pad...           N   \n",
       "1                         Minor injury to left thigh           N   \n",
       "2       Injury to left lower leg from surfboard skeg           N   \n",
       "3                          Minor injury to lower leg           N   \n",
       "4  Lacerations to leg & hand shark PROVOKED INCIDENT           N   \n",
       "5                            No injury, board bitten           N   \n",
       "6                                              FATAL           Y   \n",
       "7            Minor injury to foot. PROVOKED INCIDENT           N   \n",
       "8                              Lower left leg bitten           N   \n",
       "9                               Minor injury to foot           N   \n",
       "\n",
       "          Species             Investigator or Source  \\\n",
       "0      White shark                  R. Collier, GSAF   \n",
       "1            Shark    K.McMurray, TrackingSharks.com   \n",
       "2            Shark    K.McMurray, TrackingSharks.com   \n",
       "3        2 m shark                    B. Myatt, GSAF   \n",
       "4  Tiger shark, 3m                         A .Kipper   \n",
       "5            Shark         Daily Telegraph, 6/4/2018   \n",
       "6      Tiger shark    Diario de Pernambuco, 6/4/2018   \n",
       "7  Lemon shark, 3'   K. McMurray, TrackingSharks.com   \n",
       "8   Bull shark, 6'    K.McMurray, TrackingSharks.com   \n",
       "9            Shark  K. McMurray, Tracking Sharks.com   \n",
       "\n",
       "                             pdf  \\\n",
       "0           2018.06.25-Wolfe.pdf   \n",
       "1         2018.06.18-McNeely.pdf   \n",
       "2          2018.06.09-Denges.pdf   \n",
       "3       2018.06.08-Arrawarra.pdf   \n",
       "4           2018.06.04-Ramos.pdf   \n",
       "5      2018.06.03.b-FlatRock.pdf   \n",
       "6       2018.06.03.a-daSilva.pdf   \n",
       "7           2018.05.27-Ponce.pdf   \n",
       "8          2018.05.26.b-High.pdf   \n",
       "9  2018.05.26.a-DaytonaBeach.pdf   \n",
       "\n",
       "                                        href formula  \\\n",
       "0  http://sharkattackfile.net/spreadsheets/pdf_di...   \n",
       "1  http://sharkattackfile.net/spreadsheets/pdf_di...   \n",
       "2  http://sharkattackfile.net/spreadsheets/pdf_di...   \n",
       "3  http://sharkattackfile.net/spreadsheets/pdf_di...   \n",
       "4  http://sharkattackfile.net/spreadsheets/pdf_di...   \n",
       "5  http://sharkattackfile.net/spreadsheets/pdf_di...   \n",
       "6  http://sharkattackfile.net/spreadsheets/pdf_di...   \n",
       "7  http://sharkattackfile.net/spreadsheets/pdf_di...   \n",
       "8  http://sharkattackfile.net/spreadsheets/pdf_di...   \n",
       "9  http://sharkattackfile.net/spreadsheets/pdf_di...   \n",
       "\n",
       "                                                href Case Number.1  \\\n",
       "0  http://sharkattackfile.net/spreadsheets/pdf_di...    2018.06.25   \n",
       "1  http://sharkattackfile.net/spreadsheets/pdf_di...    2018.06.18   \n",
       "2  http://sharkattackfile.net/spreadsheets/pdf_di...    2018.06.09   \n",
       "3  http://sharkattackfile.net/spreadsheets/pdf_di...    2018.06.08   \n",
       "4  http://sharkattackfile.net/spreadsheets/pdf_di...    2018.06.04   \n",
       "5  http://sharkattackfile.net/spreadsheets/pdf_di...  2018.06.03.b   \n",
       "6  http://sharkattackfile.net/spreadsheets/pdf_di...  2018.06.03.a   \n",
       "7  http://sharkattackfile.net/spreadsheets/pdf_di...    2018.05.27   \n",
       "8  http://sharkattackfile.net/spreadsheets/pdf_di...  2018.05.26.b   \n",
       "9  http://sharkattackfile.net/spreadsheets/pdf_di...  2018.05.26.a   \n",
       "\n",
       "  Case Number.2  original order   Age2  \n",
       "0    2018.06.25          6303.0  57.00  \n",
       "1    2018.06.18          6302.0  11.00  \n",
       "2    2018.06.09          6301.0  48.00  \n",
       "3    2018.06.08          6300.0  27.39  \n",
       "4    2018.06.04          6299.0  27.39  \n",
       "5  2018.06.03.b          6298.0  27.39  \n",
       "6  2018.06.03.a          6297.0  18.00  \n",
       "7    2018.05.27          6296.0  52.00  \n",
       "8  2018.05.26.b          6295.0  15.00  \n",
       "9  2018.05.26.a          6294.0  12.00  "
      ]
     },
     "execution_count": 106,
     "metadata": {},
     "output_type": "execute_result"
    }
   ],
   "source": [
    "df.head(10)"
   ]
  },
  {
   "cell_type": "markdown",
   "id": "a7e74044",
   "metadata": {},
   "source": [
    "# 5.2 Columna \"Year\"."
   ]
  },
  {
   "cell_type": "code",
   "execution_count": 107,
   "id": "b2153733",
   "metadata": {},
   "outputs": [
    {
     "data": {
      "text/plain": [
       "array([2018.0, 2017.0, '2017', 2016.0, 2015.0, 2014.0, 2013.0, 2012.0,\n",
       "       2011.0, 2010.0, 2009.0, 2008.0, 2007.0, 2006.0, 2005.0, 2004.0,\n",
       "       2003.0, 2002.0, 2001.0, 2000.0, 1999.0, 1998.0, 1997.0, 1996.0,\n",
       "       1995.0, 1984.0, 1994.0, 1993.0, 1992.0, 1991.0, 1990.0, 1989.0,\n",
       "       1969.0, 1988.0, 1987.0, 1986.0, 1985.0, 1983.0, 1982.0, 1981.0,\n",
       "       1980.0, 1979.0, 1978.0, 1977.0, 1976.0, 1975.0, 1974.0, 1973.0,\n",
       "       1972.0, 1971.0, 1970.0, 1968.0, 1967.0, 1966.0, 1965.0, 1964.0,\n",
       "       1963.0, 1962.0, 1961.0, 1960.0, 1959.0, 1958.0, 1957.0, 1956.0,\n",
       "       1955.0, 1954.0, 1953.0, 1952.0, 1951.0, 1950.0, 1949.0, 1948.0,\n",
       "       1848.0, 1947.0, 1946.0, 1945.0, 1944.0, 1943.0, 1942.0, 1941.0,\n",
       "       1940.0, 1939.0, 1938.0, 1937.0, 1936.0, 1935.0, 1934.0, 1933.0,\n",
       "       1932.0, 1931.0, 1930.0, 1929.0, 1928.0, 1927.0, 1926.0, 1925.0,\n",
       "       1924.0, 1923.0, 1922.0, 1921.0, 1920.0, 1919.0, 1918.0, 1917.0,\n",
       "       1916.0, 1915.0, 1914.0, 1913.0, 1912.0, 1911.0, 1910.0, 1909.0,\n",
       "       1908.0, 1907.0, 1906.0, 1905.0, 1904.0, 1903.0, 1902.0, 1901.0,\n",
       "       1900.0, 1899.0, 1898.0, 1897.0, 1896.0, 1895.0, 1894.0, 1893.0,\n",
       "       1892.0, 1891.0, 1890.0, 1889.0, 1888.0, 1887.0, 1886.0, 1885.0,\n",
       "       1884.0, 1883.0, 1882.0, 1881.0, 1880.0, 1879.0, 1878.0, 1877.0,\n",
       "       1876.0, 1875.0, 1874.0, 1873.0, 1872.0, 1871.0, 1870.0, 1869.0,\n",
       "       1868.0, 1867.0, 1866.0, 1865.0, 1864.0, 1863.0, 1862.0, 1861.0,\n",
       "       1860.0, 1859.0, 1858.0, 1857.0, 1856.0, 1855.0, 1853.0, 1852.0,\n",
       "       1851.0, 1850.0, 1849.0, 1847.0, 1846.0, 1845.0, 1844.0, 1842.0,\n",
       "       1841.0, 1840.0, 1839.0, 1837.0, '1936', 1835.0, 1834.0, 1832.0,\n",
       "       1831.0, 1830.0, 1829.0, 1828.0, 1827.0, 1826.0, 1825.0, 1819.0,\n",
       "       1818.0, 1817.0, 1816.0, 1815.0, 1812.0, 1810.0, 1808.0, 1807.0,\n",
       "       1805.0, 1803.0, 1800.0, 1792.0, 1791.0, 1787.0, 1786.0, 1785.0,\n",
       "       1783.0, 1780.0, 1779.0, 1776.0, 1771.0, 1764.0, 1758.0, 1753.0,\n",
       "       1751.0, 1749.0, 1748.0, 1742.0, 1738.0, 1723.0, 1721.0, 1703.0,\n",
       "       1700.0, 1642.0, 1595.0, 1580.0, 1543.0, 500.0, 77.0, 5.0, 0.0],\n",
       "      dtype=object)"
      ]
     },
     "execution_count": 107,
     "metadata": {},
     "output_type": "execute_result"
    }
   ],
   "source": [
    "df.Year.unique()"
   ]
  },
  {
   "cell_type": "markdown",
   "id": "9f5970db",
   "metadata": {},
   "source": [
    "Al realizar una inspección minuciosa de los datos en esta columna, se evidencia la presencia de valores poco verosímiles, como los años: 500, 77, 5 o 0. \n",
    "\n",
    "Es evidente que estos son el resultado de errores o confusiones, y su inclusión podría resultar perjudicial para el análisis posterior. Por lo tanto, considero que la decisión más apropiada es eliminar estos valores."
   ]
  },
  {
   "cell_type": "code",
   "execution_count": 108,
   "id": "d6fe3352",
   "metadata": {},
   "outputs": [],
   "source": [
    "años = [500.0, 77.0, 5.0, 0.0]"
   ]
  },
  {
   "cell_type": "code",
   "execution_count": 109,
   "id": "d2251fb2",
   "metadata": {},
   "outputs": [
    {
     "data": {
      "text/plain": [
       "Int64Index([6174, 6175, 6176, 6177, 6178, 6179, 6180, 6181, 6182, 6183,\n",
       "            ...\n",
       "            6292, 6293, 6294, 6295, 6296, 6297, 6298, 6299, 6300, 6301],\n",
       "           dtype='int64', length=117)"
      ]
     },
     "execution_count": 109,
     "metadata": {},
     "output_type": "execute_result"
    }
   ],
   "source": [
    "df[\"Year\"].isin(años)\n",
    "indices_años_inverosimiles = df[df[\"Year\"].isin(años)].index\n",
    "indices_años_inverosimiles"
   ]
  },
  {
   "cell_type": "code",
   "execution_count": 110,
   "id": "43a42739",
   "metadata": {},
   "outputs": [],
   "source": [
    "df.drop(indices_años_inverosimiles, inplace = True)"
   ]
  },
  {
   "cell_type": "markdown",
   "id": "68a6f6e1",
   "metadata": {},
   "source": [
    "A continuación, procedo a convertir estos valores al formato entero (integer) con el propósito de que puedan ser utilizados en operaciones numéricas más adelante."
   ]
  },
  {
   "cell_type": "code",
   "execution_count": 111,
   "id": "61e80d21",
   "metadata": {},
   "outputs": [],
   "source": [
    "df[\"Year\"] = df[\"Year\"].astype(int)"
   ]
  },
  {
   "cell_type": "code",
   "execution_count": 112,
   "id": "17f8d966",
   "metadata": {},
   "outputs": [
    {
     "name": "stdout",
     "output_type": "stream",
     "text": [
      "<class 'pandas.core.frame.DataFrame'>\n",
      "Int64Index: 5556 entries, 0 to 6173\n",
      "Data columns (total 21 columns):\n",
      " #   Column                  Non-Null Count  Dtype  \n",
      "---  ------                  --------------  -----  \n",
      " 0   Case Number             5556 non-null   object \n",
      " 1   Date                    5556 non-null   object \n",
      " 2   Year                    5556 non-null   int64  \n",
      " 3   Type                    5556 non-null   object \n",
      " 4   Country                 5556 non-null   object \n",
      " 5   Area                    5556 non-null   object \n",
      " 6   Activity                5556 non-null   object \n",
      " 7   Name                    5556 non-null   object \n",
      " 8   Sex                     5556 non-null   object \n",
      " 9   Age                     5556 non-null   object \n",
      " 10  Injury                  5556 non-null   object \n",
      " 11  Fatal (Y/N)             5556 non-null   object \n",
      " 12  Species                 5556 non-null   object \n",
      " 13  Investigator or Source  5556 non-null   object \n",
      " 14  pdf                     5556 non-null   object \n",
      " 15  href formula            5556 non-null   object \n",
      " 16  href                    5556 non-null   object \n",
      " 17  Case Number.1           5556 non-null   object \n",
      " 18  Case Number.2           5556 non-null   object \n",
      " 19  original order          5556 non-null   float64\n",
      " 20  Age2                    5556 non-null   float64\n",
      "dtypes: float64(2), int64(1), object(18)\n",
      "memory usage: 954.9+ KB\n"
     ]
    }
   ],
   "source": [
    "df.info()"
   ]
  },
  {
   "cell_type": "markdown",
   "id": "1d88f3a9",
   "metadata": {},
   "source": [
    "# 5.3 Columna \"Type\"."
   ]
  },
  {
   "cell_type": "code",
   "execution_count": 113,
   "id": "fb07f8c2",
   "metadata": {},
   "outputs": [
    {
     "data": {
      "text/plain": [
       "array(['Boating', 'Unprovoked', 'Invalid', 'Provoked', 'Questionable',\n",
       "       'Unknown', 'Boat', 'Sea Disaster', 'Boatomg'], dtype=object)"
      ]
     },
     "execution_count": 113,
     "metadata": {},
     "output_type": "execute_result"
    }
   ],
   "source": [
    "df.Type.unique()"
   ]
  },
  {
   "cell_type": "markdown",
   "id": "c5acc7b6",
   "metadata": {},
   "source": [
    "Al examinar los datos en esta columna, se observa la existencia de valores que parecen haber surgido, también, como fruto de errores ortográficos o de otra clase. Resulta claro que las palabras \"Boat\" y \"Boatomg\" pretenden referirse a lo mismo que \"Boating,\" por lo que procederé a unificar estos tres valores en uno solo. \n",
    "\n",
    "En cuanto al resto de los datos presentes, se mantendrán sin modificaciones."
   ]
  },
  {
   "cell_type": "code",
   "execution_count": 114,
   "id": "dff5a669",
   "metadata": {},
   "outputs": [],
   "source": [
    "df = df.replace([\"Boat\",\"Boatomg\"], \"Boating\")"
   ]
  },
  {
   "cell_type": "code",
   "execution_count": 115,
   "id": "44f78675",
   "metadata": {},
   "outputs": [
    {
     "data": {
      "text/plain": [
       "array(['Boating', 'Unprovoked', 'Invalid', 'Provoked', 'Questionable',\n",
       "       'Unknown', 'Sea Disaster'], dtype=object)"
      ]
     },
     "execution_count": 115,
     "metadata": {},
     "output_type": "execute_result"
    }
   ],
   "source": [
    "df.Type.unique()"
   ]
  },
  {
   "cell_type": "markdown",
   "id": "7d40b40d",
   "metadata": {},
   "source": [
    "# 5.4 Columna \"Country\"."
   ]
  },
  {
   "cell_type": "code",
   "execution_count": 116,
   "id": "0df5c216",
   "metadata": {},
   "outputs": [
    {
     "data": {
      "text/plain": [
       "array(['USA', 'AUSTRALIA', 'MEXICO', 'BRAZIL', 'ENGLAND', 'SOUTH AFRICA',\n",
       "       'THAILAND', 'COSTA RICA', 'MALDIVES', 'BAHAMAS', 'ECUADOR',\n",
       "       'NEW CALEDONIA', 'MALAYSIA', 'CUBA', 'MAURITIUS', 'NEW ZEALAND',\n",
       "       'SPAIN', 'SAMOA', 'SOLOMON ISLANDS', 'JAPAN', 'EGYPT',\n",
       "       'ST HELENA, British overseas territory', 'REUNION',\n",
       "       'FRENCH POLYNESIA', 'UNITED KINGDOM', 'UNITED ARAB EMIRATES',\n",
       "       'PHILIPPINES', 'INDONESIA', 'CHINA', 'COLUMBIA', 'CAPE VERDE',\n",
       "       'Fiji', 'DOMINICAN REPUBLIC', 'CAYMAN ISLANDS', 'ARUBA',\n",
       "       'MOZAMBIQUE', 'FIJI', 'PUERTO RICO', 'ITALY', 'ST. MARTIN',\n",
       "       'FRANCE', 'PAPUA NEW GUINEA', 'TRINIDAD & TOBAGO', 'KIRIBATI',\n",
       "       'ISRAEL', 'DIEGO GARCIA', 'TAIWAN', 'JAMAICA',\n",
       "       'PALESTINIAN TERRITORIES', 'GUAM', 'SEYCHELLES', 'BELIZE',\n",
       "       'NIGERIA', 'TONGA', 'SCOTLAND', 'CANADA', 'SAUDI ARABIA', 'CHILE',\n",
       "       'ANTIGUA', 'KENYA', 'RUSSIA', 'TURKS & CAICOS',\n",
       "       'UNITED ARAB EMIRATES (UAE)', 'AZORES', 'SOUTH KOREA', 'MALTA',\n",
       "       'VIETNAM', 'MADAGASCAR', 'PANAMA', 'SOMALIA', 'NEVIS', 'CROATIA',\n",
       "       'BRITISH VIRGIN ISLANDS', 'NORWAY', 'Sierra Leone',\n",
       "       'ATLANTIC OCEAN', 'ST. MAARTIN', 'GRAND CAYMAN', 'Seychelles',\n",
       "       'LIBERIA', 'VANUATU', 'MEXICO ', 'HONDURAS', 'VENEZUELA',\n",
       "       'SRI LANKA', ' TONGA', 'URUGUAY', 'INDIA', 'MICRONESIA', 'OKINAWA',\n",
       "       'TANZANIA', 'MARSHALL ISLANDS', 'SENEGAL', 'EGYPT / ISRAEL',\n",
       "       'NORTHERN ARABIAN SEA', 'HONG KONG', 'EL SALVADOR',\n",
       "       'CARIBBEAN SEA', 'ANGOLA', 'BERMUDA', 'MONTENEGRO', 'IRAN',\n",
       "       'GREECE', 'TUNISIA', 'NAMIBIA', 'NORTH ATLANTIC OCEAN', 'PORTUGAL',\n",
       "       'SOUTH CHINA SEA', 'PALAU', 'WESTERN SAMOA', 'PACIFIC OCEAN ',\n",
       "       'BRITISH ISLES', 'GRENADA', 'IRAQ', 'TURKEY', 'SINGAPORE',\n",
       "       'NEW BRITAIN', 'SUDAN', 'JOHNSTON ISLAND', 'SOUTH PACIFIC OCEAN',\n",
       "       'NEW GUINEA', 'RED SEA', 'NORTH PACIFIC OCEAN',\n",
       "       'FEDERATED STATES OF MICRONESIA', 'MID ATLANTIC OCEAN',\n",
       "       'ADMIRALTY ISLANDS', 'BRITISH WEST INDIES', 'SOUTH ATLANTIC OCEAN',\n",
       "       'PERSIAN GULF', 'RED SEA / INDIAN OCEAN', 'PACIFIC OCEAN',\n",
       "       'NORTH SEA', 'NICARAGUA ', 'MALDIVE ISLANDS', 'AMERICAN SAMOA',\n",
       "       'ANDAMAN / NICOBAR ISLANDAS', 'GABON', 'MAYOTTE',\n",
       "       'NORTH ATLANTIC OCEAN ', 'YEMEN', 'THE BALKANS', 'SUDAN?',\n",
       "       'ARGENTINA', 'MARTINIQUE', 'GUATEMALA', 'NETHERLANDS ANTILLES',\n",
       "       'NORTHERN MARIANA ISLANDS', 'IRAN / IRAQ', 'SIERRA LEONE',\n",
       "       ' PHILIPPINES', 'CENTRAL PACIFIC', 'INDIAN OCEAN',\n",
       "       'SOLOMON ISLANDS / VANUATU', 'SOUTHWEST PACIFIC OCEAN',\n",
       "       'BAY OF BENGAL', 'MID-PACIFC OCEAN', 'CURACAO', 'ICELAND',\n",
       "       'ITALY / CROATIA', 'NICARAGUA', 'MONACO', 'GUYANA', 'BARBADOS',\n",
       "       'HAITI', 'SAN DOMINGO', 'IRELAND', 'KUWAIT', 'LIBYA', 'YEMEN ',\n",
       "       'REUNION ISLAND', 'FALKLAND ISLANDS', 'CRETE', 'CYPRUS', 'EGYPT ',\n",
       "       'WEST INDIES', 'BURMA', 'LEBANON', 'BRITISH NEW GUINEA', 'CEYLON',\n",
       "       'OCEAN', 'GEORGIA', 'SYRIA', 'INDIAN OCEAN?', 'GUINEA',\n",
       "       'ANDAMAN ISLANDS', 'EQUATORIAL GUINEA / CAMEROON', 'COOK ISLANDS',\n",
       "       'TOBAGO', 'PERU', 'AFRICA', 'ALGERIA', 'Coast of AFRICA',\n",
       "       'TASMAN SEA', 'GHANA', 'MEDITERRANEAN SEA', 'ROATAN',\n",
       "       'Between PORTUGAL & INDIA'], dtype=object)"
      ]
     },
     "execution_count": 116,
     "metadata": {},
     "output_type": "execute_result"
    }
   ],
   "source": [
    "df.Country.unique()\n"
   ]
  },
  {
   "cell_type": "markdown",
   "id": "e9f9c282",
   "metadata": {},
   "source": [
    "Al analizar los valores en esta columna, se aprecia una amplia variedad de errores que abarcan desde entradas que no corresponden a países hasta errores de escritura o la presencia de caracteres como signos de interrogación. En resumen, la columna carece de uniformidad en sus datos.\n",
    "\n",
    "Dada esta variedad de errores, la única solución que que he identificado para abordarlos es hacerlo en cada caso de manera individual y aplicar las correcciones pertinentes según el error.\n",
    "\n",
    "Por otro lado, habrá algunos valores que simplmente eliminaré de forma inmediata (especialmente aquellos que no corresponden a ningún país del mundo). Cabe destacar que estos casos no superan un total de cuatro."
   ]
  },
  {
   "cell_type": "code",
   "execution_count": 117,
   "id": "21f4d5c0",
   "metadata": {},
   "outputs": [],
   "source": [
    "df = df.replace([\"ENGLAND\",\"ST HELENA, British overseas territory\"], \"UNITED KINGDOM\")\n",
    "df = df.replace([\"ST HELENA, British overseas territory\"], \"ST. HELENA, BRITISH OVERSEAS TERRITORY\")\n",
    "df = df.replace([\"Fiji\"], \"FIJI\")\n",
    "df = df.replace([\"GUAM\",\"\"], \"USA\")\n",
    "df = df.replace([\"NEVIS\"], \"ST. KITTS AND NEVIS\")\n",
    "df = df.replace([\"Sierra Leone\"], \"SIERRA LEONE\")\n",
    "df = df.replace([\"ST. MAARTIN\"], \"ST. MARTIN\")\n",
    "df = df.replace([\"SUDAN?\"], \"SUDAN\")\n",
    "df = df.replace([\"REUNION\"], \"REUNION ISLAND\")\n",
    "df = df.replace([\"INDIAN OCEAN?\"], \"INDIAN OCEAN\")\n",
    "df = df.replace([\"INDIAN OCEAN?\"], \"INDIAN OCEAN\")\n",
    "df = df.replace([\"Coast of AFRICA?\"], \"COAST OF AFRICA\")\n",
    "df = df.replace([\"Between PORTUGAL & INDIA\"], \" PORTUGAL / INDIA\")\n",
    "df = df.replace([\"RED SEA?\"], \"RED SEA\")\n",
    "df = df.replace([\"ASIA?\"], \"ASIA\")\n",
    "df = df.replace([\"CEYLON (SRI LANKA)\"], \"SRI LANKA\")\n",
    "df = df.replace([\"ANTARTICA\"], \"ANTARTIC CIRCLE\")\n",
    "df = df.replace([\"PUERTO RICO\"], \"USA\")\n",
    "df = df.replace([\"MACAU\", \"HONG KONG\"], \"CHINA\")\n",
    "df = df.replace([\"FRENCH POLYNESIA\", \"NEW CALEDONIA\"], \"FRANCE (OVERSEAS COLLECTIVITY)\")\n",
    "df = df.replace([\"WESTERN SAHARA\"], \"NORTH AFRICA\")\n",
    "df = df.replace([\"GREENLAND\"], \"KINGDOM OF DENMARK\")\n",
    "df = df.replace([\"ARUBA\"], \"KINGDOM OF THE NETHERLANDS\")\n",
    "df = df.replace([\"DIEGO GARCIA\"], \"INDIAN OCEAN\")\n",
    "df = df.replace([\"GREECE/ITALY\"], \"GREECE / ITALY\")\n",
    "df = df.replace([\"Seychelles\"], \"SEYCHELLES\")\n",
    "df = df.replace([\" TONGA\"], \"TONGA\")\n",
    "df = df.replace([\" PORTUGAL / INDIA\"], \"PORTUGAL / INDIA\")\n",
    "df = df.replace([\"  PHILIPPINES\"], \"PHILIPPINES\")\n",
    "df = df.replace([\"AMERICAN SAMOA\"], \"USA\")\n",
    "df = df.replace([\"COLUMBIA\"], \"USA\")\n"
   ]
  },
  {
   "cell_type": "code",
   "execution_count": 118,
   "id": "1e4c65e3",
   "metadata": {},
   "outputs": [],
   "source": [
    "countries_eliminar = [\"ASIA\", \"OCEAN\", \"Coast of AFRICA\", \"AFRICA\"] "
   ]
  },
  {
   "cell_type": "code",
   "execution_count": 119,
   "id": "cdaa1893",
   "metadata": {},
   "outputs": [
    {
     "data": {
      "text/plain": [
       "Int64Index([5748, 6049, 6059], dtype='int64')"
      ]
     },
     "execution_count": 119,
     "metadata": {},
     "output_type": "execute_result"
    }
   ],
   "source": [
    "df[\"Country\"].isin(countries_eliminar)\n",
    "indices_countries_eliminar = df[df[\"Country\"].isin(countries_eliminar)].index\n",
    "indices_countries_eliminar"
   ]
  },
  {
   "cell_type": "code",
   "execution_count": 120,
   "id": "b7df38a6",
   "metadata": {},
   "outputs": [],
   "source": [
    "df.drop(indices_countries_eliminar, axis=0, inplace=True)"
   ]
  },
  {
   "cell_type": "code",
   "execution_count": 121,
   "id": "ab97cf41",
   "metadata": {},
   "outputs": [
    {
     "data": {
      "text/plain": [
       "array(['USA', 'AUSTRALIA', 'MEXICO', 'BRAZIL', 'UNITED KINGDOM',\n",
       "       'SOUTH AFRICA', 'THAILAND', 'COSTA RICA', 'MALDIVES', 'BAHAMAS',\n",
       "       'ECUADOR', 'FRANCE (OVERSEAS COLLECTIVITY)', 'MALAYSIA', 'CUBA',\n",
       "       'MAURITIUS', 'NEW ZEALAND', 'SPAIN', 'SAMOA', 'SOLOMON ISLANDS',\n",
       "       'JAPAN', 'EGYPT', 'REUNION ISLAND', 'UNITED ARAB EMIRATES',\n",
       "       'PHILIPPINES', 'INDONESIA', 'CHINA', 'CAPE VERDE', 'FIJI',\n",
       "       'DOMINICAN REPUBLIC', 'CAYMAN ISLANDS',\n",
       "       'KINGDOM OF THE NETHERLANDS', 'MOZAMBIQUE', 'ITALY', 'ST. MARTIN',\n",
       "       'FRANCE', 'PAPUA NEW GUINEA', 'TRINIDAD & TOBAGO', 'KIRIBATI',\n",
       "       'ISRAEL', 'INDIAN OCEAN', 'TAIWAN', 'JAMAICA',\n",
       "       'PALESTINIAN TERRITORIES', 'SEYCHELLES', 'BELIZE', 'NIGERIA',\n",
       "       'TONGA', 'SCOTLAND', 'CANADA', 'SAUDI ARABIA', 'CHILE', 'ANTIGUA',\n",
       "       'KENYA', 'RUSSIA', 'TURKS & CAICOS', 'UNITED ARAB EMIRATES (UAE)',\n",
       "       'AZORES', 'SOUTH KOREA', 'MALTA', 'VIETNAM', 'MADAGASCAR',\n",
       "       'PANAMA', 'SOMALIA', 'ST. KITTS AND NEVIS', 'CROATIA',\n",
       "       'BRITISH VIRGIN ISLANDS', 'NORWAY', 'SIERRA LEONE',\n",
       "       'ATLANTIC OCEAN', 'GRAND CAYMAN', 'LIBERIA', 'VANUATU', 'MEXICO ',\n",
       "       'HONDURAS', 'VENEZUELA', 'SRI LANKA', 'URUGUAY', 'INDIA',\n",
       "       'MICRONESIA', 'OKINAWA', 'TANZANIA', 'MARSHALL ISLANDS', 'SENEGAL',\n",
       "       'EGYPT / ISRAEL', 'NORTHERN ARABIAN SEA', 'EL SALVADOR',\n",
       "       'CARIBBEAN SEA', 'ANGOLA', 'BERMUDA', 'MONTENEGRO', 'IRAN',\n",
       "       'GREECE', 'TUNISIA', 'NAMIBIA', 'NORTH ATLANTIC OCEAN', 'PORTUGAL',\n",
       "       'SOUTH CHINA SEA', 'PALAU', 'WESTERN SAMOA', 'PACIFIC OCEAN ',\n",
       "       'BRITISH ISLES', 'GRENADA', 'IRAQ', 'TURKEY', 'SINGAPORE',\n",
       "       'NEW BRITAIN', 'SUDAN', 'JOHNSTON ISLAND', 'SOUTH PACIFIC OCEAN',\n",
       "       'NEW GUINEA', 'RED SEA', 'NORTH PACIFIC OCEAN',\n",
       "       'FEDERATED STATES OF MICRONESIA', 'MID ATLANTIC OCEAN',\n",
       "       'ADMIRALTY ISLANDS', 'BRITISH WEST INDIES', 'SOUTH ATLANTIC OCEAN',\n",
       "       'PERSIAN GULF', 'RED SEA / INDIAN OCEAN', 'PACIFIC OCEAN',\n",
       "       'NORTH SEA', 'NICARAGUA ', 'MALDIVE ISLANDS',\n",
       "       'ANDAMAN / NICOBAR ISLANDAS', 'GABON', 'MAYOTTE',\n",
       "       'NORTH ATLANTIC OCEAN ', 'YEMEN', 'THE BALKANS', 'ARGENTINA',\n",
       "       'MARTINIQUE', 'GUATEMALA', 'NETHERLANDS ANTILLES',\n",
       "       'NORTHERN MARIANA ISLANDS', 'IRAN / IRAQ', ' PHILIPPINES',\n",
       "       'CENTRAL PACIFIC', 'SOLOMON ISLANDS / VANUATU',\n",
       "       'SOUTHWEST PACIFIC OCEAN', 'BAY OF BENGAL', 'MID-PACIFC OCEAN',\n",
       "       'CURACAO', 'ICELAND', 'ITALY / CROATIA', 'NICARAGUA', 'MONACO',\n",
       "       'GUYANA', 'BARBADOS', 'HAITI', 'SAN DOMINGO', 'IRELAND', 'KUWAIT',\n",
       "       'LIBYA', 'YEMEN ', 'FALKLAND ISLANDS', 'CRETE', 'CYPRUS', 'EGYPT ',\n",
       "       'WEST INDIES', 'BURMA', 'LEBANON', 'BRITISH NEW GUINEA', 'CEYLON',\n",
       "       'GEORGIA', 'SYRIA', 'GUINEA', 'ANDAMAN ISLANDS',\n",
       "       'EQUATORIAL GUINEA / CAMEROON', 'COOK ISLANDS', 'TOBAGO', 'PERU',\n",
       "       'ALGERIA', 'TASMAN SEA', 'GHANA', 'MEDITERRANEAN SEA', 'ROATAN',\n",
       "       'PORTUGAL / INDIA'], dtype=object)"
      ]
     },
     "execution_count": 121,
     "metadata": {},
     "output_type": "execute_result"
    }
   ],
   "source": [
    "df.Country.unique()"
   ]
  },
  {
   "cell_type": "code",
   "execution_count": 122,
   "id": "44435bc0",
   "metadata": {},
   "outputs": [],
   "source": [
    "#df[\"Country\"].value_counts()[100:150]"
   ]
  },
  {
   "cell_type": "markdown",
   "id": "8ef38d3d",
   "metadata": {},
   "source": [
    "Me veo ahora en la necesidad de modificar el nombre de la columna, ya que entre los valores permitidos se encuentran algunos que corresponden a mares y océanos. Por lo tanto, la columna será renombrada como \"Country, ocean or sea\"."
   ]
  },
  {
   "cell_type": "code",
   "execution_count": 123,
   "id": "42a431c6",
   "metadata": {},
   "outputs": [],
   "source": [
    "df = df.rename(columns={\"Country\": \"Country, ocean or sea\"})"
   ]
  },
  {
   "cell_type": "code",
   "execution_count": 124,
   "id": "ee58153b",
   "metadata": {},
   "outputs": [
    {
     "data": {
      "text/html": [
       "<div>\n",
       "<style scoped>\n",
       "    .dataframe tbody tr th:only-of-type {\n",
       "        vertical-align: middle;\n",
       "    }\n",
       "\n",
       "    .dataframe tbody tr th {\n",
       "        vertical-align: top;\n",
       "    }\n",
       "\n",
       "    .dataframe thead th {\n",
       "        text-align: right;\n",
       "    }\n",
       "</style>\n",
       "<table border=\"1\" class=\"dataframe\">\n",
       "  <thead>\n",
       "    <tr style=\"text-align: right;\">\n",
       "      <th></th>\n",
       "      <th>Case Number</th>\n",
       "      <th>Date</th>\n",
       "      <th>Year</th>\n",
       "      <th>Type</th>\n",
       "      <th>Country, ocean or sea</th>\n",
       "      <th>Area</th>\n",
       "      <th>Activity</th>\n",
       "      <th>Name</th>\n",
       "      <th>Sex</th>\n",
       "      <th>Age</th>\n",
       "      <th>Injury</th>\n",
       "      <th>Fatal (Y/N)</th>\n",
       "      <th>Species</th>\n",
       "      <th>Investigator or Source</th>\n",
       "      <th>pdf</th>\n",
       "      <th>href formula</th>\n",
       "      <th>href</th>\n",
       "      <th>Case Number.1</th>\n",
       "      <th>Case Number.2</th>\n",
       "      <th>original order</th>\n",
       "      <th>Age2</th>\n",
       "    </tr>\n",
       "  </thead>\n",
       "  <tbody>\n",
       "    <tr>\n",
       "      <th>0</th>\n",
       "      <td>2018.06.25</td>\n",
       "      <td>25-Jun-2018</td>\n",
       "      <td>2018</td>\n",
       "      <td>Boating</td>\n",
       "      <td>USA</td>\n",
       "      <td>California</td>\n",
       "      <td>Paddling</td>\n",
       "      <td>Julie Wolfe</td>\n",
       "      <td>F</td>\n",
       "      <td>57</td>\n",
       "      <td>No injury to occupant, outrigger canoe and pad...</td>\n",
       "      <td>N</td>\n",
       "      <td>White shark</td>\n",
       "      <td>R. Collier, GSAF</td>\n",
       "      <td>2018.06.25-Wolfe.pdf</td>\n",
       "      <td>http://sharkattackfile.net/spreadsheets/pdf_di...</td>\n",
       "      <td>http://sharkattackfile.net/spreadsheets/pdf_di...</td>\n",
       "      <td>2018.06.25</td>\n",
       "      <td>2018.06.25</td>\n",
       "      <td>6303.0</td>\n",
       "      <td>57.00</td>\n",
       "    </tr>\n",
       "    <tr>\n",
       "      <th>1</th>\n",
       "      <td>2018.06.18</td>\n",
       "      <td>18-Jun-2018</td>\n",
       "      <td>2018</td>\n",
       "      <td>Unprovoked</td>\n",
       "      <td>USA</td>\n",
       "      <td>Georgia</td>\n",
       "      <td>Standing</td>\n",
       "      <td>Adyson McNeely</td>\n",
       "      <td>F</td>\n",
       "      <td>11</td>\n",
       "      <td>Minor injury to left thigh</td>\n",
       "      <td>N</td>\n",
       "      <td>Shark</td>\n",
       "      <td>K.McMurray, TrackingSharks.com</td>\n",
       "      <td>2018.06.18-McNeely.pdf</td>\n",
       "      <td>http://sharkattackfile.net/spreadsheets/pdf_di...</td>\n",
       "      <td>http://sharkattackfile.net/spreadsheets/pdf_di...</td>\n",
       "      <td>2018.06.18</td>\n",
       "      <td>2018.06.18</td>\n",
       "      <td>6302.0</td>\n",
       "      <td>11.00</td>\n",
       "    </tr>\n",
       "    <tr>\n",
       "      <th>2</th>\n",
       "      <td>2018.06.09</td>\n",
       "      <td>09-Jun-2018</td>\n",
       "      <td>2018</td>\n",
       "      <td>Invalid</td>\n",
       "      <td>USA</td>\n",
       "      <td>Hawaii</td>\n",
       "      <td>Surfing</td>\n",
       "      <td>John Denges</td>\n",
       "      <td>M</td>\n",
       "      <td>48</td>\n",
       "      <td>Injury to left lower leg from surfboard skeg</td>\n",
       "      <td>N</td>\n",
       "      <td>Shark</td>\n",
       "      <td>K.McMurray, TrackingSharks.com</td>\n",
       "      <td>2018.06.09-Denges.pdf</td>\n",
       "      <td>http://sharkattackfile.net/spreadsheets/pdf_di...</td>\n",
       "      <td>http://sharkattackfile.net/spreadsheets/pdf_di...</td>\n",
       "      <td>2018.06.09</td>\n",
       "      <td>2018.06.09</td>\n",
       "      <td>6301.0</td>\n",
       "      <td>48.00</td>\n",
       "    </tr>\n",
       "    <tr>\n",
       "      <th>3</th>\n",
       "      <td>2018.06.08</td>\n",
       "      <td>08-Jun-2018</td>\n",
       "      <td>2018</td>\n",
       "      <td>Unprovoked</td>\n",
       "      <td>AUSTRALIA</td>\n",
       "      <td>New South Wales</td>\n",
       "      <td>Surfing</td>\n",
       "      <td>male</td>\n",
       "      <td>M</td>\n",
       "      <td>0</td>\n",
       "      <td>Minor injury to lower leg</td>\n",
       "      <td>N</td>\n",
       "      <td>2 m shark</td>\n",
       "      <td>B. Myatt, GSAF</td>\n",
       "      <td>2018.06.08-Arrawarra.pdf</td>\n",
       "      <td>http://sharkattackfile.net/spreadsheets/pdf_di...</td>\n",
       "      <td>http://sharkattackfile.net/spreadsheets/pdf_di...</td>\n",
       "      <td>2018.06.08</td>\n",
       "      <td>2018.06.08</td>\n",
       "      <td>6300.0</td>\n",
       "      <td>27.39</td>\n",
       "    </tr>\n",
       "    <tr>\n",
       "      <th>4</th>\n",
       "      <td>2018.06.04</td>\n",
       "      <td>04-Jun-2018</td>\n",
       "      <td>2018</td>\n",
       "      <td>Provoked</td>\n",
       "      <td>MEXICO</td>\n",
       "      <td>Colima</td>\n",
       "      <td>Free diving</td>\n",
       "      <td>Gustavo Ramos</td>\n",
       "      <td>M</td>\n",
       "      <td>0</td>\n",
       "      <td>Lacerations to leg &amp; hand shark PROVOKED INCIDENT</td>\n",
       "      <td>N</td>\n",
       "      <td>Tiger shark, 3m</td>\n",
       "      <td>A .Kipper</td>\n",
       "      <td>2018.06.04-Ramos.pdf</td>\n",
       "      <td>http://sharkattackfile.net/spreadsheets/pdf_di...</td>\n",
       "      <td>http://sharkattackfile.net/spreadsheets/pdf_di...</td>\n",
       "      <td>2018.06.04</td>\n",
       "      <td>2018.06.04</td>\n",
       "      <td>6299.0</td>\n",
       "      <td>27.39</td>\n",
       "    </tr>\n",
       "  </tbody>\n",
       "</table>\n",
       "</div>"
      ],
      "text/plain": [
       "  Case Number         Date  Year        Type Country, ocean or sea  \\\n",
       "0  2018.06.25  25-Jun-2018  2018     Boating                   USA   \n",
       "1  2018.06.18  18-Jun-2018  2018  Unprovoked                   USA   \n",
       "2  2018.06.09  09-Jun-2018  2018     Invalid                   USA   \n",
       "3  2018.06.08  08-Jun-2018  2018  Unprovoked             AUSTRALIA   \n",
       "4  2018.06.04  04-Jun-2018  2018    Provoked                MEXICO   \n",
       "\n",
       "              Area     Activity             Name Sex  Age  \\\n",
       "0       California     Paddling      Julie Wolfe    F  57   \n",
       "1          Georgia     Standing  Adyson McNeely     F  11   \n",
       "2           Hawaii      Surfing      John Denges    M  48   \n",
       "3  New South Wales      Surfing             male    M   0   \n",
       "4           Colima  Free diving   Gustavo Ramos     M   0   \n",
       "\n",
       "                                              Injury Fatal (Y/N)  \\\n",
       "0  No injury to occupant, outrigger canoe and pad...           N   \n",
       "1                         Minor injury to left thigh           N   \n",
       "2       Injury to left lower leg from surfboard skeg           N   \n",
       "3                          Minor injury to lower leg           N   \n",
       "4  Lacerations to leg & hand shark PROVOKED INCIDENT           N   \n",
       "\n",
       "          Species           Investigator or Source                       pdf  \\\n",
       "0      White shark                R. Collier, GSAF      2018.06.25-Wolfe.pdf   \n",
       "1            Shark  K.McMurray, TrackingSharks.com    2018.06.18-McNeely.pdf   \n",
       "2            Shark  K.McMurray, TrackingSharks.com     2018.06.09-Denges.pdf   \n",
       "3        2 m shark                  B. Myatt, GSAF  2018.06.08-Arrawarra.pdf   \n",
       "4  Tiger shark, 3m                       A .Kipper      2018.06.04-Ramos.pdf   \n",
       "\n",
       "                                        href formula  \\\n",
       "0  http://sharkattackfile.net/spreadsheets/pdf_di...   \n",
       "1  http://sharkattackfile.net/spreadsheets/pdf_di...   \n",
       "2  http://sharkattackfile.net/spreadsheets/pdf_di...   \n",
       "3  http://sharkattackfile.net/spreadsheets/pdf_di...   \n",
       "4  http://sharkattackfile.net/spreadsheets/pdf_di...   \n",
       "\n",
       "                                                href Case Number.1  \\\n",
       "0  http://sharkattackfile.net/spreadsheets/pdf_di...    2018.06.25   \n",
       "1  http://sharkattackfile.net/spreadsheets/pdf_di...    2018.06.18   \n",
       "2  http://sharkattackfile.net/spreadsheets/pdf_di...    2018.06.09   \n",
       "3  http://sharkattackfile.net/spreadsheets/pdf_di...    2018.06.08   \n",
       "4  http://sharkattackfile.net/spreadsheets/pdf_di...    2018.06.04   \n",
       "\n",
       "  Case Number.2  original order   Age2  \n",
       "0    2018.06.25          6303.0  57.00  \n",
       "1    2018.06.18          6302.0  11.00  \n",
       "2    2018.06.09          6301.0  48.00  \n",
       "3    2018.06.08          6300.0  27.39  \n",
       "4    2018.06.04          6299.0  27.39  "
      ]
     },
     "execution_count": 124,
     "metadata": {},
     "output_type": "execute_result"
    }
   ],
   "source": [
    "df.head()"
   ]
  },
  {
   "cell_type": "markdown",
   "id": "840bbca6",
   "metadata": {},
   "source": [
    "# 5.5 Columna \"Activity\"."
   ]
  },
  {
   "cell_type": "markdown",
   "id": "e3e6742f",
   "metadata": {},
   "source": [
    "Para llevar a cabo la limpieza de esta columna, he decidido implementar un enfoque genérico. Consiste en desarrollar una función que contenga condicionales específicos para cada una de las actividades que voy a aceptar en la columna. \n",
    "\n",
    "De esta manera, todas las celdas que cumplan con un número predefinido de caracteres serán asignadas a una actividad particular, mientras que otro conjunto de caracteres se asociará con una actividad diferente. \n",
    "\n",
    "Esto me permitirá categorizar la columna en un número reducido de actividades distintas, evitando las strings que había al comienzo y que carecen de valor o significado sustantivo."
   ]
  },
  {
   "cell_type": "code",
   "execution_count": 125,
   "id": "f542ec01",
   "metadata": {},
   "outputs": [],
   "source": [
    "np.set_printoptions(threshold=np.inf)"
   ]
  },
  {
   "cell_type": "code",
   "execution_count": 126,
   "id": "30504cb0",
   "metadata": {},
   "outputs": [],
   "source": [
    "pd.set_option(\"display.max_columns\", None)"
   ]
  },
  {
   "cell_type": "code",
   "execution_count": 127,
   "id": "64d1eaad",
   "metadata": {},
   "outputs": [
    {
     "data": {
      "text/plain": [
       "Surfing         937\n",
       "Swimming        827\n",
       "Unknown         362\n",
       "Fishing         328\n",
       "Spearfishing    315\n",
       "Name: Activity, dtype: int64"
      ]
     },
     "execution_count": 127,
     "metadata": {},
     "output_type": "execute_result"
    }
   ],
   "source": [
    "df.Activity.value_counts().head()"
   ]
  },
  {
   "cell_type": "code",
   "execution_count": 128,
   "id": "11dbeea5",
   "metadata": {},
   "outputs": [],
   "source": [
    "def limpiar_activity(x):\n",
    "    \n",
    "    if 'shing' in x:\n",
    "        return 'Fishing'\n",
    "    elif 'urf' in x:\n",
    "        return 'Surfing'\n",
    "    elif 'wim' in x:\n",
    "        return 'Swimming'\n",
    "    elif 'thin' in x:\n",
    "        return 'Bathing'\n",
    "    elif 'adin' in x:\n",
    "        return 'Wading'\n",
    "    elif 'ivin' in x:\n",
    "        return 'Diving'\n",
    "    elif 'tand' in x:\n",
    "        return 'Standing'\n",
    "    elif 'nork' in x:\n",
    "        return 'Snorkeling'\n",
    "    elif 'ody div' in x:\n",
    "        return 'Scuba diving'\n",
    "    elif 'ody board' in x:\n",
    "        return 'Body boarding'\n",
    "    elif 'ayak' in x:\n",
    "        return 'Kayaking'\n",
    "    else:\n",
    "        return 'Unknown'\n",
    "    "
   ]
  },
  {
   "cell_type": "code",
   "execution_count": 129,
   "id": "12b2eddb",
   "metadata": {},
   "outputs": [],
   "source": [
    "df.Activity = df.Activity.apply(limpiar_activity)"
   ]
  },
  {
   "cell_type": "code",
   "execution_count": 130,
   "id": "5fe58c28",
   "metadata": {},
   "outputs": [
    {
     "data": {
      "text/plain": [
       "Surfing          1186\n",
       "Unknown          1178\n",
       "Swimming         1040\n",
       "Fishing          1004\n",
       "Diving            454\n",
       "Wading            198\n",
       "Bathing           173\n",
       "Standing          133\n",
       "Snorkeling         90\n",
       "Body boarding      62\n",
       "Kayaking           35\n",
       "Name: Activity, dtype: int64"
      ]
     },
     "execution_count": 130,
     "metadata": {},
     "output_type": "execute_result"
    }
   ],
   "source": [
    "df.Activity.value_counts()"
   ]
  },
  {
   "cell_type": "markdown",
   "id": "ffc7033f",
   "metadata": {},
   "source": [
    "# 5.6 Columna \"Name\"."
   ]
  },
  {
   "cell_type": "code",
   "execution_count": 131,
   "id": "291a036f",
   "metadata": {},
   "outputs": [
    {
     "data": {
      "text/plain": [
       "male                502\n",
       "female               95\n",
       "Unknown              62\n",
       "boy                  20\n",
       "2 males              15\n",
       "                   ... \n",
       "Danny Thorpe          1\n",
       "George Lyons          1\n",
       "Chris Hogan           1\n",
       "Daniel MacDonald      1\n",
       "Indian slave          1\n",
       "Name: Name, Length: 4748, dtype: int64"
      ]
     },
     "execution_count": 131,
     "metadata": {},
     "output_type": "execute_result"
    }
   ],
   "source": [
    "df[\"Name\"].value_counts()"
   ]
  },
  {
   "cell_type": "markdown",
   "id": "b75e7ac7",
   "metadata": {},
   "source": [
    "En esta columna, he seguido el mismo procedimiento aplicado en las anteriores, que consiste en examinar los valores únicos de la columna y determinar cual tiene sentido dejar y cual no. Aquellos valores que carezcan de un significado claro en el contexto que estamos examinando, serán eliminados o reemplazados por otro valor.\n",
    "\n",
    "En este caso, se observa que la columna que estamos analizando debe contener exclusivamente nombres de personas, excluyendo otros valores como \"male\" o \"female\", que son nombres comunes (diferenciandose de forma categórica de los nombres comunes). Por lo tanto, mi intención es la de eliminar de manera individual estos valores."
   ]
  },
  {
   "cell_type": "code",
   "execution_count": 132,
   "id": "b0b0ed18",
   "metadata": {},
   "outputs": [],
   "source": [
    "df['Name'] = df['Name'].replace(['male', 'female', \"boy\", \"2 males\", \"boat\", \"child\", \"Anonymous\", \"sailor\", \"males\", \"a sailor\", \"girl\", \"Unidentified\", \"a pearl diver\", \"fisherman\", \"a native\", \"a soldier\", \"Arab boy\", \"2 fishermen\", \"black male\", \" male\", \"Zulu male\", \"native boy\", \"aboriginal male\", \"Japanese diver\", \"unknown\", \"Russian male\", \"2 women\", \"M.C.\", \"woman\", \"dinghy\", \"soldier\", \"teen\", \"Japanese fisherman\", \"a native fisherman\", \"a school teacher\", \"Fijian girl\", \"Indian male\", \"a pilot\", \"3 males\", \"12' dinghy\", \"a local dignitary\", \"American male\", \"Indian female\", \"2 men\", \"fishermen native\", \" 2 males\", \"a youth\", \"crew\", \"soldier\"], \"Unknown\")"
   ]
  },
  {
   "cell_type": "markdown",
   "id": "264bc9b6",
   "metadata": {},
   "source": [
    "Llegados a este punto, puede observarse que aún sigue habiendo valores que no tienen cabida en esta columna y que deberían ser reemplazados por la etiqueta \"Unknown\". Sin embargo, por el momento, lo dejaré así para pasar al siguiente punto."
   ]
  },
  {
   "cell_type": "code",
   "execution_count": 133,
   "id": "944dd962",
   "metadata": {},
   "outputs": [
    {
     "data": {
      "text/plain": [
       "Unknown          809\n",
       "Andre Hartman      3\n",
       "John Williams      3\n",
       "Davies             2\n",
       "Ali                2\n",
       "Name: Name, dtype: int64"
      ]
     },
     "execution_count": 133,
     "metadata": {},
     "output_type": "execute_result"
    }
   ],
   "source": [
    "df[\"Name\"].value_counts().head()"
   ]
  },
  {
   "cell_type": "code",
   "execution_count": 134,
   "id": "461bd255",
   "metadata": {},
   "outputs": [
    {
     "data": {
      "text/plain": [
       "4706"
      ]
     },
     "execution_count": 134,
     "metadata": {},
     "output_type": "execute_result"
    }
   ],
   "source": [
    "df[\"Name\"].nunique()\n"
   ]
  },
  {
   "cell_type": "code",
   "execution_count": 135,
   "id": "b9f11c69",
   "metadata": {},
   "outputs": [
    {
     "data": {
      "text/html": [
       "<div>\n",
       "<style scoped>\n",
       "    .dataframe tbody tr th:only-of-type {\n",
       "        vertical-align: middle;\n",
       "    }\n",
       "\n",
       "    .dataframe tbody tr th {\n",
       "        vertical-align: top;\n",
       "    }\n",
       "\n",
       "    .dataframe thead th {\n",
       "        text-align: right;\n",
       "    }\n",
       "</style>\n",
       "<table border=\"1\" class=\"dataframe\">\n",
       "  <thead>\n",
       "    <tr style=\"text-align: right;\">\n",
       "      <th></th>\n",
       "      <th>Case Number</th>\n",
       "      <th>Date</th>\n",
       "      <th>Year</th>\n",
       "      <th>Type</th>\n",
       "      <th>Country, ocean or sea</th>\n",
       "      <th>Area</th>\n",
       "      <th>Activity</th>\n",
       "      <th>Name</th>\n",
       "      <th>Sex</th>\n",
       "      <th>Age</th>\n",
       "      <th>Injury</th>\n",
       "      <th>Fatal (Y/N)</th>\n",
       "      <th>Species</th>\n",
       "      <th>Investigator or Source</th>\n",
       "      <th>pdf</th>\n",
       "      <th>href formula</th>\n",
       "      <th>href</th>\n",
       "      <th>Case Number.1</th>\n",
       "      <th>Case Number.2</th>\n",
       "      <th>original order</th>\n",
       "      <th>Age2</th>\n",
       "    </tr>\n",
       "  </thead>\n",
       "  <tbody>\n",
       "    <tr>\n",
       "      <th>0</th>\n",
       "      <td>2018.06.25</td>\n",
       "      <td>25-Jun-2018</td>\n",
       "      <td>2018</td>\n",
       "      <td>Boating</td>\n",
       "      <td>USA</td>\n",
       "      <td>California</td>\n",
       "      <td>Unknown</td>\n",
       "      <td>Julie Wolfe</td>\n",
       "      <td>F</td>\n",
       "      <td>57</td>\n",
       "      <td>No injury to occupant, outrigger canoe and pad...</td>\n",
       "      <td>N</td>\n",
       "      <td>White shark</td>\n",
       "      <td>R. Collier, GSAF</td>\n",
       "      <td>2018.06.25-Wolfe.pdf</td>\n",
       "      <td>http://sharkattackfile.net/spreadsheets/pdf_di...</td>\n",
       "      <td>http://sharkattackfile.net/spreadsheets/pdf_di...</td>\n",
       "      <td>2018.06.25</td>\n",
       "      <td>2018.06.25</td>\n",
       "      <td>6303.0</td>\n",
       "      <td>57.00</td>\n",
       "    </tr>\n",
       "    <tr>\n",
       "      <th>1</th>\n",
       "      <td>2018.06.18</td>\n",
       "      <td>18-Jun-2018</td>\n",
       "      <td>2018</td>\n",
       "      <td>Unprovoked</td>\n",
       "      <td>USA</td>\n",
       "      <td>Georgia</td>\n",
       "      <td>Standing</td>\n",
       "      <td>Adyson McNeely</td>\n",
       "      <td>F</td>\n",
       "      <td>11</td>\n",
       "      <td>Minor injury to left thigh</td>\n",
       "      <td>N</td>\n",
       "      <td>Shark</td>\n",
       "      <td>K.McMurray, TrackingSharks.com</td>\n",
       "      <td>2018.06.18-McNeely.pdf</td>\n",
       "      <td>http://sharkattackfile.net/spreadsheets/pdf_di...</td>\n",
       "      <td>http://sharkattackfile.net/spreadsheets/pdf_di...</td>\n",
       "      <td>2018.06.18</td>\n",
       "      <td>2018.06.18</td>\n",
       "      <td>6302.0</td>\n",
       "      <td>11.00</td>\n",
       "    </tr>\n",
       "    <tr>\n",
       "      <th>2</th>\n",
       "      <td>2018.06.09</td>\n",
       "      <td>09-Jun-2018</td>\n",
       "      <td>2018</td>\n",
       "      <td>Invalid</td>\n",
       "      <td>USA</td>\n",
       "      <td>Hawaii</td>\n",
       "      <td>Surfing</td>\n",
       "      <td>John Denges</td>\n",
       "      <td>M</td>\n",
       "      <td>48</td>\n",
       "      <td>Injury to left lower leg from surfboard skeg</td>\n",
       "      <td>N</td>\n",
       "      <td>Shark</td>\n",
       "      <td>K.McMurray, TrackingSharks.com</td>\n",
       "      <td>2018.06.09-Denges.pdf</td>\n",
       "      <td>http://sharkattackfile.net/spreadsheets/pdf_di...</td>\n",
       "      <td>http://sharkattackfile.net/spreadsheets/pdf_di...</td>\n",
       "      <td>2018.06.09</td>\n",
       "      <td>2018.06.09</td>\n",
       "      <td>6301.0</td>\n",
       "      <td>48.00</td>\n",
       "    </tr>\n",
       "    <tr>\n",
       "      <th>3</th>\n",
       "      <td>2018.06.08</td>\n",
       "      <td>08-Jun-2018</td>\n",
       "      <td>2018</td>\n",
       "      <td>Unprovoked</td>\n",
       "      <td>AUSTRALIA</td>\n",
       "      <td>New South Wales</td>\n",
       "      <td>Surfing</td>\n",
       "      <td>Unknown</td>\n",
       "      <td>M</td>\n",
       "      <td>0</td>\n",
       "      <td>Minor injury to lower leg</td>\n",
       "      <td>N</td>\n",
       "      <td>2 m shark</td>\n",
       "      <td>B. Myatt, GSAF</td>\n",
       "      <td>2018.06.08-Arrawarra.pdf</td>\n",
       "      <td>http://sharkattackfile.net/spreadsheets/pdf_di...</td>\n",
       "      <td>http://sharkattackfile.net/spreadsheets/pdf_di...</td>\n",
       "      <td>2018.06.08</td>\n",
       "      <td>2018.06.08</td>\n",
       "      <td>6300.0</td>\n",
       "      <td>27.39</td>\n",
       "    </tr>\n",
       "    <tr>\n",
       "      <th>4</th>\n",
       "      <td>2018.06.04</td>\n",
       "      <td>04-Jun-2018</td>\n",
       "      <td>2018</td>\n",
       "      <td>Provoked</td>\n",
       "      <td>MEXICO</td>\n",
       "      <td>Colima</td>\n",
       "      <td>Diving</td>\n",
       "      <td>Gustavo Ramos</td>\n",
       "      <td>M</td>\n",
       "      <td>0</td>\n",
       "      <td>Lacerations to leg &amp; hand shark PROVOKED INCIDENT</td>\n",
       "      <td>N</td>\n",
       "      <td>Tiger shark, 3m</td>\n",
       "      <td>A .Kipper</td>\n",
       "      <td>2018.06.04-Ramos.pdf</td>\n",
       "      <td>http://sharkattackfile.net/spreadsheets/pdf_di...</td>\n",
       "      <td>http://sharkattackfile.net/spreadsheets/pdf_di...</td>\n",
       "      <td>2018.06.04</td>\n",
       "      <td>2018.06.04</td>\n",
       "      <td>6299.0</td>\n",
       "      <td>27.39</td>\n",
       "    </tr>\n",
       "  </tbody>\n",
       "</table>\n",
       "</div>"
      ],
      "text/plain": [
       "  Case Number         Date  Year        Type Country, ocean or sea  \\\n",
       "0  2018.06.25  25-Jun-2018  2018     Boating                   USA   \n",
       "1  2018.06.18  18-Jun-2018  2018  Unprovoked                   USA   \n",
       "2  2018.06.09  09-Jun-2018  2018     Invalid                   USA   \n",
       "3  2018.06.08  08-Jun-2018  2018  Unprovoked             AUSTRALIA   \n",
       "4  2018.06.04  04-Jun-2018  2018    Provoked                MEXICO   \n",
       "\n",
       "              Area  Activity             Name Sex  Age  \\\n",
       "0       California   Unknown      Julie Wolfe    F  57   \n",
       "1          Georgia  Standing  Adyson McNeely     F  11   \n",
       "2           Hawaii   Surfing      John Denges    M  48   \n",
       "3  New South Wales   Surfing          Unknown    M   0   \n",
       "4           Colima    Diving   Gustavo Ramos     M   0   \n",
       "\n",
       "                                              Injury Fatal (Y/N)  \\\n",
       "0  No injury to occupant, outrigger canoe and pad...           N   \n",
       "1                         Minor injury to left thigh           N   \n",
       "2       Injury to left lower leg from surfboard skeg           N   \n",
       "3                          Minor injury to lower leg           N   \n",
       "4  Lacerations to leg & hand shark PROVOKED INCIDENT           N   \n",
       "\n",
       "          Species           Investigator or Source                       pdf  \\\n",
       "0      White shark                R. Collier, GSAF      2018.06.25-Wolfe.pdf   \n",
       "1            Shark  K.McMurray, TrackingSharks.com    2018.06.18-McNeely.pdf   \n",
       "2            Shark  K.McMurray, TrackingSharks.com     2018.06.09-Denges.pdf   \n",
       "3        2 m shark                  B. Myatt, GSAF  2018.06.08-Arrawarra.pdf   \n",
       "4  Tiger shark, 3m                       A .Kipper      2018.06.04-Ramos.pdf   \n",
       "\n",
       "                                        href formula  \\\n",
       "0  http://sharkattackfile.net/spreadsheets/pdf_di...   \n",
       "1  http://sharkattackfile.net/spreadsheets/pdf_di...   \n",
       "2  http://sharkattackfile.net/spreadsheets/pdf_di...   \n",
       "3  http://sharkattackfile.net/spreadsheets/pdf_di...   \n",
       "4  http://sharkattackfile.net/spreadsheets/pdf_di...   \n",
       "\n",
       "                                                href Case Number.1  \\\n",
       "0  http://sharkattackfile.net/spreadsheets/pdf_di...    2018.06.25   \n",
       "1  http://sharkattackfile.net/spreadsheets/pdf_di...    2018.06.18   \n",
       "2  http://sharkattackfile.net/spreadsheets/pdf_di...    2018.06.09   \n",
       "3  http://sharkattackfile.net/spreadsheets/pdf_di...    2018.06.08   \n",
       "4  http://sharkattackfile.net/spreadsheets/pdf_di...    2018.06.04   \n",
       "\n",
       "  Case Number.2  original order   Age2  \n",
       "0    2018.06.25          6303.0  57.00  \n",
       "1    2018.06.18          6302.0  11.00  \n",
       "2    2018.06.09          6301.0  48.00  \n",
       "3    2018.06.08          6300.0  27.39  \n",
       "4    2018.06.04          6299.0  27.39  "
      ]
     },
     "execution_count": 135,
     "metadata": {},
     "output_type": "execute_result"
    }
   ],
   "source": [
    "df.head()"
   ]
  },
  {
   "cell_type": "markdown",
   "id": "bed48814",
   "metadata": {},
   "source": [
    "# 5.7 Columna \"Fatal (Y/N)\"."
   ]
  },
  {
   "cell_type": "code",
   "execution_count": 136,
   "id": "9c7a263d",
   "metadata": {},
   "outputs": [
    {
     "data": {
      "text/plain": [
       "N          4271\n",
       "Y          1244\n",
       "UNKNOWN      29\n",
       " N            7\n",
       "M             1\n",
       "2017          1\n",
       "Name: Fatal (Y/N), dtype: int64"
      ]
     },
     "execution_count": 136,
     "metadata": {},
     "output_type": "execute_result"
    }
   ],
   "source": [
    "df[\"Fatal (Y/N)\"].value_counts()"
   ]
  },
  {
   "cell_type": "markdown",
   "id": "f221e7e5",
   "metadata": {},
   "source": [
    "Siguiendo el mismo procedimiento aplicado en casos anteriores, he llevado a cabo un análisis de los valores únicos en la columna con el fin de discernir cuáles debían considerarse como correctos y cuáles no. \n",
    "\n",
    "Durante este proceso, se identificaron dos valores que claramente no guardaban relación con la columna, a saber, \"M\" y \"2017,\" por lo que se procedió a su eliminación. Además, se detectaron siete valores en los que la letra \"N\" presentaba un espaciado, los cuales también fueron reemplazados por este mismo valorpero sin el espaciado. Por último, se confirmó que el resto de los valores se ajustaban al propósito de la columna, que debería contener exclusivamente tres valores: \"N,\" \"Y\" y \"UNKNOWN.\"\n",
    "\n",
    "De acuerdo con lo expuesto: "
   ]
  },
  {
   "cell_type": "code",
   "execution_count": 137,
   "id": "8531f3ae",
   "metadata": {},
   "outputs": [],
   "source": [
    "df[\"Fatal (Y/N)\"] = df[\"Fatal (Y/N)\"].replace([\" N\"], \"N\")"
   ]
  },
  {
   "cell_type": "code",
   "execution_count": 138,
   "id": "f8b05ca2",
   "metadata": {},
   "outputs": [],
   "source": [
    "df[\"Fatal (Y/N)\"] = df[\"Fatal (Y/N)\"].replace([\"M\", \"2017\"], \"UNKNOWN\")"
   ]
  },
  {
   "cell_type": "code",
   "execution_count": 139,
   "id": "b5c65fca",
   "metadata": {},
   "outputs": [
    {
     "data": {
      "text/plain": [
       "N          4278\n",
       "Y          1244\n",
       "UNKNOWN      31\n",
       "Name: Fatal (Y/N), dtype: int64"
      ]
     },
     "execution_count": 139,
     "metadata": {},
     "output_type": "execute_result"
    }
   ],
   "source": [
    "df[\"Fatal (Y/N)\"].value_counts()"
   ]
  },
  {
   "cell_type": "markdown",
   "id": "81b489f8",
   "metadata": {},
   "source": [
    "# 5.8 Columna \"Species\"."
   ]
  },
  {
   "cell_type": "code",
   "execution_count": 140,
   "id": "440cf6b2",
   "metadata": {},
   "outputs": [
    {
     "data": {
      "text/html": [
       "<div>\n",
       "<style scoped>\n",
       "    .dataframe tbody tr th:only-of-type {\n",
       "        vertical-align: middle;\n",
       "    }\n",
       "\n",
       "    .dataframe tbody tr th {\n",
       "        vertical-align: top;\n",
       "    }\n",
       "\n",
       "    .dataframe thead th {\n",
       "        text-align: right;\n",
       "    }\n",
       "</style>\n",
       "<table border=\"1\" class=\"dataframe\">\n",
       "  <thead>\n",
       "    <tr style=\"text-align: right;\">\n",
       "      <th></th>\n",
       "      <th>Case Number</th>\n",
       "      <th>Date</th>\n",
       "      <th>Year</th>\n",
       "      <th>Type</th>\n",
       "      <th>Country, ocean or sea</th>\n",
       "      <th>Area</th>\n",
       "      <th>Activity</th>\n",
       "      <th>Name</th>\n",
       "      <th>Sex</th>\n",
       "      <th>Age</th>\n",
       "      <th>Injury</th>\n",
       "      <th>Fatal (Y/N)</th>\n",
       "      <th>Species</th>\n",
       "      <th>Investigator or Source</th>\n",
       "      <th>pdf</th>\n",
       "      <th>href formula</th>\n",
       "      <th>href</th>\n",
       "      <th>Case Number.1</th>\n",
       "      <th>Case Number.2</th>\n",
       "      <th>original order</th>\n",
       "      <th>Age2</th>\n",
       "    </tr>\n",
       "  </thead>\n",
       "  <tbody>\n",
       "    <tr>\n",
       "      <th>0</th>\n",
       "      <td>2018.06.25</td>\n",
       "      <td>25-Jun-2018</td>\n",
       "      <td>2018</td>\n",
       "      <td>Boating</td>\n",
       "      <td>USA</td>\n",
       "      <td>California</td>\n",
       "      <td>Unknown</td>\n",
       "      <td>Julie Wolfe</td>\n",
       "      <td>F</td>\n",
       "      <td>57</td>\n",
       "      <td>No injury to occupant, outrigger canoe and pad...</td>\n",
       "      <td>N</td>\n",
       "      <td>White shark</td>\n",
       "      <td>R. Collier, GSAF</td>\n",
       "      <td>2018.06.25-Wolfe.pdf</td>\n",
       "      <td>http://sharkattackfile.net/spreadsheets/pdf_di...</td>\n",
       "      <td>http://sharkattackfile.net/spreadsheets/pdf_di...</td>\n",
       "      <td>2018.06.25</td>\n",
       "      <td>2018.06.25</td>\n",
       "      <td>6303.0</td>\n",
       "      <td>57.00</td>\n",
       "    </tr>\n",
       "    <tr>\n",
       "      <th>1</th>\n",
       "      <td>2018.06.18</td>\n",
       "      <td>18-Jun-2018</td>\n",
       "      <td>2018</td>\n",
       "      <td>Unprovoked</td>\n",
       "      <td>USA</td>\n",
       "      <td>Georgia</td>\n",
       "      <td>Standing</td>\n",
       "      <td>Adyson McNeely</td>\n",
       "      <td>F</td>\n",
       "      <td>11</td>\n",
       "      <td>Minor injury to left thigh</td>\n",
       "      <td>N</td>\n",
       "      <td>Shark</td>\n",
       "      <td>K.McMurray, TrackingSharks.com</td>\n",
       "      <td>2018.06.18-McNeely.pdf</td>\n",
       "      <td>http://sharkattackfile.net/spreadsheets/pdf_di...</td>\n",
       "      <td>http://sharkattackfile.net/spreadsheets/pdf_di...</td>\n",
       "      <td>2018.06.18</td>\n",
       "      <td>2018.06.18</td>\n",
       "      <td>6302.0</td>\n",
       "      <td>11.00</td>\n",
       "    </tr>\n",
       "    <tr>\n",
       "      <th>2</th>\n",
       "      <td>2018.06.09</td>\n",
       "      <td>09-Jun-2018</td>\n",
       "      <td>2018</td>\n",
       "      <td>Invalid</td>\n",
       "      <td>USA</td>\n",
       "      <td>Hawaii</td>\n",
       "      <td>Surfing</td>\n",
       "      <td>John Denges</td>\n",
       "      <td>M</td>\n",
       "      <td>48</td>\n",
       "      <td>Injury to left lower leg from surfboard skeg</td>\n",
       "      <td>N</td>\n",
       "      <td>Shark</td>\n",
       "      <td>K.McMurray, TrackingSharks.com</td>\n",
       "      <td>2018.06.09-Denges.pdf</td>\n",
       "      <td>http://sharkattackfile.net/spreadsheets/pdf_di...</td>\n",
       "      <td>http://sharkattackfile.net/spreadsheets/pdf_di...</td>\n",
       "      <td>2018.06.09</td>\n",
       "      <td>2018.06.09</td>\n",
       "      <td>6301.0</td>\n",
       "      <td>48.00</td>\n",
       "    </tr>\n",
       "    <tr>\n",
       "      <th>3</th>\n",
       "      <td>2018.06.08</td>\n",
       "      <td>08-Jun-2018</td>\n",
       "      <td>2018</td>\n",
       "      <td>Unprovoked</td>\n",
       "      <td>AUSTRALIA</td>\n",
       "      <td>New South Wales</td>\n",
       "      <td>Surfing</td>\n",
       "      <td>Unknown</td>\n",
       "      <td>M</td>\n",
       "      <td>0</td>\n",
       "      <td>Minor injury to lower leg</td>\n",
       "      <td>N</td>\n",
       "      <td>2 m shark</td>\n",
       "      <td>B. Myatt, GSAF</td>\n",
       "      <td>2018.06.08-Arrawarra.pdf</td>\n",
       "      <td>http://sharkattackfile.net/spreadsheets/pdf_di...</td>\n",
       "      <td>http://sharkattackfile.net/spreadsheets/pdf_di...</td>\n",
       "      <td>2018.06.08</td>\n",
       "      <td>2018.06.08</td>\n",
       "      <td>6300.0</td>\n",
       "      <td>27.39</td>\n",
       "    </tr>\n",
       "    <tr>\n",
       "      <th>4</th>\n",
       "      <td>2018.06.04</td>\n",
       "      <td>04-Jun-2018</td>\n",
       "      <td>2018</td>\n",
       "      <td>Provoked</td>\n",
       "      <td>MEXICO</td>\n",
       "      <td>Colima</td>\n",
       "      <td>Diving</td>\n",
       "      <td>Gustavo Ramos</td>\n",
       "      <td>M</td>\n",
       "      <td>0</td>\n",
       "      <td>Lacerations to leg &amp; hand shark PROVOKED INCIDENT</td>\n",
       "      <td>N</td>\n",
       "      <td>Tiger shark, 3m</td>\n",
       "      <td>A .Kipper</td>\n",
       "      <td>2018.06.04-Ramos.pdf</td>\n",
       "      <td>http://sharkattackfile.net/spreadsheets/pdf_di...</td>\n",
       "      <td>http://sharkattackfile.net/spreadsheets/pdf_di...</td>\n",
       "      <td>2018.06.04</td>\n",
       "      <td>2018.06.04</td>\n",
       "      <td>6299.0</td>\n",
       "      <td>27.39</td>\n",
       "    </tr>\n",
       "  </tbody>\n",
       "</table>\n",
       "</div>"
      ],
      "text/plain": [
       "  Case Number         Date  Year        Type Country, ocean or sea  \\\n",
       "0  2018.06.25  25-Jun-2018  2018     Boating                   USA   \n",
       "1  2018.06.18  18-Jun-2018  2018  Unprovoked                   USA   \n",
       "2  2018.06.09  09-Jun-2018  2018     Invalid                   USA   \n",
       "3  2018.06.08  08-Jun-2018  2018  Unprovoked             AUSTRALIA   \n",
       "4  2018.06.04  04-Jun-2018  2018    Provoked                MEXICO   \n",
       "\n",
       "              Area  Activity             Name Sex  Age  \\\n",
       "0       California   Unknown      Julie Wolfe    F  57   \n",
       "1          Georgia  Standing  Adyson McNeely     F  11   \n",
       "2           Hawaii   Surfing      John Denges    M  48   \n",
       "3  New South Wales   Surfing          Unknown    M   0   \n",
       "4           Colima    Diving   Gustavo Ramos     M   0   \n",
       "\n",
       "                                              Injury Fatal (Y/N)  \\\n",
       "0  No injury to occupant, outrigger canoe and pad...           N   \n",
       "1                         Minor injury to left thigh           N   \n",
       "2       Injury to left lower leg from surfboard skeg           N   \n",
       "3                          Minor injury to lower leg           N   \n",
       "4  Lacerations to leg & hand shark PROVOKED INCIDENT           N   \n",
       "\n",
       "          Species           Investigator or Source                       pdf  \\\n",
       "0      White shark                R. Collier, GSAF      2018.06.25-Wolfe.pdf   \n",
       "1            Shark  K.McMurray, TrackingSharks.com    2018.06.18-McNeely.pdf   \n",
       "2            Shark  K.McMurray, TrackingSharks.com     2018.06.09-Denges.pdf   \n",
       "3        2 m shark                  B. Myatt, GSAF  2018.06.08-Arrawarra.pdf   \n",
       "4  Tiger shark, 3m                       A .Kipper      2018.06.04-Ramos.pdf   \n",
       "\n",
       "                                        href formula  \\\n",
       "0  http://sharkattackfile.net/spreadsheets/pdf_di...   \n",
       "1  http://sharkattackfile.net/spreadsheets/pdf_di...   \n",
       "2  http://sharkattackfile.net/spreadsheets/pdf_di...   \n",
       "3  http://sharkattackfile.net/spreadsheets/pdf_di...   \n",
       "4  http://sharkattackfile.net/spreadsheets/pdf_di...   \n",
       "\n",
       "                                                href Case Number.1  \\\n",
       "0  http://sharkattackfile.net/spreadsheets/pdf_di...    2018.06.25   \n",
       "1  http://sharkattackfile.net/spreadsheets/pdf_di...    2018.06.18   \n",
       "2  http://sharkattackfile.net/spreadsheets/pdf_di...    2018.06.09   \n",
       "3  http://sharkattackfile.net/spreadsheets/pdf_di...    2018.06.08   \n",
       "4  http://sharkattackfile.net/spreadsheets/pdf_di...    2018.06.04   \n",
       "\n",
       "  Case Number.2  original order   Age2  \n",
       "0    2018.06.25          6303.0  57.00  \n",
       "1    2018.06.18          6302.0  11.00  \n",
       "2    2018.06.09          6301.0  48.00  \n",
       "3    2018.06.08          6300.0  27.39  \n",
       "4    2018.06.04          6299.0  27.39  "
      ]
     },
     "execution_count": 140,
     "metadata": {},
     "output_type": "execute_result"
    }
   ],
   "source": [
    "df.head()"
   ]
  },
  {
   "cell_type": "code",
   "execution_count": 141,
   "id": "8c57fbc2",
   "metadata": {},
   "outputs": [
    {
     "data": {
      "text/plain": [
       "Shark                                                 2465\n",
       "White shark                                            139\n",
       "Invalid                                                 87\n",
       "Shark involvement prior to death was not confirmed      84\n",
       "Shark involvement not confirmed                         77\n",
       "Name: Species , dtype: int64"
      ]
     },
     "execution_count": 141,
     "metadata": {},
     "output_type": "execute_result"
    }
   ],
   "source": [
    "df[\"Species \"].value_counts().head()"
   ]
  },
  {
   "cell_type": "markdown",
   "id": "dcc8a912",
   "metadata": {},
   "source": [
    "En el caso de esta columna, he aplicado criterios más rigurosos para su modificación. \n",
    "\n",
    "En primer lugar, considerando que el objetivo de este DataFrame es analizar los ataques de tiburones a nivel global, he determinado que todas las filas en las que existiera incertidumbre acerca de si el ataque fue realizado por un tiburón o en caso de no disponerse de información suficiente para saberlo, debían ser eliminadas, ya que no aportarían un valor significativo a la investigación.\n",
    "\n",
    "Para llevar a cabo esta eliminación, he realizado un análisis de los diferentes valores presentes en la columna y he identificado que todas las celdas que contenían las palabras \"Not\", \"not\", \"Unconfirmed\", \"unconfirmed\", \"Questionable\", \"questionable,\" \"No\", o \"no,\" debían ser excluidas.\n",
    "\n",
    "En una segunda etapa, dado que los datos restantes se refieren exclusivamente a ataques de tiburones, he optado por simplificar la información, centrándome en la etiqueta \"Shark Involved\" para unificar todos los valores bajo esta única categoría. Este enfoque permitirá una representación más clara y coherente de los datos en el análisis subsiguiente."
   ]
  },
  {
   "cell_type": "code",
   "execution_count": 142,
   "id": "041b76e5",
   "metadata": {},
   "outputs": [],
   "source": [
    "palabras_clave = [\"Not\", \"not\", \"Unconfirmed\", \"unconfirmed\", \"Questionable\", \"questionable\" \"No\", \"no\"]"
   ]
  },
  {
   "cell_type": "code",
   "execution_count": 143,
   "id": "58d28ffe",
   "metadata": {},
   "outputs": [
    {
     "data": {
      "text/html": [
       "<div>\n",
       "<style scoped>\n",
       "    .dataframe tbody tr th:only-of-type {\n",
       "        vertical-align: middle;\n",
       "    }\n",
       "\n",
       "    .dataframe tbody tr th {\n",
       "        vertical-align: top;\n",
       "    }\n",
       "\n",
       "    .dataframe thead th {\n",
       "        text-align: right;\n",
       "    }\n",
       "</style>\n",
       "<table border=\"1\" class=\"dataframe\">\n",
       "  <thead>\n",
       "    <tr style=\"text-align: right;\">\n",
       "      <th></th>\n",
       "      <th>Case Number</th>\n",
       "      <th>Date</th>\n",
       "      <th>Year</th>\n",
       "      <th>Type</th>\n",
       "      <th>Country, ocean or sea</th>\n",
       "      <th>Area</th>\n",
       "      <th>Activity</th>\n",
       "      <th>Name</th>\n",
       "      <th>Sex</th>\n",
       "      <th>Age</th>\n",
       "      <th>Injury</th>\n",
       "      <th>Fatal (Y/N)</th>\n",
       "      <th>Species</th>\n",
       "      <th>Investigator or Source</th>\n",
       "      <th>pdf</th>\n",
       "      <th>href formula</th>\n",
       "      <th>href</th>\n",
       "      <th>Case Number.1</th>\n",
       "      <th>Case Number.2</th>\n",
       "      <th>original order</th>\n",
       "      <th>Age2</th>\n",
       "    </tr>\n",
       "  </thead>\n",
       "  <tbody>\n",
       "    <tr>\n",
       "      <th>0</th>\n",
       "      <td>2018.06.25</td>\n",
       "      <td>25-Jun-2018</td>\n",
       "      <td>2018</td>\n",
       "      <td>Boating</td>\n",
       "      <td>USA</td>\n",
       "      <td>California</td>\n",
       "      <td>Unknown</td>\n",
       "      <td>Julie Wolfe</td>\n",
       "      <td>F</td>\n",
       "      <td>57</td>\n",
       "      <td>No injury to occupant, outrigger canoe and pad...</td>\n",
       "      <td>N</td>\n",
       "      <td>White shark</td>\n",
       "      <td>R. Collier, GSAF</td>\n",
       "      <td>2018.06.25-Wolfe.pdf</td>\n",
       "      <td>http://sharkattackfile.net/spreadsheets/pdf_di...</td>\n",
       "      <td>http://sharkattackfile.net/spreadsheets/pdf_di...</td>\n",
       "      <td>2018.06.25</td>\n",
       "      <td>2018.06.25</td>\n",
       "      <td>6303.0</td>\n",
       "      <td>57.00</td>\n",
       "    </tr>\n",
       "    <tr>\n",
       "      <th>1</th>\n",
       "      <td>2018.06.18</td>\n",
       "      <td>18-Jun-2018</td>\n",
       "      <td>2018</td>\n",
       "      <td>Unprovoked</td>\n",
       "      <td>USA</td>\n",
       "      <td>Georgia</td>\n",
       "      <td>Standing</td>\n",
       "      <td>Adyson McNeely</td>\n",
       "      <td>F</td>\n",
       "      <td>11</td>\n",
       "      <td>Minor injury to left thigh</td>\n",
       "      <td>N</td>\n",
       "      <td>Shark</td>\n",
       "      <td>K.McMurray, TrackingSharks.com</td>\n",
       "      <td>2018.06.18-McNeely.pdf</td>\n",
       "      <td>http://sharkattackfile.net/spreadsheets/pdf_di...</td>\n",
       "      <td>http://sharkattackfile.net/spreadsheets/pdf_di...</td>\n",
       "      <td>2018.06.18</td>\n",
       "      <td>2018.06.18</td>\n",
       "      <td>6302.0</td>\n",
       "      <td>11.00</td>\n",
       "    </tr>\n",
       "    <tr>\n",
       "      <th>2</th>\n",
       "      <td>2018.06.09</td>\n",
       "      <td>09-Jun-2018</td>\n",
       "      <td>2018</td>\n",
       "      <td>Invalid</td>\n",
       "      <td>USA</td>\n",
       "      <td>Hawaii</td>\n",
       "      <td>Surfing</td>\n",
       "      <td>John Denges</td>\n",
       "      <td>M</td>\n",
       "      <td>48</td>\n",
       "      <td>Injury to left lower leg from surfboard skeg</td>\n",
       "      <td>N</td>\n",
       "      <td>Shark</td>\n",
       "      <td>K.McMurray, TrackingSharks.com</td>\n",
       "      <td>2018.06.09-Denges.pdf</td>\n",
       "      <td>http://sharkattackfile.net/spreadsheets/pdf_di...</td>\n",
       "      <td>http://sharkattackfile.net/spreadsheets/pdf_di...</td>\n",
       "      <td>2018.06.09</td>\n",
       "      <td>2018.06.09</td>\n",
       "      <td>6301.0</td>\n",
       "      <td>48.00</td>\n",
       "    </tr>\n",
       "    <tr>\n",
       "      <th>3</th>\n",
       "      <td>2018.06.08</td>\n",
       "      <td>08-Jun-2018</td>\n",
       "      <td>2018</td>\n",
       "      <td>Unprovoked</td>\n",
       "      <td>AUSTRALIA</td>\n",
       "      <td>New South Wales</td>\n",
       "      <td>Surfing</td>\n",
       "      <td>Unknown</td>\n",
       "      <td>M</td>\n",
       "      <td>0</td>\n",
       "      <td>Minor injury to lower leg</td>\n",
       "      <td>N</td>\n",
       "      <td>2 m shark</td>\n",
       "      <td>B. Myatt, GSAF</td>\n",
       "      <td>2018.06.08-Arrawarra.pdf</td>\n",
       "      <td>http://sharkattackfile.net/spreadsheets/pdf_di...</td>\n",
       "      <td>http://sharkattackfile.net/spreadsheets/pdf_di...</td>\n",
       "      <td>2018.06.08</td>\n",
       "      <td>2018.06.08</td>\n",
       "      <td>6300.0</td>\n",
       "      <td>27.39</td>\n",
       "    </tr>\n",
       "    <tr>\n",
       "      <th>4</th>\n",
       "      <td>2018.06.04</td>\n",
       "      <td>04-Jun-2018</td>\n",
       "      <td>2018</td>\n",
       "      <td>Provoked</td>\n",
       "      <td>MEXICO</td>\n",
       "      <td>Colima</td>\n",
       "      <td>Diving</td>\n",
       "      <td>Gustavo Ramos</td>\n",
       "      <td>M</td>\n",
       "      <td>0</td>\n",
       "      <td>Lacerations to leg &amp; hand shark PROVOKED INCIDENT</td>\n",
       "      <td>N</td>\n",
       "      <td>Tiger shark, 3m</td>\n",
       "      <td>A .Kipper</td>\n",
       "      <td>2018.06.04-Ramos.pdf</td>\n",
       "      <td>http://sharkattackfile.net/spreadsheets/pdf_di...</td>\n",
       "      <td>http://sharkattackfile.net/spreadsheets/pdf_di...</td>\n",
       "      <td>2018.06.04</td>\n",
       "      <td>2018.06.04</td>\n",
       "      <td>6299.0</td>\n",
       "      <td>27.39</td>\n",
       "    </tr>\n",
       "  </tbody>\n",
       "</table>\n",
       "</div>"
      ],
      "text/plain": [
       "  Case Number         Date  Year        Type Country, ocean or sea  \\\n",
       "0  2018.06.25  25-Jun-2018  2018     Boating                   USA   \n",
       "1  2018.06.18  18-Jun-2018  2018  Unprovoked                   USA   \n",
       "2  2018.06.09  09-Jun-2018  2018     Invalid                   USA   \n",
       "3  2018.06.08  08-Jun-2018  2018  Unprovoked             AUSTRALIA   \n",
       "4  2018.06.04  04-Jun-2018  2018    Provoked                MEXICO   \n",
       "\n",
       "              Area  Activity             Name Sex  Age  \\\n",
       "0       California   Unknown      Julie Wolfe    F  57   \n",
       "1          Georgia  Standing  Adyson McNeely     F  11   \n",
       "2           Hawaii   Surfing      John Denges    M  48   \n",
       "3  New South Wales   Surfing          Unknown    M   0   \n",
       "4           Colima    Diving   Gustavo Ramos     M   0   \n",
       "\n",
       "                                              Injury Fatal (Y/N)  \\\n",
       "0  No injury to occupant, outrigger canoe and pad...           N   \n",
       "1                         Minor injury to left thigh           N   \n",
       "2       Injury to left lower leg from surfboard skeg           N   \n",
       "3                          Minor injury to lower leg           N   \n",
       "4  Lacerations to leg & hand shark PROVOKED INCIDENT           N   \n",
       "\n",
       "          Species           Investigator or Source                       pdf  \\\n",
       "0      White shark                R. Collier, GSAF      2018.06.25-Wolfe.pdf   \n",
       "1            Shark  K.McMurray, TrackingSharks.com    2018.06.18-McNeely.pdf   \n",
       "2            Shark  K.McMurray, TrackingSharks.com     2018.06.09-Denges.pdf   \n",
       "3        2 m shark                  B. Myatt, GSAF  2018.06.08-Arrawarra.pdf   \n",
       "4  Tiger shark, 3m                       A .Kipper      2018.06.04-Ramos.pdf   \n",
       "\n",
       "                                        href formula  \\\n",
       "0  http://sharkattackfile.net/spreadsheets/pdf_di...   \n",
       "1  http://sharkattackfile.net/spreadsheets/pdf_di...   \n",
       "2  http://sharkattackfile.net/spreadsheets/pdf_di...   \n",
       "3  http://sharkattackfile.net/spreadsheets/pdf_di...   \n",
       "4  http://sharkattackfile.net/spreadsheets/pdf_di...   \n",
       "\n",
       "                                                href Case Number.1  \\\n",
       "0  http://sharkattackfile.net/spreadsheets/pdf_di...    2018.06.25   \n",
       "1  http://sharkattackfile.net/spreadsheets/pdf_di...    2018.06.18   \n",
       "2  http://sharkattackfile.net/spreadsheets/pdf_di...    2018.06.09   \n",
       "3  http://sharkattackfile.net/spreadsheets/pdf_di...    2018.06.08   \n",
       "4  http://sharkattackfile.net/spreadsheets/pdf_di...    2018.06.04   \n",
       "\n",
       "  Case Number.2  original order   Age2  \n",
       "0    2018.06.25          6303.0  57.00  \n",
       "1    2018.06.18          6302.0  11.00  \n",
       "2    2018.06.09          6301.0  48.00  \n",
       "3    2018.06.08          6300.0  27.39  \n",
       "4    2018.06.04          6299.0  27.39  "
      ]
     },
     "execution_count": 143,
     "metadata": {},
     "output_type": "execute_result"
    }
   ],
   "source": [
    "df.head()"
   ]
  },
  {
   "cell_type": "code",
   "execution_count": 144,
   "id": "9fa6b721",
   "metadata": {},
   "outputs": [
    {
     "data": {
      "text/plain": [
       "Int64Index([  16,   20,   31,   44,   79,  115,  153,  159,  189,  195,\n",
       "            ...\n",
       "            5989, 6012, 6014, 6035, 6037, 6046, 6078, 6111, 6126, 6164],\n",
       "           dtype='int64', length=336)"
      ]
     },
     "execution_count": 144,
     "metadata": {},
     "output_type": "execute_result"
    }
   ],
   "source": [
    "indices = df[df[\"Species \"].str.contains('|'.join(palabras_clave))].index\n",
    "indices"
   ]
  },
  {
   "cell_type": "code",
   "execution_count": 145,
   "id": "e472b1f0",
   "metadata": {},
   "outputs": [],
   "source": [
    "df = df.drop(indices)"
   ]
  },
  {
   "cell_type": "code",
   "execution_count": 146,
   "id": "5650dd89",
   "metadata": {},
   "outputs": [
    {
     "data": {
      "text/plain": [
       "Shark          2465\n",
       "White shark     139\n",
       "Invalid          87\n",
       "Tiger shark      66\n",
       "Bull shark       46\n",
       "Name: Species , dtype: int64"
      ]
     },
     "execution_count": 146,
     "metadata": {},
     "output_type": "execute_result"
    }
   ],
   "source": [
    "df[\"Species \"].value_counts().head()"
   ]
  },
  {
   "cell_type": "markdown",
   "id": "1c864275",
   "metadata": {},
   "source": [
    "Así, me parecía también necesario el cambio del nombre de la columna, pues ya no consistiría en la especificación de la especie y característics del tiburón sino únicamente en la afirmación de que lo había sido."
   ]
  },
  {
   "cell_type": "code",
   "execution_count": 147,
   "id": "a3d63e72",
   "metadata": {},
   "outputs": [],
   "source": [
    "df[\"Species \"] = \"Shark involved\""
   ]
  },
  {
   "cell_type": "code",
   "execution_count": 148,
   "id": "ca1ae292",
   "metadata": {},
   "outputs": [
    {
     "data": {
      "text/plain": [
       "Shark involved    5217\n",
       "Name: Species , dtype: int64"
      ]
     },
     "execution_count": 148,
     "metadata": {},
     "output_type": "execute_result"
    }
   ],
   "source": [
    "df[\"Species \"].value_counts().head()"
   ]
  },
  {
   "cell_type": "code",
   "execution_count": 149,
   "id": "5742799a",
   "metadata": {},
   "outputs": [],
   "source": [
    "df = df.rename(columns={\"Species \": \"Animal involved\"})"
   ]
  },
  {
   "cell_type": "code",
   "execution_count": 150,
   "id": "b7f58a7e",
   "metadata": {},
   "outputs": [
    {
     "data": {
      "text/html": [
       "<div>\n",
       "<style scoped>\n",
       "    .dataframe tbody tr th:only-of-type {\n",
       "        vertical-align: middle;\n",
       "    }\n",
       "\n",
       "    .dataframe tbody tr th {\n",
       "        vertical-align: top;\n",
       "    }\n",
       "\n",
       "    .dataframe thead th {\n",
       "        text-align: right;\n",
       "    }\n",
       "</style>\n",
       "<table border=\"1\" class=\"dataframe\">\n",
       "  <thead>\n",
       "    <tr style=\"text-align: right;\">\n",
       "      <th></th>\n",
       "      <th>Case Number</th>\n",
       "      <th>Date</th>\n",
       "      <th>Year</th>\n",
       "      <th>Type</th>\n",
       "      <th>Country, ocean or sea</th>\n",
       "      <th>Area</th>\n",
       "      <th>Activity</th>\n",
       "      <th>Name</th>\n",
       "      <th>Sex</th>\n",
       "      <th>Age</th>\n",
       "      <th>Injury</th>\n",
       "      <th>Fatal (Y/N)</th>\n",
       "      <th>Animal involved</th>\n",
       "      <th>Investigator or Source</th>\n",
       "      <th>pdf</th>\n",
       "      <th>href formula</th>\n",
       "      <th>href</th>\n",
       "      <th>Case Number.1</th>\n",
       "      <th>Case Number.2</th>\n",
       "      <th>original order</th>\n",
       "      <th>Age2</th>\n",
       "    </tr>\n",
       "  </thead>\n",
       "  <tbody>\n",
       "    <tr>\n",
       "      <th>0</th>\n",
       "      <td>2018.06.25</td>\n",
       "      <td>25-Jun-2018</td>\n",
       "      <td>2018</td>\n",
       "      <td>Boating</td>\n",
       "      <td>USA</td>\n",
       "      <td>California</td>\n",
       "      <td>Unknown</td>\n",
       "      <td>Julie Wolfe</td>\n",
       "      <td>F</td>\n",
       "      <td>57</td>\n",
       "      <td>No injury to occupant, outrigger canoe and pad...</td>\n",
       "      <td>N</td>\n",
       "      <td>Shark involved</td>\n",
       "      <td>R. Collier, GSAF</td>\n",
       "      <td>2018.06.25-Wolfe.pdf</td>\n",
       "      <td>http://sharkattackfile.net/spreadsheets/pdf_di...</td>\n",
       "      <td>http://sharkattackfile.net/spreadsheets/pdf_di...</td>\n",
       "      <td>2018.06.25</td>\n",
       "      <td>2018.06.25</td>\n",
       "      <td>6303.0</td>\n",
       "      <td>57.00</td>\n",
       "    </tr>\n",
       "    <tr>\n",
       "      <th>1</th>\n",
       "      <td>2018.06.18</td>\n",
       "      <td>18-Jun-2018</td>\n",
       "      <td>2018</td>\n",
       "      <td>Unprovoked</td>\n",
       "      <td>USA</td>\n",
       "      <td>Georgia</td>\n",
       "      <td>Standing</td>\n",
       "      <td>Adyson McNeely</td>\n",
       "      <td>F</td>\n",
       "      <td>11</td>\n",
       "      <td>Minor injury to left thigh</td>\n",
       "      <td>N</td>\n",
       "      <td>Shark involved</td>\n",
       "      <td>K.McMurray, TrackingSharks.com</td>\n",
       "      <td>2018.06.18-McNeely.pdf</td>\n",
       "      <td>http://sharkattackfile.net/spreadsheets/pdf_di...</td>\n",
       "      <td>http://sharkattackfile.net/spreadsheets/pdf_di...</td>\n",
       "      <td>2018.06.18</td>\n",
       "      <td>2018.06.18</td>\n",
       "      <td>6302.0</td>\n",
       "      <td>11.00</td>\n",
       "    </tr>\n",
       "    <tr>\n",
       "      <th>2</th>\n",
       "      <td>2018.06.09</td>\n",
       "      <td>09-Jun-2018</td>\n",
       "      <td>2018</td>\n",
       "      <td>Invalid</td>\n",
       "      <td>USA</td>\n",
       "      <td>Hawaii</td>\n",
       "      <td>Surfing</td>\n",
       "      <td>John Denges</td>\n",
       "      <td>M</td>\n",
       "      <td>48</td>\n",
       "      <td>Injury to left lower leg from surfboard skeg</td>\n",
       "      <td>N</td>\n",
       "      <td>Shark involved</td>\n",
       "      <td>K.McMurray, TrackingSharks.com</td>\n",
       "      <td>2018.06.09-Denges.pdf</td>\n",
       "      <td>http://sharkattackfile.net/spreadsheets/pdf_di...</td>\n",
       "      <td>http://sharkattackfile.net/spreadsheets/pdf_di...</td>\n",
       "      <td>2018.06.09</td>\n",
       "      <td>2018.06.09</td>\n",
       "      <td>6301.0</td>\n",
       "      <td>48.00</td>\n",
       "    </tr>\n",
       "    <tr>\n",
       "      <th>3</th>\n",
       "      <td>2018.06.08</td>\n",
       "      <td>08-Jun-2018</td>\n",
       "      <td>2018</td>\n",
       "      <td>Unprovoked</td>\n",
       "      <td>AUSTRALIA</td>\n",
       "      <td>New South Wales</td>\n",
       "      <td>Surfing</td>\n",
       "      <td>Unknown</td>\n",
       "      <td>M</td>\n",
       "      <td>0</td>\n",
       "      <td>Minor injury to lower leg</td>\n",
       "      <td>N</td>\n",
       "      <td>Shark involved</td>\n",
       "      <td>B. Myatt, GSAF</td>\n",
       "      <td>2018.06.08-Arrawarra.pdf</td>\n",
       "      <td>http://sharkattackfile.net/spreadsheets/pdf_di...</td>\n",
       "      <td>http://sharkattackfile.net/spreadsheets/pdf_di...</td>\n",
       "      <td>2018.06.08</td>\n",
       "      <td>2018.06.08</td>\n",
       "      <td>6300.0</td>\n",
       "      <td>27.39</td>\n",
       "    </tr>\n",
       "    <tr>\n",
       "      <th>4</th>\n",
       "      <td>2018.06.04</td>\n",
       "      <td>04-Jun-2018</td>\n",
       "      <td>2018</td>\n",
       "      <td>Provoked</td>\n",
       "      <td>MEXICO</td>\n",
       "      <td>Colima</td>\n",
       "      <td>Diving</td>\n",
       "      <td>Gustavo Ramos</td>\n",
       "      <td>M</td>\n",
       "      <td>0</td>\n",
       "      <td>Lacerations to leg &amp; hand shark PROVOKED INCIDENT</td>\n",
       "      <td>N</td>\n",
       "      <td>Shark involved</td>\n",
       "      <td>A .Kipper</td>\n",
       "      <td>2018.06.04-Ramos.pdf</td>\n",
       "      <td>http://sharkattackfile.net/spreadsheets/pdf_di...</td>\n",
       "      <td>http://sharkattackfile.net/spreadsheets/pdf_di...</td>\n",
       "      <td>2018.06.04</td>\n",
       "      <td>2018.06.04</td>\n",
       "      <td>6299.0</td>\n",
       "      <td>27.39</td>\n",
       "    </tr>\n",
       "  </tbody>\n",
       "</table>\n",
       "</div>"
      ],
      "text/plain": [
       "  Case Number         Date  Year        Type Country, ocean or sea  \\\n",
       "0  2018.06.25  25-Jun-2018  2018     Boating                   USA   \n",
       "1  2018.06.18  18-Jun-2018  2018  Unprovoked                   USA   \n",
       "2  2018.06.09  09-Jun-2018  2018     Invalid                   USA   \n",
       "3  2018.06.08  08-Jun-2018  2018  Unprovoked             AUSTRALIA   \n",
       "4  2018.06.04  04-Jun-2018  2018    Provoked                MEXICO   \n",
       "\n",
       "              Area  Activity             Name Sex  Age  \\\n",
       "0       California   Unknown      Julie Wolfe    F  57   \n",
       "1          Georgia  Standing  Adyson McNeely     F  11   \n",
       "2           Hawaii   Surfing      John Denges    M  48   \n",
       "3  New South Wales   Surfing          Unknown    M   0   \n",
       "4           Colima    Diving   Gustavo Ramos     M   0   \n",
       "\n",
       "                                              Injury Fatal (Y/N)  \\\n",
       "0  No injury to occupant, outrigger canoe and pad...           N   \n",
       "1                         Minor injury to left thigh           N   \n",
       "2       Injury to left lower leg from surfboard skeg           N   \n",
       "3                          Minor injury to lower leg           N   \n",
       "4  Lacerations to leg & hand shark PROVOKED INCIDENT           N   \n",
       "\n",
       "  Animal involved          Investigator or Source                       pdf  \\\n",
       "0  Shark involved                R. Collier, GSAF      2018.06.25-Wolfe.pdf   \n",
       "1  Shark involved  K.McMurray, TrackingSharks.com    2018.06.18-McNeely.pdf   \n",
       "2  Shark involved  K.McMurray, TrackingSharks.com     2018.06.09-Denges.pdf   \n",
       "3  Shark involved                  B. Myatt, GSAF  2018.06.08-Arrawarra.pdf   \n",
       "4  Shark involved                       A .Kipper      2018.06.04-Ramos.pdf   \n",
       "\n",
       "                                        href formula  \\\n",
       "0  http://sharkattackfile.net/spreadsheets/pdf_di...   \n",
       "1  http://sharkattackfile.net/spreadsheets/pdf_di...   \n",
       "2  http://sharkattackfile.net/spreadsheets/pdf_di...   \n",
       "3  http://sharkattackfile.net/spreadsheets/pdf_di...   \n",
       "4  http://sharkattackfile.net/spreadsheets/pdf_di...   \n",
       "\n",
       "                                                href Case Number.1  \\\n",
       "0  http://sharkattackfile.net/spreadsheets/pdf_di...    2018.06.25   \n",
       "1  http://sharkattackfile.net/spreadsheets/pdf_di...    2018.06.18   \n",
       "2  http://sharkattackfile.net/spreadsheets/pdf_di...    2018.06.09   \n",
       "3  http://sharkattackfile.net/spreadsheets/pdf_di...    2018.06.08   \n",
       "4  http://sharkattackfile.net/spreadsheets/pdf_di...    2018.06.04   \n",
       "\n",
       "  Case Number.2  original order   Age2  \n",
       "0    2018.06.25          6303.0  57.00  \n",
       "1    2018.06.18          6302.0  11.00  \n",
       "2    2018.06.09          6301.0  48.00  \n",
       "3    2018.06.08          6300.0  27.39  \n",
       "4    2018.06.04          6299.0  27.39  "
      ]
     },
     "execution_count": 150,
     "metadata": {},
     "output_type": "execute_result"
    }
   ],
   "source": [
    "df.head()"
   ]
  },
  {
   "cell_type": "code",
   "execution_count": 151,
   "id": "362cc147",
   "metadata": {},
   "outputs": [
    {
     "data": {
      "text/plain": [
       "(5217, 21)"
      ]
     },
     "execution_count": 151,
     "metadata": {},
     "output_type": "execute_result"
    }
   ],
   "source": [
    "df.shape"
   ]
  },
  {
   "cell_type": "code",
   "execution_count": 152,
   "id": "8e0ecb97",
   "metadata": {},
   "outputs": [
    {
     "data": {
      "text/plain": [
       "False"
      ]
     },
     "execution_count": 152,
     "metadata": {},
     "output_type": "execute_result"
    }
   ],
   "source": [
    "#Volvemos a comprobar duplicados:\n",
    "\n",
    "df.duplicated().any()"
   ]
  },
  {
   "cell_type": "markdown",
   "id": "2dc8f110",
   "metadata": {},
   "source": [
    "# 6. Breve análisis de los datos obtenidos (esto lo dejo para estudios posteriores)"
   ]
  },
  {
   "cell_type": "markdown",
   "id": "7623d10c",
   "metadata": {},
   "source": [
    "Mi enfoque principal al llevar a cabo este proyecto no se ha centrado en la obtención de resultados específicos para el análisis de un conjunto particular de variables. Más bien, mi objetivo primordial ha sido el de realizar una limpieza, columna a columna, de los datos proporcionados (en un intento de que fuera integral y exhaustiva). \n",
    "\n",
    "La fase de limpieza de datos ha sido el núcleo central o eje vertebrador del trabajo, pues mi intención, más allá de la obtención de resultados específicos, ha sido la de \"preparar\" los datos de manera que sean aptos para su uso en diversos estudios, independientemente de los objetivos que se quieran alcanzar. Es decir, para analizar las relaciones o discrepancias entre todas las variables disponibles (aunque, por supuesto, algunos datos como el nombre de la fuente u otros de naturaleza similar no me han parecido tan relevantes como otros).\n",
    "\n",
    "Por lo tanto, concluyo aquí con lo que sería el tronco del proyecto, la  parte central del mismo. Sin embargo, cabe destacar que al observar los datos resultantes, se manifiestan diversas evidencias que podrían resultar interesantes para futuros trabajos. A continuación, intentaré presentar de manera superficial algunas de estas observaciones, resaltando que podrían ser valiosas para investigaciones posteriores."
   ]
  },
  {
   "cell_type": "code",
   "execution_count": 153,
   "id": "a7380572",
   "metadata": {},
   "outputs": [
    {
     "data": {
      "text/html": [
       "<div>\n",
       "<style scoped>\n",
       "    .dataframe tbody tr th:only-of-type {\n",
       "        vertical-align: middle;\n",
       "    }\n",
       "\n",
       "    .dataframe tbody tr th {\n",
       "        vertical-align: top;\n",
       "    }\n",
       "\n",
       "    .dataframe thead th {\n",
       "        text-align: right;\n",
       "    }\n",
       "</style>\n",
       "<table border=\"1\" class=\"dataframe\">\n",
       "  <thead>\n",
       "    <tr style=\"text-align: right;\">\n",
       "      <th></th>\n",
       "      <th>Case Number</th>\n",
       "      <th>Date</th>\n",
       "      <th>Year</th>\n",
       "      <th>Type</th>\n",
       "      <th>Country, ocean or sea</th>\n",
       "      <th>Area</th>\n",
       "      <th>Activity</th>\n",
       "      <th>Name</th>\n",
       "      <th>Sex</th>\n",
       "      <th>Age</th>\n",
       "      <th>Injury</th>\n",
       "      <th>Fatal (Y/N)</th>\n",
       "      <th>Animal involved</th>\n",
       "      <th>Investigator or Source</th>\n",
       "      <th>pdf</th>\n",
       "      <th>href formula</th>\n",
       "      <th>href</th>\n",
       "      <th>Case Number.1</th>\n",
       "      <th>Case Number.2</th>\n",
       "      <th>original order</th>\n",
       "      <th>Age2</th>\n",
       "    </tr>\n",
       "  </thead>\n",
       "  <tbody>\n",
       "    <tr>\n",
       "      <th>0</th>\n",
       "      <td>2018.06.25</td>\n",
       "      <td>25-Jun-2018</td>\n",
       "      <td>2018</td>\n",
       "      <td>Boating</td>\n",
       "      <td>USA</td>\n",
       "      <td>California</td>\n",
       "      <td>Unknown</td>\n",
       "      <td>Julie Wolfe</td>\n",
       "      <td>F</td>\n",
       "      <td>57</td>\n",
       "      <td>No injury to occupant, outrigger canoe and pad...</td>\n",
       "      <td>N</td>\n",
       "      <td>Shark involved</td>\n",
       "      <td>R. Collier, GSAF</td>\n",
       "      <td>2018.06.25-Wolfe.pdf</td>\n",
       "      <td>http://sharkattackfile.net/spreadsheets/pdf_di...</td>\n",
       "      <td>http://sharkattackfile.net/spreadsheets/pdf_di...</td>\n",
       "      <td>2018.06.25</td>\n",
       "      <td>2018.06.25</td>\n",
       "      <td>6303.0</td>\n",
       "      <td>57.00</td>\n",
       "    </tr>\n",
       "    <tr>\n",
       "      <th>1</th>\n",
       "      <td>2018.06.18</td>\n",
       "      <td>18-Jun-2018</td>\n",
       "      <td>2018</td>\n",
       "      <td>Unprovoked</td>\n",
       "      <td>USA</td>\n",
       "      <td>Georgia</td>\n",
       "      <td>Standing</td>\n",
       "      <td>Adyson McNeely</td>\n",
       "      <td>F</td>\n",
       "      <td>11</td>\n",
       "      <td>Minor injury to left thigh</td>\n",
       "      <td>N</td>\n",
       "      <td>Shark involved</td>\n",
       "      <td>K.McMurray, TrackingSharks.com</td>\n",
       "      <td>2018.06.18-McNeely.pdf</td>\n",
       "      <td>http://sharkattackfile.net/spreadsheets/pdf_di...</td>\n",
       "      <td>http://sharkattackfile.net/spreadsheets/pdf_di...</td>\n",
       "      <td>2018.06.18</td>\n",
       "      <td>2018.06.18</td>\n",
       "      <td>6302.0</td>\n",
       "      <td>11.00</td>\n",
       "    </tr>\n",
       "    <tr>\n",
       "      <th>2</th>\n",
       "      <td>2018.06.09</td>\n",
       "      <td>09-Jun-2018</td>\n",
       "      <td>2018</td>\n",
       "      <td>Invalid</td>\n",
       "      <td>USA</td>\n",
       "      <td>Hawaii</td>\n",
       "      <td>Surfing</td>\n",
       "      <td>John Denges</td>\n",
       "      <td>M</td>\n",
       "      <td>48</td>\n",
       "      <td>Injury to left lower leg from surfboard skeg</td>\n",
       "      <td>N</td>\n",
       "      <td>Shark involved</td>\n",
       "      <td>K.McMurray, TrackingSharks.com</td>\n",
       "      <td>2018.06.09-Denges.pdf</td>\n",
       "      <td>http://sharkattackfile.net/spreadsheets/pdf_di...</td>\n",
       "      <td>http://sharkattackfile.net/spreadsheets/pdf_di...</td>\n",
       "      <td>2018.06.09</td>\n",
       "      <td>2018.06.09</td>\n",
       "      <td>6301.0</td>\n",
       "      <td>48.00</td>\n",
       "    </tr>\n",
       "    <tr>\n",
       "      <th>3</th>\n",
       "      <td>2018.06.08</td>\n",
       "      <td>08-Jun-2018</td>\n",
       "      <td>2018</td>\n",
       "      <td>Unprovoked</td>\n",
       "      <td>AUSTRALIA</td>\n",
       "      <td>New South Wales</td>\n",
       "      <td>Surfing</td>\n",
       "      <td>Unknown</td>\n",
       "      <td>M</td>\n",
       "      <td>0</td>\n",
       "      <td>Minor injury to lower leg</td>\n",
       "      <td>N</td>\n",
       "      <td>Shark involved</td>\n",
       "      <td>B. Myatt, GSAF</td>\n",
       "      <td>2018.06.08-Arrawarra.pdf</td>\n",
       "      <td>http://sharkattackfile.net/spreadsheets/pdf_di...</td>\n",
       "      <td>http://sharkattackfile.net/spreadsheets/pdf_di...</td>\n",
       "      <td>2018.06.08</td>\n",
       "      <td>2018.06.08</td>\n",
       "      <td>6300.0</td>\n",
       "      <td>27.39</td>\n",
       "    </tr>\n",
       "    <tr>\n",
       "      <th>4</th>\n",
       "      <td>2018.06.04</td>\n",
       "      <td>04-Jun-2018</td>\n",
       "      <td>2018</td>\n",
       "      <td>Provoked</td>\n",
       "      <td>MEXICO</td>\n",
       "      <td>Colima</td>\n",
       "      <td>Diving</td>\n",
       "      <td>Gustavo Ramos</td>\n",
       "      <td>M</td>\n",
       "      <td>0</td>\n",
       "      <td>Lacerations to leg &amp; hand shark PROVOKED INCIDENT</td>\n",
       "      <td>N</td>\n",
       "      <td>Shark involved</td>\n",
       "      <td>A .Kipper</td>\n",
       "      <td>2018.06.04-Ramos.pdf</td>\n",
       "      <td>http://sharkattackfile.net/spreadsheets/pdf_di...</td>\n",
       "      <td>http://sharkattackfile.net/spreadsheets/pdf_di...</td>\n",
       "      <td>2018.06.04</td>\n",
       "      <td>2018.06.04</td>\n",
       "      <td>6299.0</td>\n",
       "      <td>27.39</td>\n",
       "    </tr>\n",
       "  </tbody>\n",
       "</table>\n",
       "</div>"
      ],
      "text/plain": [
       "  Case Number         Date  Year        Type Country, ocean or sea  \\\n",
       "0  2018.06.25  25-Jun-2018  2018     Boating                   USA   \n",
       "1  2018.06.18  18-Jun-2018  2018  Unprovoked                   USA   \n",
       "2  2018.06.09  09-Jun-2018  2018     Invalid                   USA   \n",
       "3  2018.06.08  08-Jun-2018  2018  Unprovoked             AUSTRALIA   \n",
       "4  2018.06.04  04-Jun-2018  2018    Provoked                MEXICO   \n",
       "\n",
       "              Area  Activity             Name Sex  Age  \\\n",
       "0       California   Unknown      Julie Wolfe    F  57   \n",
       "1          Georgia  Standing  Adyson McNeely     F  11   \n",
       "2           Hawaii   Surfing      John Denges    M  48   \n",
       "3  New South Wales   Surfing          Unknown    M   0   \n",
       "4           Colima    Diving   Gustavo Ramos     M   0   \n",
       "\n",
       "                                              Injury Fatal (Y/N)  \\\n",
       "0  No injury to occupant, outrigger canoe and pad...           N   \n",
       "1                         Minor injury to left thigh           N   \n",
       "2       Injury to left lower leg from surfboard skeg           N   \n",
       "3                          Minor injury to lower leg           N   \n",
       "4  Lacerations to leg & hand shark PROVOKED INCIDENT           N   \n",
       "\n",
       "  Animal involved          Investigator or Source                       pdf  \\\n",
       "0  Shark involved                R. Collier, GSAF      2018.06.25-Wolfe.pdf   \n",
       "1  Shark involved  K.McMurray, TrackingSharks.com    2018.06.18-McNeely.pdf   \n",
       "2  Shark involved  K.McMurray, TrackingSharks.com     2018.06.09-Denges.pdf   \n",
       "3  Shark involved                  B. Myatt, GSAF  2018.06.08-Arrawarra.pdf   \n",
       "4  Shark involved                       A .Kipper      2018.06.04-Ramos.pdf   \n",
       "\n",
       "                                        href formula  \\\n",
       "0  http://sharkattackfile.net/spreadsheets/pdf_di...   \n",
       "1  http://sharkattackfile.net/spreadsheets/pdf_di...   \n",
       "2  http://sharkattackfile.net/spreadsheets/pdf_di...   \n",
       "3  http://sharkattackfile.net/spreadsheets/pdf_di...   \n",
       "4  http://sharkattackfile.net/spreadsheets/pdf_di...   \n",
       "\n",
       "                                                href Case Number.1  \\\n",
       "0  http://sharkattackfile.net/spreadsheets/pdf_di...    2018.06.25   \n",
       "1  http://sharkattackfile.net/spreadsheets/pdf_di...    2018.06.18   \n",
       "2  http://sharkattackfile.net/spreadsheets/pdf_di...    2018.06.09   \n",
       "3  http://sharkattackfile.net/spreadsheets/pdf_di...    2018.06.08   \n",
       "4  http://sharkattackfile.net/spreadsheets/pdf_di...    2018.06.04   \n",
       "\n",
       "  Case Number.2  original order   Age2  \n",
       "0    2018.06.25          6303.0  57.00  \n",
       "1    2018.06.18          6302.0  11.00  \n",
       "2    2018.06.09          6301.0  48.00  \n",
       "3    2018.06.08          6300.0  27.39  \n",
       "4    2018.06.04          6299.0  27.39  "
      ]
     },
     "execution_count": 153,
     "metadata": {},
     "output_type": "execute_result"
    }
   ],
   "source": [
    "df.head()"
   ]
  },
  {
   "cell_type": "code",
   "execution_count": 154,
   "id": "cfc6c95f",
   "metadata": {},
   "outputs": [
    {
     "data": {
      "text/plain": [
       "(5217, 21)"
      ]
     },
     "execution_count": 154,
     "metadata": {},
     "output_type": "execute_result"
    }
   ],
   "source": [
    "df.shape"
   ]
  },
  {
   "cell_type": "code",
   "execution_count": 156,
   "id": "b727f0a8",
   "metadata": {},
   "outputs": [
    {
     "data": {
      "text/html": [
       "<div>\n",
       "<style scoped>\n",
       "    .dataframe tbody tr th:only-of-type {\n",
       "        vertical-align: middle;\n",
       "    }\n",
       "\n",
       "    .dataframe tbody tr th {\n",
       "        vertical-align: top;\n",
       "    }\n",
       "\n",
       "    .dataframe thead th {\n",
       "        text-align: right;\n",
       "    }\n",
       "</style>\n",
       "<table border=\"1\" class=\"dataframe\">\n",
       "  <thead>\n",
       "    <tr style=\"text-align: right;\">\n",
       "      <th></th>\n",
       "      <th>count</th>\n",
       "      <th>mean</th>\n",
       "      <th>std</th>\n",
       "      <th>min</th>\n",
       "      <th>25%</th>\n",
       "      <th>50%</th>\n",
       "      <th>75%</th>\n",
       "      <th>max</th>\n",
       "    </tr>\n",
       "  </thead>\n",
       "  <tbody>\n",
       "    <tr>\n",
       "      <th>Year</th>\n",
       "      <td>5217.0</td>\n",
       "      <td>1969.071880</td>\n",
       "      <td>47.149709</td>\n",
       "      <td>1543.0</td>\n",
       "      <td>1947.0</td>\n",
       "      <td>1983.00</td>\n",
       "      <td>2006.00</td>\n",
       "      <td>2018.0</td>\n",
       "    </tr>\n",
       "    <tr>\n",
       "      <th>original order</th>\n",
       "      <td>5217.0</td>\n",
       "      <td>3296.989266</td>\n",
       "      <td>1796.477750</td>\n",
       "      <td>130.0</td>\n",
       "      <td>1730.0</td>\n",
       "      <td>3352.00</td>\n",
       "      <td>4873.00</td>\n",
       "      <td>6303.0</td>\n",
       "    </tr>\n",
       "    <tr>\n",
       "      <th>Age2</th>\n",
       "      <td>5217.0</td>\n",
       "      <td>27.348108</td>\n",
       "      <td>10.719952</td>\n",
       "      <td>1.0</td>\n",
       "      <td>21.0</td>\n",
       "      <td>27.39</td>\n",
       "      <td>27.39</td>\n",
       "      <td>87.0</td>\n",
       "    </tr>\n",
       "  </tbody>\n",
       "</table>\n",
       "</div>"
      ],
      "text/plain": [
       "                 count         mean          std     min     25%      50%  \\\n",
       "Year            5217.0  1969.071880    47.149709  1543.0  1947.0  1983.00   \n",
       "original order  5217.0  3296.989266  1796.477750   130.0  1730.0  3352.00   \n",
       "Age2            5217.0    27.348108    10.719952     1.0    21.0    27.39   \n",
       "\n",
       "                    75%     max  \n",
       "Year            2006.00  2018.0  \n",
       "original order  4873.00  6303.0  \n",
       "Age2              27.39    87.0  "
      ]
     },
     "execution_count": 156,
     "metadata": {},
     "output_type": "execute_result"
    }
   ],
   "source": [
    "df.describe().T"
   ]
  },
  {
   "cell_type": "code",
   "execution_count": 157,
   "id": "00736b01",
   "metadata": {},
   "outputs": [
    {
     "data": {
      "text/html": [
       "<div>\n",
       "<style scoped>\n",
       "    .dataframe tbody tr th:only-of-type {\n",
       "        vertical-align: middle;\n",
       "    }\n",
       "\n",
       "    .dataframe tbody tr th {\n",
       "        vertical-align: top;\n",
       "    }\n",
       "\n",
       "    .dataframe thead th {\n",
       "        text-align: right;\n",
       "    }\n",
       "</style>\n",
       "<table border=\"1\" class=\"dataframe\">\n",
       "  <thead>\n",
       "    <tr style=\"text-align: right;\">\n",
       "      <th></th>\n",
       "      <th>count</th>\n",
       "      <th>unique</th>\n",
       "      <th>top</th>\n",
       "      <th>freq</th>\n",
       "    </tr>\n",
       "  </thead>\n",
       "  <tbody>\n",
       "    <tr>\n",
       "      <th>Case Number</th>\n",
       "      <td>5217</td>\n",
       "      <td>4534</td>\n",
       "      <td>1923.00.00</td>\n",
       "      <td>4</td>\n",
       "    </tr>\n",
       "    <tr>\n",
       "      <th>Date</th>\n",
       "      <td>5217</td>\n",
       "      <td>4560</td>\n",
       "      <td>1941</td>\n",
       "      <td>7</td>\n",
       "    </tr>\n",
       "    <tr>\n",
       "      <th>Type</th>\n",
       "      <td>5217</td>\n",
       "      <td>6</td>\n",
       "      <td>Unprovoked</td>\n",
       "      <td>4263</td>\n",
       "    </tr>\n",
       "    <tr>\n",
       "      <th>Country, ocean or sea</th>\n",
       "      <td>5217</td>\n",
       "      <td>174</td>\n",
       "      <td>USA</td>\n",
       "      <td>1989</td>\n",
       "    </tr>\n",
       "    <tr>\n",
       "      <th>Area</th>\n",
       "      <td>5217</td>\n",
       "      <td>800</td>\n",
       "      <td>Florida</td>\n",
       "      <td>945</td>\n",
       "    </tr>\n",
       "    <tr>\n",
       "      <th>Activity</th>\n",
       "      <td>5217</td>\n",
       "      <td>11</td>\n",
       "      <td>Surfing</td>\n",
       "      <td>1157</td>\n",
       "    </tr>\n",
       "    <tr>\n",
       "      <th>Name</th>\n",
       "      <td>5217</td>\n",
       "      <td>4446</td>\n",
       "      <td>Unknown</td>\n",
       "      <td>734</td>\n",
       "    </tr>\n",
       "    <tr>\n",
       "      <th>Sex</th>\n",
       "      <td>5217</td>\n",
       "      <td>2</td>\n",
       "      <td>M</td>\n",
       "      <td>4640</td>\n",
       "    </tr>\n",
       "    <tr>\n",
       "      <th>Age</th>\n",
       "      <td>5217</td>\n",
       "      <td>142</td>\n",
       "      <td>0</td>\n",
       "      <td>1980</td>\n",
       "    </tr>\n",
       "    <tr>\n",
       "      <th>Injury</th>\n",
       "      <td>5217</td>\n",
       "      <td>3057</td>\n",
       "      <td>FATAL</td>\n",
       "      <td>692</td>\n",
       "    </tr>\n",
       "    <tr>\n",
       "      <th>Fatal (Y/N)</th>\n",
       "      <td>5217</td>\n",
       "      <td>3</td>\n",
       "      <td>N</td>\n",
       "      <td>3983</td>\n",
       "    </tr>\n",
       "    <tr>\n",
       "      <th>Animal involved</th>\n",
       "      <td>5217</td>\n",
       "      <td>1</td>\n",
       "      <td>Shark involved</td>\n",
       "      <td>5217</td>\n",
       "    </tr>\n",
       "    <tr>\n",
       "      <th>Investigator or Source</th>\n",
       "      <td>5217</td>\n",
       "      <td>4201</td>\n",
       "      <td>C. Creswell, GSAF</td>\n",
       "      <td>83</td>\n",
       "    </tr>\n",
       "    <tr>\n",
       "      <th>pdf</th>\n",
       "      <td>5217</td>\n",
       "      <td>5208</td>\n",
       "      <td>1921.11.27.a-b-Jack.pdf</td>\n",
       "      <td>2</td>\n",
       "    </tr>\n",
       "    <tr>\n",
       "      <th>href formula</th>\n",
       "      <td>5217</td>\n",
       "      <td>5208</td>\n",
       "      <td>http://sharkattackfile.net/spreadsheets/pdf_di...</td>\n",
       "      <td>2</td>\n",
       "    </tr>\n",
       "    <tr>\n",
       "      <th>href</th>\n",
       "      <td>5217</td>\n",
       "      <td>5202</td>\n",
       "      <td>http://sharkattackfile.net/spreadsheets/pdf_di...</td>\n",
       "      <td>4</td>\n",
       "    </tr>\n",
       "    <tr>\n",
       "      <th>Case Number.1</th>\n",
       "      <td>5217</td>\n",
       "      <td>5205</td>\n",
       "      <td>2006.09.02</td>\n",
       "      <td>2</td>\n",
       "    </tr>\n",
       "    <tr>\n",
       "      <th>Case Number.2</th>\n",
       "      <td>5217</td>\n",
       "      <td>5205</td>\n",
       "      <td>2006.09.02</td>\n",
       "      <td>2</td>\n",
       "    </tr>\n",
       "  </tbody>\n",
       "</table>\n",
       "</div>"
      ],
      "text/plain": [
       "                       count unique  \\\n",
       "Case Number             5217   4534   \n",
       "Date                    5217   4560   \n",
       "Type                    5217      6   \n",
       "Country, ocean or sea   5217    174   \n",
       "Area                    5217    800   \n",
       "Activity                5217     11   \n",
       "Name                    5217   4446   \n",
       "Sex                     5217      2   \n",
       "Age                     5217    142   \n",
       "Injury                  5217   3057   \n",
       "Fatal (Y/N)             5217      3   \n",
       "Animal involved         5217      1   \n",
       "Investigator or Source  5217   4201   \n",
       "pdf                     5217   5208   \n",
       "href formula            5217   5208   \n",
       "href                    5217   5202   \n",
       "Case Number.1           5217   5205   \n",
       "Case Number.2           5217   5205   \n",
       "\n",
       "                                                                      top  \\\n",
       "Case Number                                                    1923.00.00   \n",
       "Date                                                                 1941   \n",
       "Type                                                           Unprovoked   \n",
       "Country, ocean or sea                                                 USA   \n",
       "Area                                                              Florida   \n",
       "Activity                                                          Surfing   \n",
       "Name                                                              Unknown   \n",
       "Sex                                                                     M   \n",
       "Age                                                                     0   \n",
       "Injury                                                              FATAL   \n",
       "Fatal (Y/N)                                                             N   \n",
       "Animal involved                                            Shark involved   \n",
       "Investigator or Source                                  C. Creswell, GSAF   \n",
       "pdf                                               1921.11.27.a-b-Jack.pdf   \n",
       "href formula            http://sharkattackfile.net/spreadsheets/pdf_di...   \n",
       "href                    http://sharkattackfile.net/spreadsheets/pdf_di...   \n",
       "Case Number.1                                                  2006.09.02   \n",
       "Case Number.2                                                  2006.09.02   \n",
       "\n",
       "                        freq  \n",
       "Case Number                4  \n",
       "Date                       7  \n",
       "Type                    4263  \n",
       "Country, ocean or sea   1989  \n",
       "Area                     945  \n",
       "Activity                1157  \n",
       "Name                     734  \n",
       "Sex                     4640  \n",
       "Age                     1980  \n",
       "Injury                   692  \n",
       "Fatal (Y/N)             3983  \n",
       "Animal involved         5217  \n",
       "Investigator or Source    83  \n",
       "pdf                        2  \n",
       "href formula               2  \n",
       "href                       4  \n",
       "Case Number.1              2  \n",
       "Case Number.2              2  "
      ]
     },
     "execution_count": 157,
     "metadata": {},
     "output_type": "execute_result"
    }
   ],
   "source": [
    "df.describe(include='object').T"
   ]
  },
  {
   "cell_type": "code",
   "execution_count": 158,
   "id": "8f94a066",
   "metadata": {},
   "outputs": [
    {
     "data": {
      "text/plain": [
       "count    5217.000000\n",
       "mean     1969.071880\n",
       "std        47.149709\n",
       "min      1543.000000\n",
       "25%      1947.000000\n",
       "50%      1983.000000\n",
       "75%      2006.000000\n",
       "max      2018.000000\n",
       "Name: Year, dtype: float64"
      ]
     },
     "execution_count": 158,
     "metadata": {},
     "output_type": "execute_result"
    }
   ],
   "source": [
    "df['Year'].describe().T"
   ]
  },
  {
   "cell_type": "code",
   "execution_count": 161,
   "id": "ec94a076",
   "metadata": {},
   "outputs": [],
   "source": [
    "grupos_años = [\"1500-1700\", \"1700-1900\", \"1900-2000\", \"2000-2018\"]\n",
    "bins = [1500, 1700, 1900, 2000, 2018] \n",
    "\n",
    "\n",
    "df['Year_ranges'] = pd.cut(df['Year'], bins=bins, labels=grupos_años)\n"
   ]
  },
  {
   "cell_type": "code",
   "execution_count": 162,
   "id": "613538d7",
   "metadata": {},
   "outputs": [],
   "source": [
    "df['Year_ranges'] = df['Year_ranges'].astype(str)"
   ]
  },
  {
   "cell_type": "code",
   "execution_count": 163,
   "id": "6dd722ea",
   "metadata": {},
   "outputs": [
    {
     "data": {
      "text/plain": [
       "(array([1785., 2937.,  488.,    7.]),\n",
       " array([0.  , 0.75, 1.5 , 2.25, 3.  ]),\n",
       " <BarContainer object of 4 artists>)"
      ]
     },
     "execution_count": 163,
     "metadata": {},
     "output_type": "execute_result"
    },
    {
     "data": {
      "image/png": "[encoded data removed]",
      "text/plain": [
       "<Figure size 640x480 with 1 Axes>"
      ]
     },
     "metadata": {},
     "output_type": "display_data"
    }
   ],
   "source": [
    "plt.hist(df['Year_ranges'], bins=4, edgecolor='k')"
   ]
  },
  {
   "cell_type": "code",
   "execution_count": 164,
   "id": "efa4bf2e",
   "metadata": {},
   "outputs": [],
   "source": [
    "grupos_edad = [\"1-15\", \"15-30\", \"30-45\", \"45-60\", \"60-75\", \"75-90\"]\n",
    "bins = [1, 15, 30, 45, 60, 75, 90]  \n",
    "\n",
    "\n",
    "df['Age2_ranges'] = pd.cut(df['Age2'], bins=bins, labels=grupos_edad)\n",
    "\n"
   ]
  },
  {
   "cell_type": "code",
   "execution_count": 165,
   "id": "abd3c910",
   "metadata": {},
   "outputs": [
    {
     "data": {
      "text/html": [
       "<div>\n",
       "<style scoped>\n",
       "    .dataframe tbody tr th:only-of-type {\n",
       "        vertical-align: middle;\n",
       "    }\n",
       "\n",
       "    .dataframe tbody tr th {\n",
       "        vertical-align: top;\n",
       "    }\n",
       "\n",
       "    .dataframe thead th {\n",
       "        text-align: right;\n",
       "    }\n",
       "</style>\n",
       "<table border=\"1\" class=\"dataframe\">\n",
       "  <thead>\n",
       "    <tr style=\"text-align: right;\">\n",
       "      <th></th>\n",
       "      <th>Case Number</th>\n",
       "      <th>Date</th>\n",
       "      <th>Year</th>\n",
       "      <th>Type</th>\n",
       "      <th>Country, ocean or sea</th>\n",
       "      <th>Area</th>\n",
       "      <th>Activity</th>\n",
       "      <th>Name</th>\n",
       "      <th>Sex</th>\n",
       "      <th>Age</th>\n",
       "      <th>Injury</th>\n",
       "      <th>Fatal (Y/N)</th>\n",
       "      <th>Animal involved</th>\n",
       "      <th>Investigator or Source</th>\n",
       "      <th>pdf</th>\n",
       "      <th>href formula</th>\n",
       "      <th>href</th>\n",
       "      <th>Case Number.1</th>\n",
       "      <th>Case Number.2</th>\n",
       "      <th>original order</th>\n",
       "      <th>Age2</th>\n",
       "      <th>Year_ranges</th>\n",
       "      <th>Age2_ranges</th>\n",
       "    </tr>\n",
       "  </thead>\n",
       "  <tbody>\n",
       "    <tr>\n",
       "      <th>0</th>\n",
       "      <td>2018.06.25</td>\n",
       "      <td>25-Jun-2018</td>\n",
       "      <td>2018</td>\n",
       "      <td>Boating</td>\n",
       "      <td>USA</td>\n",
       "      <td>California</td>\n",
       "      <td>Unknown</td>\n",
       "      <td>Julie Wolfe</td>\n",
       "      <td>F</td>\n",
       "      <td>57</td>\n",
       "      <td>No injury to occupant, outrigger canoe and pad...</td>\n",
       "      <td>N</td>\n",
       "      <td>Shark involved</td>\n",
       "      <td>R. Collier, GSAF</td>\n",
       "      <td>2018.06.25-Wolfe.pdf</td>\n",
       "      <td>http://sharkattackfile.net/spreadsheets/pdf_di...</td>\n",
       "      <td>http://sharkattackfile.net/spreadsheets/pdf_di...</td>\n",
       "      <td>2018.06.25</td>\n",
       "      <td>2018.06.25</td>\n",
       "      <td>6303.0</td>\n",
       "      <td>57.00</td>\n",
       "      <td>2000-2018</td>\n",
       "      <td>45-60</td>\n",
       "    </tr>\n",
       "    <tr>\n",
       "      <th>1</th>\n",
       "      <td>2018.06.18</td>\n",
       "      <td>18-Jun-2018</td>\n",
       "      <td>2018</td>\n",
       "      <td>Unprovoked</td>\n",
       "      <td>USA</td>\n",
       "      <td>Georgia</td>\n",
       "      <td>Standing</td>\n",
       "      <td>Adyson McNeely</td>\n",
       "      <td>F</td>\n",
       "      <td>11</td>\n",
       "      <td>Minor injury to left thigh</td>\n",
       "      <td>N</td>\n",
       "      <td>Shark involved</td>\n",
       "      <td>K.McMurray, TrackingSharks.com</td>\n",
       "      <td>2018.06.18-McNeely.pdf</td>\n",
       "      <td>http://sharkattackfile.net/spreadsheets/pdf_di...</td>\n",
       "      <td>http://sharkattackfile.net/spreadsheets/pdf_di...</td>\n",
       "      <td>2018.06.18</td>\n",
       "      <td>2018.06.18</td>\n",
       "      <td>6302.0</td>\n",
       "      <td>11.00</td>\n",
       "      <td>2000-2018</td>\n",
       "      <td>1-15</td>\n",
       "    </tr>\n",
       "    <tr>\n",
       "      <th>2</th>\n",
       "      <td>2018.06.09</td>\n",
       "      <td>09-Jun-2018</td>\n",
       "      <td>2018</td>\n",
       "      <td>Invalid</td>\n",
       "      <td>USA</td>\n",
       "      <td>Hawaii</td>\n",
       "      <td>Surfing</td>\n",
       "      <td>John Denges</td>\n",
       "      <td>M</td>\n",
       "      <td>48</td>\n",
       "      <td>Injury to left lower leg from surfboard skeg</td>\n",
       "      <td>N</td>\n",
       "      <td>Shark involved</td>\n",
       "      <td>K.McMurray, TrackingSharks.com</td>\n",
       "      <td>2018.06.09-Denges.pdf</td>\n",
       "      <td>http://sharkattackfile.net/spreadsheets/pdf_di...</td>\n",
       "      <td>http://sharkattackfile.net/spreadsheets/pdf_di...</td>\n",
       "      <td>2018.06.09</td>\n",
       "      <td>2018.06.09</td>\n",
       "      <td>6301.0</td>\n",
       "      <td>48.00</td>\n",
       "      <td>2000-2018</td>\n",
       "      <td>45-60</td>\n",
       "    </tr>\n",
       "    <tr>\n",
       "      <th>3</th>\n",
       "      <td>2018.06.08</td>\n",
       "      <td>08-Jun-2018</td>\n",
       "      <td>2018</td>\n",
       "      <td>Unprovoked</td>\n",
       "      <td>AUSTRALIA</td>\n",
       "      <td>New South Wales</td>\n",
       "      <td>Surfing</td>\n",
       "      <td>Unknown</td>\n",
       "      <td>M</td>\n",
       "      <td>0</td>\n",
       "      <td>Minor injury to lower leg</td>\n",
       "      <td>N</td>\n",
       "      <td>Shark involved</td>\n",
       "      <td>B. Myatt, GSAF</td>\n",
       "      <td>2018.06.08-Arrawarra.pdf</td>\n",
       "      <td>http://sharkattackfile.net/spreadsheets/pdf_di...</td>\n",
       "      <td>http://sharkattackfile.net/spreadsheets/pdf_di...</td>\n",
       "      <td>2018.06.08</td>\n",
       "      <td>2018.06.08</td>\n",
       "      <td>6300.0</td>\n",
       "      <td>27.39</td>\n",
       "      <td>2000-2018</td>\n",
       "      <td>15-30</td>\n",
       "    </tr>\n",
       "    <tr>\n",
       "      <th>4</th>\n",
       "      <td>2018.06.04</td>\n",
       "      <td>04-Jun-2018</td>\n",
       "      <td>2018</td>\n",
       "      <td>Provoked</td>\n",
       "      <td>MEXICO</td>\n",
       "      <td>Colima</td>\n",
       "      <td>Diving</td>\n",
       "      <td>Gustavo Ramos</td>\n",
       "      <td>M</td>\n",
       "      <td>0</td>\n",
       "      <td>Lacerations to leg &amp; hand shark PROVOKED INCIDENT</td>\n",
       "      <td>N</td>\n",
       "      <td>Shark involved</td>\n",
       "      <td>A .Kipper</td>\n",
       "      <td>2018.06.04-Ramos.pdf</td>\n",
       "      <td>http://sharkattackfile.net/spreadsheets/pdf_di...</td>\n",
       "      <td>http://sharkattackfile.net/spreadsheets/pdf_di...</td>\n",
       "      <td>2018.06.04</td>\n",
       "      <td>2018.06.04</td>\n",
       "      <td>6299.0</td>\n",
       "      <td>27.39</td>\n",
       "      <td>2000-2018</td>\n",
       "      <td>15-30</td>\n",
       "    </tr>\n",
       "  </tbody>\n",
       "</table>\n",
       "</div>"
      ],
      "text/plain": [
       "  Case Number         Date  Year        Type Country, ocean or sea  \\\n",
       "0  2018.06.25  25-Jun-2018  2018     Boating                   USA   \n",
       "1  2018.06.18  18-Jun-2018  2018  Unprovoked                   USA   \n",
       "2  2018.06.09  09-Jun-2018  2018     Invalid                   USA   \n",
       "3  2018.06.08  08-Jun-2018  2018  Unprovoked             AUSTRALIA   \n",
       "4  2018.06.04  04-Jun-2018  2018    Provoked                MEXICO   \n",
       "\n",
       "              Area  Activity             Name Sex  Age  \\\n",
       "0       California   Unknown      Julie Wolfe    F  57   \n",
       "1          Georgia  Standing  Adyson McNeely     F  11   \n",
       "2           Hawaii   Surfing      John Denges    M  48   \n",
       "3  New South Wales   Surfing          Unknown    M   0   \n",
       "4           Colima    Diving   Gustavo Ramos     M   0   \n",
       "\n",
       "                                              Injury Fatal (Y/N)  \\\n",
       "0  No injury to occupant, outrigger canoe and pad...           N   \n",
       "1                         Minor injury to left thigh           N   \n",
       "2       Injury to left lower leg from surfboard skeg           N   \n",
       "3                          Minor injury to lower leg           N   \n",
       "4  Lacerations to leg & hand shark PROVOKED INCIDENT           N   \n",
       "\n",
       "  Animal involved          Investigator or Source                       pdf  \\\n",
       "0  Shark involved                R. Collier, GSAF      2018.06.25-Wolfe.pdf   \n",
       "1  Shark involved  K.McMurray, TrackingSharks.com    2018.06.18-McNeely.pdf   \n",
       "2  Shark involved  K.McMurray, TrackingSharks.com     2018.06.09-Denges.pdf   \n",
       "3  Shark involved                  B. Myatt, GSAF  2018.06.08-Arrawarra.pdf   \n",
       "4  Shark involved                       A .Kipper      2018.06.04-Ramos.pdf   \n",
       "\n",
       "                                        href formula  \\\n",
       "0  http://sharkattackfile.net/spreadsheets/pdf_di...   \n",
       "1  http://sharkattackfile.net/spreadsheets/pdf_di...   \n",
       "2  http://sharkattackfile.net/spreadsheets/pdf_di...   \n",
       "3  http://sharkattackfile.net/spreadsheets/pdf_di...   \n",
       "4  http://sharkattackfile.net/spreadsheets/pdf_di...   \n",
       "\n",
       "                                                href Case Number.1  \\\n",
       "0  http://sharkattackfile.net/spreadsheets/pdf_di...    2018.06.25   \n",
       "1  http://sharkattackfile.net/spreadsheets/pdf_di...    2018.06.18   \n",
       "2  http://sharkattackfile.net/spreadsheets/pdf_di...    2018.06.09   \n",
       "3  http://sharkattackfile.net/spreadsheets/pdf_di...    2018.06.08   \n",
       "4  http://sharkattackfile.net/spreadsheets/pdf_di...    2018.06.04   \n",
       "\n",
       "  Case Number.2  original order   Age2 Year_ranges Age2_ranges  \n",
       "0    2018.06.25          6303.0  57.00   2000-2018       45-60  \n",
       "1    2018.06.18          6302.0  11.00   2000-2018        1-15  \n",
       "2    2018.06.09          6301.0  48.00   2000-2018       45-60  \n",
       "3    2018.06.08          6300.0  27.39   2000-2018       15-30  \n",
       "4    2018.06.04          6299.0  27.39   2000-2018       15-30  "
      ]
     },
     "execution_count": 165,
     "metadata": {},
     "output_type": "execute_result"
    }
   ],
   "source": [
    "df.head()"
   ]
  },
  {
   "cell_type": "code",
   "execution_count": 166,
   "id": "a303c2ab",
   "metadata": {},
   "outputs": [],
   "source": [
    "df['Age2_ranges'] = df['Age2_ranges'].astype(str)"
   ]
  },
  {
   "cell_type": "code",
   "execution_count": 167,
   "id": "27d4451c",
   "metadata": {},
   "outputs": [
    {
     "data": {
      "text/plain": [
       "(array([ 300.,  569., 3623.,  643.,   71.,   11.]),\n",
       " array([0., 1., 2., 3., 4., 5., 6.]),\n",
       " <BarContainer object of 6 artists>)"
      ]
     },
     "execution_count": 167,
     "metadata": {},
     "output_type": "execute_result"
    },
    {
     "data": {
      "image/png": "[encoded data removed]",
      "text/plain": [
       "<Figure size 640x480 with 1 Axes>"
      ]
     },
     "metadata": {},
     "output_type": "display_data"
    }
   ],
   "source": [
    "plt.hist(df['Age2_ranges'], bins=6, edgecolor='k')"
   ]
  },
  {
   "cell_type": "code",
   "execution_count": 170,
   "id": "486da52c",
   "metadata": {},
   "outputs": [
    {
     "data": {
      "text/plain": [
       "(array([ 577., 4640.]),\n",
       " array([0. , 0.5, 1. ]),\n",
       " <BarContainer object of 2 artists>)"
      ]
     },
     "execution_count": 170,
     "metadata": {},
     "output_type": "execute_result"
    },
    {
     "data": {
      "image/png": "[encoded data removed]",
      "text/plain": [
       "<Figure size 640x480 with 1 Axes>"
      ]
     },
     "metadata": {},
     "output_type": "display_data"
    }
   ],
   "source": [
    "plt.hist(df['Sex '], bins=2, edgecolor='k')"
   ]
  },
  {
   "cell_type": "markdown",
   "id": "934b235f",
   "metadata": {},
   "source": [
    "# 7. Algunas conclusiones pertinentes."
   ]
  },
  {
   "cell_type": "markdown",
   "id": "ebdba323",
   "metadata": {},
   "source": [
    "En esta fase del proyecto, he creado dos nuevas columnas que representan rangos de años y edades con el propósito de facilitar la visualización de datos a través de histogramas. Esto nos permite identificar tendencias y patrones más claramente.\n",
    "\n",
    "Por ejemplo, al observar los histogramas, podemos destacar que existe un período de años en los que se han producido más accidentes. Asimismo, al analizar el rango de edades en los que se registran la mayoría de los incidentes, podemos obtener información relevante sobre los grupos de edad más afectados por los ataques de tiburones y puede ayudarnos a identificar posibles tendencias. Además, al considerar el género, notamos que los ataques son más frecuentes en individuos de sexo masculino.\n",
    "\n",
    "Tras este proyecto de limpieza de un dataframe, he podido darme cuenta de que desempeña un papel fundamental en la preparación de datos para estudios estadísticos futuros, pues es realmente lo que  garantiza la calidad de los mismos, lo que a su vez tiene un impacto inmediato en la validez de los resultados y es lo que, en última instancia, hace que de algún modo u otro, podamos estar más o menos seguros y confíar en los resultados de investigaciones estadísticas.\n"
   ]
  }
 ],
 "metadata": {
  "kernelspec": {
   "display_name": "Python 3 (ipykernel)",
   "language": "python",
   "name": "python3"
  },
  "language_info": {
   "codemirror_mode": {
    "name": "ipython",
    "version": 3
   },
   "file_extension": ".py",
   "mimetype": "text/x-python",
   "name": "python",
   "nbconvert_exporter": "python",
   "pygments_lexer": "ipython3",
   "version": "3.11.4"
  }
 },
 "nbformat": 4,
 "nbformat_minor": 5
}
